{
 "cells": [
  {
   "cell_type": "markdown",
   "metadata": {},
   "source": [
    "# Data Types - Matrices"
   ]
  },
  {
   "cell_type": "code",
   "execution_count": 12,
   "metadata": {},
   "outputs": [
    {
     "name": "stdout",
     "output_type": "stream",
     "text": [
      "     [,1] [,2] [,3]\n",
      "[1,]   NA   NA   NA\n",
      "[2,]   NA   NA   NA\n",
      "[3,]   NA   NA   NA\n",
      "[1] 3 3\n",
      "$dim\n",
      "[1] 3 3\n",
      "\n",
      "     [,1] [,2] [,3]\n",
      "[1,]    1    4    7\n",
      "[2,]    2    5    8\n",
      "[3,]    3    6    9\n",
      "     [,1] [,2] [,3] [,4] [,5]\n",
      "[1,]    1    3    5    7    9\n",
      "[2,]    2    4    6    8   10\n",
      "     x y\n",
      "[1,] 1 1\n",
      "[2,] 2 2\n",
      "[3,] 3 3\n",
      "[4,] 4 4\n",
      "[5,] 5 5\n",
      "  [,1] [,2] [,3] [,4] [,5]\n",
      "x    1    2    3    4    5\n",
      "y    1    2    3    4    5\n"
     ]
    }
   ],
   "source": [
    "# Creating Matrices\n",
    "\n",
    "# Method 1\n",
    "x <- matrix(nrow=3,ncol=3)\n",
    "print(x)\n",
    "print(dim(x))\n",
    "print(attributes(x))\n",
    "\n",
    "# Method 2\n",
    "x <- matrix(1:9,nrow = 3,ncol = 3)\n",
    "print(x)\n",
    "\n",
    "# Method 3\n",
    "m <- 1:10\n",
    "dim(m) <- c(2,5)\n",
    "print(m)\n",
    "\n",
    "# Method 4\n",
    "x <- 1:5\n",
    "y <- 1:5\n",
    "m <- cbind(x,y)\n",
    "print(m)\n",
    "m <- rbind(x,y)\n",
    "print(m)"
   ]
  },
  {
   "cell_type": "markdown",
   "metadata": {},
   "source": [
    "# Data Types - Factors"
   ]
  },
  {
   "cell_type": "code",
   "execution_count": 15,
   "metadata": {},
   "outputs": [
    {
     "name": "stdout",
     "output_type": "stream",
     "text": [
      "[1] yes yes no  no \n",
      "Levels: no yes\n"
     ]
    }
   ],
   "source": [
    "# Create Factors\n",
    "x <- factor(c(\"yes\",\"yes\",\"no\",\"no\"))\n",
    "print(x)"
   ]
  },
  {
   "cell_type": "code",
   "execution_count": 17,
   "metadata": {},
   "outputs": [
    {
     "data": {
      "text/plain": [
       "x\n",
       " no yes \n",
       "  2   2 "
      ]
     },
     "metadata": {},
     "output_type": "display_data"
    }
   ],
   "source": [
    "table(x) # Prints the aggregation of the values."
   ]
  },
  {
   "cell_type": "code",
   "execution_count": 22,
   "metadata": {},
   "outputs": [
    {
     "name": "stdout",
     "output_type": "stream",
     "text": [
      "[1] 2 2 1 1\n",
      "attr(,\"levels\")\n",
      "[1] \"no\"  \"yes\"\n"
     ]
    }
   ],
   "source": [
    "print(unclass(x)) # Gives the details of factor x."
   ]
  },
  {
   "cell_type": "code",
   "execution_count": 27,
   "metadata": {},
   "outputs": [
    {
     "name": "stdout",
     "output_type": "stream",
     "text": [
      "[1] yes yes no  no \n",
      "Levels: yes no\n"
     ]
    }
   ],
   "source": [
    "# Implicitly R sets levels of factors alphabetically.\n",
    "# To explicitly Set level of factors\n",
    "x <- factor(c(\"yes\",\"yes\",\"no\",\"no\"),levels=c(\"yes\",\"no\")) \n",
    "print(x)"
   ]
  },
  {
   "cell_type": "markdown",
   "metadata": {},
   "source": [
    "# Data Types - Missing Values"
   ]
  },
  {
   "cell_type": "code",
   "execution_count": 37,
   "metadata": {},
   "outputs": [
    {
     "name": "stdout",
     "output_type": "stream",
     "text": [
      "[1] FALSE FALSE FALSE  TRUE  TRUE  TRUE\n",
      "[1] FALSE FALSE FALSE FALSE  TRUE FALSE\n"
     ]
    }
   ],
   "source": [
    "# NaN is NA but NA is not NaN.\n",
    "x = c(1,2,3,NA,NaN,NA)\n",
    "print(is.na(x)) # Used to test objects if they are NA.\n",
    "print(is.nan(x)) # Used to test objects if they are NAN."
   ]
  },
  {
   "cell_type": "markdown",
   "metadata": {},
   "source": [
    "# Data Types - DataFrame"
   ]
  },
  {
   "cell_type": "code",
   "execution_count": 2,
   "metadata": {},
   "outputs": [
    {
     "name": "stdout",
     "output_type": "stream",
     "text": [
      "  foo status\n",
      "1   1   TRUE\n",
      "2   2  FALSE\n",
      "3   3   TRUE\n",
      "4   4  FALSE\n",
      "5   5   TRUE\n"
     ]
    }
   ],
   "source": [
    "# to get row name - row.names()\n",
    "# to create DataFrame - read.table() or read.csv()\n",
    "# convert dataframe to matrix - data.matrix()\n",
    "x <- data.frame(foo = 1:5, status=c(T,F,T,F,T))\n",
    "print(x)"
   ]
  },
  {
   "cell_type": "code",
   "execution_count": 6,
   "metadata": {},
   "outputs": [
    {
     "name": "stdout",
     "output_type": "stream",
     "text": [
      "[1] 5\n",
      "[1] 2\n"
     ]
    }
   ],
   "source": [
    "print(nrow(x)) # get the number of rows\n",
    "print(ncol(x)) # get the number of columns"
   ]
  },
  {
   "cell_type": "markdown",
   "metadata": {},
   "source": [
    "# Data Type - Names Attributes"
   ]
  },
  {
   "cell_type": "code",
   "execution_count": 16,
   "metadata": {},
   "outputs": [
    {
     "name": "stdout",
     "output_type": "stream",
     "text": [
      "NULL\n",
      " foo  bar norf \n",
      "   1    2    3 \n",
      "[1] \"foo\"  \"bar\"  \"norf\"\n"
     ]
    }
   ],
   "source": [
    "# Name Attributes on Vector.\n",
    "x <- 1:3\n",
    "print(names(x))\n",
    "names(x) <- c(\"foo\",\"bar\",\"norf\")\n",
    "print(x)\n",
    "print(names(x))"
   ]
  },
  {
   "cell_type": "code",
   "execution_count": 18,
   "metadata": {},
   "outputs": [
    {
     "data": {
      "text/html": [
       "<dl>\n",
       "\t<dt>$a</dt>\n",
       "\t\t<dd>1</dd>\n",
       "\t<dt>$b</dt>\n",
       "\t\t<dd>2</dd>\n",
       "\t<dt>$c</dt>\n",
       "\t\t<dd>3</dd>\n",
       "</dl>\n"
      ],
      "text/latex": [
       "\\begin{description}\n",
       "\\item[\\$a] 1\n",
       "\\item[\\$b] 2\n",
       "\\item[\\$c] 3\n",
       "\\end{description}\n"
      ],
      "text/markdown": [
       "$a\n",
       ":   1\n",
       "$b\n",
       ":   2\n",
       "$c\n",
       ":   3\n",
       "\n",
       "\n"
      ],
      "text/plain": [
       "$a\n",
       "[1] 1\n",
       "\n",
       "$b\n",
       "[1] 2\n",
       "\n",
       "$c\n",
       "[1] 3\n"
      ]
     },
     "metadata": {},
     "output_type": "display_data"
    }
   ],
   "source": [
    "# Name Attributes on list.\n",
    "x <- list(a=1,b=2,c=3)\n",
    "x"
   ]
  },
  {
   "cell_type": "code",
   "execution_count": 21,
   "metadata": {},
   "outputs": [
    {
     "data": {
      "text/html": [
       "<table>\n",
       "<thead><tr><th></th><th scope=col>a</th><th scope=col>b</th></tr></thead>\n",
       "<tbody>\n",
       "\t<tr><th scope=row>a</th><td>1</td><td>3</td></tr>\n",
       "\t<tr><th scope=row>b</th><td>2</td><td>4</td></tr>\n",
       "</tbody>\n",
       "</table>\n"
      ],
      "text/latex": [
       "\\begin{tabular}{r|ll}\n",
       "  & a & b\\\\\n",
       "\\hline\n",
       "\ta & 1 & 3\\\\\n",
       "\tb & 2 & 4\\\\\n",
       "\\end{tabular}\n"
      ],
      "text/markdown": [
       "\n",
       "| <!--/--> | a | b | \n",
       "|---|---|\n",
       "| a | 1 | 3 | \n",
       "| b | 2 | 4 | \n",
       "\n",
       "\n"
      ],
      "text/plain": [
       "  a b\n",
       "a 1 3\n",
       "b 2 4"
      ]
     },
     "metadata": {},
     "output_type": "display_data"
    }
   ],
   "source": [
    "m <- matrix(1:4,nrow = 2,ncol = 2)\n",
    "dimnames(m) <- list(c(\"a\",\"b\"),c(\"a\",\"b\"))\n",
    "m"
   ]
  },
  {
   "cell_type": "markdown",
   "metadata": {},
   "source": [
    "# Reading Tabular Data"
   ]
  },
  {
   "cell_type": "code",
   "execution_count": 1,
   "metadata": {},
   "outputs": [],
   "source": [
    "# READING DATA : \n",
    "\n",
    "# read.table, read.csv for reading tabular data (Both are same.The only diffrence is that the default separtor is comma in csv.)\n",
    "# readLines for reading lines of text file.\n",
    "# 'source' for reading in R code files(inverse of dump).\n",
    "# 'dget' for reading in R code files(inverse of dput).\n",
    "# 'load' for reading in saved workspace.\n",
    "# 'unserialize' for reading single R-object in binary format."
   ]
  },
  {
   "cell_type": "code",
   "execution_count": 3,
   "metadata": {},
   "outputs": [],
   "source": [
    "# WRITING DATA : \n",
    "\n",
    "# write.table\n",
    "# writeLines\n",
    "# dump\n",
    "# dput\n",
    "# save \n",
    "# serialize"
   ]
  },
  {
   "cell_type": "code",
   "execution_count": 10,
   "metadata": {},
   "outputs": [],
   "source": [
    "x <- read.csv(file = 'OfficeSupplies.csv')"
   ]
  },
  {
   "cell_type": "markdown",
   "metadata": {},
   "source": [
    "# Reading Large Tables"
   ]
  },
  {
   "cell_type": "code",
   "execution_count": 16,
   "metadata": {},
   "outputs": [],
   "source": [
    "initial <- read.csv(file = 'OfficeSupplies.csv', nrows = 100) # Read only first 100 rows initally to get the data types of cols.\n",
    "classes <- sapply(initial,class) # Gets the Data types of cols.\n",
    "# print(classes)\n",
    "# Read whole dataset and apply classes manually so that R doesnt have to traverse whole data set\n",
    "tableall <- read.csv(file = 'OfficeSupplies.csv',colClasses=classes) \n",
    "# print(tableall)"
   ]
  },
  {
   "cell_type": "markdown",
   "metadata": {},
   "source": [
    "# Textual Data Formats"
   ]
  },
  {
   "cell_type": "code",
   "execution_count": 18,
   "metadata": {},
   "outputs": [
    {
     "name": "stdout",
     "output_type": "stream",
     "text": [
      "function (description = \"\", open = \"\", blocking = TRUE, encoding = getOption(\"encoding\"), \n",
      "    raw = FALSE, method = getOption(\"url.method\", \"default\"))  \n"
     ]
    }
   ],
   "source": [
    "# dput, dump preserve the meta data of dataframe. like the classes of the columns. we do not have to specify when we read it in.\n",
    "# 'file' opens a connection to the file.\n",
    "# 'gzfile' opens a connection to the file that is compressed with gzip.\n",
    "# 'bzfile' opens a connection to the file that is compressed with bzip2.\n",
    "# 'url' opens a connection to a webpage.\n",
    "str(file) # gives the description to the functions."
   ]
  },
  {
   "cell_type": "code",
   "execution_count": 85,
   "metadata": {
    "scrolled": true
   },
   "outputs": [
    {
     "name": "stderr",
     "output_type": "stream",
     "text": [
      "Warning message in readLines(con):\n",
      "\"incomplete final line found on 'https://www.google.com'\"\n"
     ]
    },
    {
     "name": "stdout",
     "output_type": "stream",
     "text": [
      "[1] \"<!doctype html><html itemscope=\\\"\\\" itemtype=\\\"http://schema.org/WebPage\\\" lang=\\\"en-IN\\\"><head><meta content=\\\"text/html; charset=UTF-8\\\" http-equiv=\\\"Content-Type\\\"><meta content=\\\"/images/branding/googleg/1x/googleg_standard_color_128dp.png\\\" itemprop=\\\"image\\\"><title>Google</title><script nonce=\\\"2q3RyEmEs5HRziX9FtE+jg==\\\">(function(){window.google={kEI:'0IywXZyaFomVwgPSzLGIBQ',kEXPI:'0,1353747,5662,730,224,510,1065,3151,378,207,1017,54,2133,10,713,90,180,47,21,96,92,26,325,122,188,482,98,11,68,51,155,255,4,1130636,1197735,288,329244,1294,12383,4855,32692,15247,867,18544,3335,2,2,6801,364,3319,5505,224,2212,5948,1119,2,578,728,2431,1362,4323,3698,1270,773,2255,1402,1413,1074,850,1146,9,1963,6196,1719,1808,1976,2044,5762,1,3146,5071,226,2016,38,920,873,1217,1336,1639,2736,1558,1503,2,215,1,415,1141,2099,7194,252,622,2881,21,317,690,429,904,1150,975,1,369,1398,1379,919,992,444,841,8,1633,1163,967,601,11,14,1279,2212,202,323,6,1251,840,324,193,794,680,48,820,3438,109,151,52,1132,4,3,2063,606,1839,184,595,1182,143,377,686,1261,747,429,44,207,1,801,93,328,1284,16,84,336,81,2426,23,1616,608,473,1177,162,29,700,19,1039,2224,45,1,824,133,773,20,889,639,524,7,728,89,503,523,240,811,1176,519,219,791,489,291,1149,105,712,58,1842,2570,581,1,8,1,25,50,613,54,1369,684,533,56,446,214,367,265,319,456,517,312,214,109,1347,1112,660,246,43,3,555,416,356,299,50,94,56,80,562,89,524,163,425,107,280,695,1023,723,284,890,65,347,131,52,2,2,4,422,315,38,143,18,6,131,523,199,3,176,104,408,1,35,143,220,420,165,9,1014,148,6,182,405,1307,81,5878530,1805894,4194805,2799641,4,1572,549,333,444,1,2,80,1,900,583,4,309,1,8,1,2,2551,1,748,141,59,736,563,1,3815,341,1,107,1,1,1,1,1,3,7,15,1,2,15,16,2,2,2,15,33,5,12,1,6,1,8,9,3,22302711,1662865',authuser:0,kscs:'c9c918f0_0IywXZyaFomVwgPSzLGIBQ',kGL:'IN',kBL:'cXSl'};google.sn='webhp';google.kHL='en-IN';google.jsfs='Ffpdje';})();(function(){google.lc=[];google.li=0;google.getEI=function(a){for(var b;a&&(!a.getAttribute||!(b=a.getAttribute(\\\"eid\\\")));)a=a.parentNode;return b||google.kEI};google.getLEI=function(a){for(var b=null;a&&(!a.getAttribute||!(b=a.getAttribute(\\\"leid\\\")));)a=a.parentNode;return b};google.https=function(){return\\\"https:\\\"==window.location.protocol};google.ml=function(){return null};google.time=function(){return(new Date).getTime()};google.log=function(a,b,e,c,g){if(a=google.logUrl(a,b,e,c,g)){b=new Image;var d=google.lc,f=google.li;d[f]=b;b.onerror=b.onload=b.onabort=function(){delete d[f]};google.vel&&google.vel.lu&&google.vel.lu(a);b.src=a;google.li=f+1}};google.logUrl=function(a,b,e,c,g){var d=\\\"\\\",f=google.ls||\\\"\\\";e||-1!=b.search(\\\"&ei=\\\")||(d=\\\"&ei=\\\"+google.getEI(c),-1==b.search(\\\"&lei=\\\")&&(c=google.getLEI(c))&&(d+=\\\"&lei=\\\"+c));c=\\\"\\\";!e&&google.cshid&&-1==b.search(\\\"&cshid=\\\")&&\\\"slh\\\"!=a&&(c=\\\"&cshid=\\\"+google.cshid);a=e||\\\"/\\\"+(g||\\\"gen_204\\\")+\\\"?atyp=i&ct=\\\"+a+\\\"&cad=\\\"+b+d+f+\\\"&zx=\\\"+google.time()+c;/^http:/i.test(a)&&google.https()&&(google.ml(Error(\\\"a\\\"),!1,{src:a,glmm:1}),a=\\\"\\\");return a};}).call(this);(function(){google.y={};google.x=function(a,b){if(a)var c=a.id;else{do c=Math.random();while(google.y[c])}google.y[c]=[a,b];return!1};google.lm=[];google.plm=function(a){google.lm.push.apply(google.lm,a)};google.lq=[];google.load=function(a,b,c){google.lq.push([[a],b,c])};google.loadAll=function(a,b){google.lq.push([a,b])};}).call(this);google.f={};var a=window.location,b=a.href.indexOf(\\\"#\\\");if(0<=b){var c=a.href.substring(b+1);/(^|&)q=/.test(c)&&-1==c.indexOf(\\\"#\\\")&&a.replace(\\\"/search?\\\"+c.replace(/(^|&)fp=[^&]*/g,\\\"\\\")+\\\"&cad=h\\\")};</script><style>#gbar,#guser{font-size:13px;padding-top:1px !important;}#gbar{height:22px}#guser{padding-bottom:7px !important;text-align:right}.gbh,.gbd{border-top:1px solid #c9d7f1;font-size:1px}.gbh{height:0;position:absolute;top:24px;width:100%}@media all{.gb1{height:22px;margin-right:.5em;vertical-align:top}#gbar{float:left}}a.gb1,a.gb4{text-decoration:underline !important}a.gb1,a.gb4{color:#00c !important}.gbi .gb4{color:#dd8e27 !important}.gbf .gb4{color:#900 !important}\"                                                                                                                                                                                                                                                                                                                                                                                                                                                                                                                                                                                                                                                                                                                                                                                                                                                                                                                                                                                                                \n",
      "[2] \"</style><style>body,td,a,p,.h{font-family:arial,sans-serif}body{margin:0;overflow-y:scroll}#gog{padding:3px 8px 0}td{line-height:.8em}.gac_m td{line-height:17px}form{margin-bottom:20px}.h{color:#36c}.q{color:#00c}.ts td{padding:0}.ts{border-collapse:collapse}em{font-weight:bold;font-style:normal}.lst{height:25px;width:496px}.gsfi,.lst{font:18px arial,sans-serif}.gsfs{font:17px arial,sans-serif}.ds{display:inline-box;display:inline-block;margin:3px 0 4px;margin-left:4px}input{font-family:inherit}a.gb1,a.gb2,a.gb3,a.gb4{color:#11c !important}body{background:#fff;color:black}a{color:#11c;text-decoration:none}a:hover,a:active{text-decoration:underline}.fl a{color:#36c}a:visited{color:#551a8b}a.gb1,a.gb4{text-decoration:underline}a.gb3:hover{text-decoration:none}#ghead a.gb2:hover{color:#fff !important}.sblc{padding-top:5px}.sblc a{display:block;margin:2px 0;margin-left:13px;font-size:11px}.lsbb{background:#eee;border:solid 1px;border-color:#ccc #999 #999 #ccc;height:30px}.lsbb{display:block}.ftl,#fll a{display:inline-block;margin:0 12px}.lsb{background:url(/images/nav_logo229.png) 0 -261px repeat-x;border:none;color:#000;cursor:pointer;height:30px;margin:0;outline:0;font:15px arial,sans-serif;vertical-align:top}.lsb:active{background:#ccc}.lst:focus{outline:none}</style><script nonce=\\\"2q3RyEmEs5HRziX9FtE+jg==\\\"></script></head><body bgcolor=\\\"#fff\\\"><script nonce=\\\"2q3RyEmEs5HRziX9FtE+jg==\\\">(function(){var src='/images/nav_logo229.png';var iesg=false;document.body.onload = function(){window.n && window.n();if (document.images){new Image().src=src;}\"                                                                                                                                                                                                                                                                                                                                                                                                                                                                                                                                                                                                                                                                                                                                                                                                                                                                                                                                                                                                                                                                                                                                                                                                                                                                                                                                                                                                                                                                                                                                                                                                                                                                                                                                                                                                                                                                                                                                                                                                                                                                                                                                                                                                                                                                                                                                                                                                                                                                                                                                                                                                                                                                                                                                                                                                                                                                                                                                                                                                                                                                                                                                                                                                                                                                                                                                                                                                                                                                                                                                                                                \n",
      "[3] \"if (!iesg){document.f&&document.f.q.focus();document.gbqf&&document.gbqf.q.focus();}\"                                                                                                                                                                                                                                                                                                                                                                                                                                                                                                                                                                                                                                                                                                                                                                                                                                                                                                                                                                                                                                                                                                                                                                                                                                                                                                                                                                                                                                                                                                                                                                                                                                                                                                                                                                                                                                                                                                                                                                                                                                                                                                                                                                                                                                                                                                                                                                                                                                                                                                                                                                                                                                                                                                                                                                                                                                                                                                                                                                                                                                                                                                                                                                                                                                                                                                                                                                                                                                                                                                                                                                                                                                                                                                                                                                                                                                                                                                                                                                                                                                                                                                                                                                                                                                                                                                                                                                                                                                                                                                                                                                                                                                                                                                                                                                                                                                                                                                                                                                                                                                                                                                                                \n",
      "[4] \"}\"                                                                                                                                                                                                                                                                                                                                                                                                                                                                                                                                                                                                                                                                                                                                                                                                                                                                                                                                                                                                                                                                                                                                                                                                                                                                                                                                                                                                                                                                                                                                                                                                                                                                                                                                                                                                                                                                                                                                                                                                                                                                                                                                                                                                                                                                                                                                                                                                                                                                                                                                                                                                                                                                                                                                                                                                                                                                                                                                                                                                                                                                                                                                                                                                                                                                                                                                                                                                                                                                                                                                                                                                                                                                                                                                                                                                                                                                                                                                                                                                                                                                                                                                                                                                                                                                                                                                                                                                                                                                                                                                                                                                                                                                                                                                                                                                                                                                                                                                                                                                                                                                                                                                                                                                                   \n",
      "[5] \"})();</script><div id=\\\"mngb\\\"> <div id=gbar><nobr><b class=gb1>Search</b> <a class=gb1 href=\\\"https://www.google.co.in/imghp?hl=en&tab=wi\\\">Images</a> <a class=gb1 href=\\\"https://maps.google.co.in/maps?hl=en&tab=wl\\\">Maps</a> <a class=gb1 href=\\\"https://play.google.com/?hl=en&tab=w8\\\">Play</a> <a class=gb1 href=\\\"https://www.youtube.com/?gl=IN&tab=w1\\\">YouTube</a> <a class=gb1 href=\\\"https://news.google.co.in/nwshp?hl=en&tab=wn\\\">News</a> <a class=gb1 href=\\\"https://mail.google.com/mail/?tab=wm\\\">Gmail</a> <a class=gb1 href=\\\"https://drive.google.com/?tab=wo\\\">Drive</a> <a class=gb1 style=\\\"text-decoration:none\\\" href=\\\"https://www.google.co.in/intl/en/about/products?tab=wh\\\"><u>More</u> &raquo;</a></nobr></div><div id=guser width=100%><nobr><span id=gbn class=gbi></span><span id=gbf class=gbf></span><span id=gbe></span><a href=\\\"http://www.google.co.in/history/optout?hl=en\\\" class=gb4>Web History</a> | <a  href=\\\"/preferences?hl=en\\\" class=gb4>Settings</a> | <a target=_top id=gb_70 href=\\\"https://accounts.google.com/ServiceLogin?hl=en&passive=true&continue=https://www.google.com/\\\" class=gb4>Sign in</a></nobr></div><div class=gbh style=left:0></div><div class=gbh style=right:0></div> </div><center><br clear=\\\"all\\\" id=\\\"lgpd\\\"><div id=\\\"lga\\\"><img alt=\\\"Google\\\" height=\\\"92\\\" src=\\\"/images/branding/googlelogo/1x/googlelogo_white_background_color_272x92dp.png\\\" style=\\\"padding:28px 0 14px\\\" width=\\\"272\\\" id=\\\"hplogo\\\"><br><br></div><form action=\\\"/search\\\" name=\\\"f\\\"><table cellpadding=\\\"0\\\" cellspacing=\\\"0\\\"><tr valign=\\\"top\\\"><td width=\\\"25%\\\">&nbsp;</td><td align=\\\"center\\\" nowrap=\\\"\\\"><input name=\\\"ie\\\" value=\\\"ISO-8859-1\\\" type=\\\"hidden\\\"><input value=\\\"en-IN\\\" name=\\\"hl\\\" type=\\\"hidden\\\"><input name=\\\"source\\\" type=\\\"hidden\\\" value=\\\"hp\\\"><input name=\\\"biw\\\" type=\\\"hidden\\\"><input name=\\\"bih\\\" type=\\\"hidden\\\"><div class=\\\"ds\\\" style=\\\"height:32px;margin:4px 0\\\"><input style=\\\"color:#000;margin:0;padding:5px 8px 0 6px;vertical-align:top\\\" autocomplete=\\\"off\\\" class=\\\"lst\\\" value=\\\"\\\" title=\\\"Google Search\\\" maxlength=\\\"2048\\\" name=\\\"q\\\" size=\\\"57\\\"></div><br style=\\\"line-height:0\\\"><span class=\\\"ds\\\"><span class=\\\"lsbb\\\"><input class=\\\"lsb\\\" value=\\\"Google Search\\\" name=\\\"btnG\\\" type=\\\"submit\\\"></span></span><span class=\\\"ds\\\"><span class=\\\"lsbb\\\"><input class=\\\"lsb\\\" id=\\\"tsuid1\\\" value=\\\"I'm Feeling Lucky\\\" name=\\\"btnI\\\" type=\\\"submit\\\"><script nonce=\\\"2q3RyEmEs5HRziX9FtE+jg==\\\">(function(){var id='tsuid1';document.getElementById(id).onclick = function(){if (this.form.q.value){this.checked = 1;if (this.form.iflsig)this.form.iflsig.disabled = false;}\"                                                                                                                                                                                                                                                                                                                                                                                                                                                                                                                                                                                                                                                                                                                                                                                                                                                                                                                                                                                                                                                                                                                                                                                                                                                                                                                                                                                                                                                                                                                                                                                                                                                                                                                                                                                                                                                                                                                                                                                                                                                                                                                                                                                                                                                                                                                                                                                                                                                                                                         \n",
      "[6] \"else top.location='/doodles/';};})();</script><input value=\\\"AAP1E1EAAAAAXbCa4BJI5ySEp7uVUhAD6IJh5zoCMC-O\\\" name=\\\"iflsig\\\" type=\\\"hidden\\\"></span></span></td><td class=\\\"fl sblc\\\" align=\\\"left\\\" nowrap=\\\"\\\" width=\\\"25%\\\"><a href=\\\"/advanced_search?hl=en-IN&amp;authuser=0\\\">Advanced search</a><a href=\\\"/language_tools?hl=en-IN&amp;authuser=0\\\">Language tools</a></td></tr></table><input id=\\\"gbv\\\" name=\\\"gbv\\\" type=\\\"hidden\\\" value=\\\"1\\\"><script nonce=\\\"2q3RyEmEs5HRziX9FtE+jg==\\\">(function(){var a,b=\\\"1\\\";if(document&&document.getElementById)if(\\\"undefined\\\"!=typeof XMLHttpRequest)b=\\\"2\\\";else if(\\\"undefined\\\"!=typeof ActiveXObject){var c,d,e=[\\\"MSXML2.XMLHTTP.6.0\\\",\\\"MSXML2.XMLHTTP.3.0\\\",\\\"MSXML2.XMLHTTP\\\",\\\"Microsoft.XMLHTTP\\\"];for(c=0;d=e[c++];)try{new ActiveXObject(d),b=\\\"2\\\"}catch(h){}}a=b;if(\\\"2\\\"==a&&-1==location.search.indexOf(\\\"&gbv=2\\\")){var f=google.gbvu,g=document.getElementById(\\\"gbv\\\");g&&(g.value=a);f&&window.setTimeout(function(){location.href=f},0)};}).call(this);</script></form><div id=\\\"gac_scont\\\"></div><div style=\\\"font-size:83%;min-height:3.5em\\\"><br><div id=\\\"gws-output-pages-elements-homepage_additional_languages__als\\\"><style>#gws-output-pages-elements-homepage_additional_languages__als{font-size:small;margin-bottom:24px}#SIvCob{display:inline-block;line-height:28px;}#SIvCob a{padding:0 3px;}.H6sW5{display:inline-block;margin:0 2px;white-space:nowrap}.z4hgWe{display:inline-block;margin:0 2px}</style><div id=\\\"SIvCob\\\">Google offered in:  <a href=\\\"https://www.google.com/setprefs?sig=0_urMo6Yhw2mOXlhk2x49wWVrlmQ8%3D&amp;hl=hi&amp;source=homepage&amp;sa=X&amp;ved=0ahUKEwicwpmF87LlAhWJinAKHVJmDFEQ2ZgBCAU\\\">&#2361;&#2367;&#2344;&#2381;&#2342;&#2368;</a>    <a href=\\\"https://www.google.com/setprefs?sig=0_urMo6Yhw2mOXlhk2x49wWVrlmQ8%3D&amp;hl=bn&amp;source=homepage&amp;sa=X&amp;ved=0ahUKEwicwpmF87LlAhWJinAKHVJmDFEQ2ZgBCAY\\\">&#2476;&#2494;&#2434;&#2482;&#2494;</a>    <a href=\\\"https://www.google.com/setprefs?sig=0_urMo6Yhw2mOXlhk2x49wWVrlmQ8%3D&amp;hl=te&amp;source=homepage&amp;sa=X&amp;ved=0ahUKEwicwpmF87LlAhWJinAKHVJmDFEQ2ZgBCAc\\\">&#3108;&#3142;&#3122;&#3137;&#3095;&#3137;</a>    <a href=\\\"https://www.google.com/setprefs?sig=0_urMo6Yhw2mOXlhk2x49wWVrlmQ8%3D&amp;hl=mr&amp;source=homepage&amp;sa=X&amp;ved=0ahUKEwicwpmF87LlAhWJinAKHVJmDFEQ2ZgBCAg\\\">&#2350;&#2352;&#2366;&#2336;&#2368;</a>    <a href=\\\"https://www.google.com/setprefs?sig=0_urMo6Yhw2mOXlhk2x49wWVrlmQ8%3D&amp;hl=ta&amp;source=homepage&amp;sa=X&amp;ved=0ahUKEwicwpmF87LlAhWJinAKHVJmDFEQ2ZgBCAk\\\">&#2980;&#2990;&#3007;&#2996;&#3021;</a>    <a href=\\\"https://www.google.com/setprefs?sig=0_urMo6Yhw2mOXlhk2x49wWVrlmQ8%3D&amp;hl=gu&amp;source=homepage&amp;sa=X&amp;ved=0ahUKEwicwpmF87LlAhWJinAKHVJmDFEQ2ZgBCAo\\\">&#2711;&#2753;&#2716;&#2736;&#2750;&#2724;&#2752;</a>    <a href=\\\"https://www.google.com/setprefs?sig=0_urMo6Yhw2mOXlhk2x49wWVrlmQ8%3D&amp;hl=kn&amp;source=homepage&amp;sa=X&amp;ved=0ahUKEwicwpmF87LlAhWJinAKHVJmDFEQ2ZgBCAs\\\">&#3221;&#3240;&#3277;&#3240;&#3233;</a>    <a href=\\\"https://www.google.com/setprefs?sig=0_urMo6Yhw2mOXlhk2x49wWVrlmQ8%3D&amp;hl=ml&amp;source=homepage&amp;sa=X&amp;ved=0ahUKEwicwpmF87LlAhWJinAKHVJmDFEQ2ZgBCAw\\\">&#3374;&#3378;&#3375;&#3390;&#3379;&#3330;</a>    <a href=\\\"https://www.google.com/setprefs?sig=0_urMo6Yhw2mOXlhk2x49wWVrlmQ8%3D&amp;hl=pa&amp;source=homepage&amp;sa=X&amp;ved=0ahUKEwicwpmF87LlAhWJinAKHVJmDFEQ2ZgBCA0\\\">&#2602;&#2672;&#2588;&#2622;&#2604;&#2624;</a>  </div></div></div><span id=\\\"footer\\\"><div style=\\\"font-size:10pt\\\"><div style=\\\"margin:19px auto;text-align:center\\\" id=\\\"fll\\\"><a href=\\\"/intl/en/ads/\\\">Advertising Programs</a><a href=\\\"http://www.google.co.in/services/\\\">Business Solutions</a><a href=\\\"/intl/en/about.html\\\">About Google</a><a href=\\\"https://www.google.com/setprefdomain?prefdom=IN&amp;prev=https://www.google.co.in/&amp;sig=K_NYMVSH76Ou9pxLe-81iZRND89Qw%3D\\\">Google.co.in</a></div></div><p style=\\\"color:#767676;font-size:8pt\\\">&copy; 2019 - <a href=\\\"/intl/en/policies/privacy/\\\">Privacy</a> - <a href=\\\"/intl/en/policies/terms/\\\">Terms</a></p></span></center><script nonce=\\\"2q3RyEmEs5HRziX9FtE+jg==\\\">(function(){window.google.cdo={height:0,width:0};(function(){var a=window.innerWidth,b=window.innerHeight;if(!a||!b){var c=window.document,d=\\\"CSS1Compat\\\"==c.compatMode?c.documentElement:c.body;a=d.clientWidth;b=d.clientHeight}a&&b&&(a!=google.cdo.width||b!=google.cdo.height)&&google.log(\\\"\\\",\\\"\\\",\\\"/client_204?&atyp=i&biw=\\\"+a+\\\"&bih=\\\"+b+\\\"&ei=\\\"+google.kEI);}).call(this);})();(function(){var u='/xjs/_/js/k\\\\x3dxjs.hp.en.KD9JaXt6YxI.O/m\\\\x3dsb_he,d/am\\\\x3dwAlsBg/d\\\\x3d1/rs\\\\x3dACT90oFvmtUXTmOL14_0jkOUZUSwFxNMNw';setTimeout(function(){var a=document.createElement(\\\"script\\\");a.src=u;google.timers&&google.timers.load&&google.tick&&google.tick(\\\"load\\\",\\\"xjsls\\\");document.body.appendChild(a)},0);})();(function(){window.google.xjsu='/xjs/_/js/k\\\\x3dxjs.hp.en.KD9JaXt6YxI.O/m\\\\x3dsb_he,d/am\\\\x3dwAlsBg/d\\\\x3d1/rs\\\\x3dACT90oFvmtUXTmOL14_0jkOUZUSwFxNMNw';})();function _DumpException(e){throw e;}\"\n"
     ]
    }
   ],
   "source": [
    "con  <- url('https://www.google.com','r')\n",
    "x <- readLines(con)\n",
    "print(head(x))"
   ]
  },
  {
   "cell_type": "markdown",
   "metadata": {},
   "source": [
    "# Assignment Question"
   ]
  },
  {
   "cell_type": "code",
   "execution_count": 65,
   "metadata": {
    "scrolled": true
   },
   "outputs": [
    {
     "data": {
      "text/html": [
       "<table>\n",
       "<thead><tr><th scope=col>Ozone</th><th scope=col>Solar.R</th><th scope=col>Wind</th><th scope=col>Temp</th><th scope=col>Month</th><th scope=col>Day</th></tr></thead>\n",
       "<tbody>\n",
       "\t<tr><td> 41 </td><td>190 </td><td> 7.4</td><td>67  </td><td>5   </td><td> 1  </td></tr>\n",
       "\t<tr><td> 36 </td><td>118 </td><td> 8.0</td><td>72  </td><td>5   </td><td> 2  </td></tr>\n",
       "\t<tr><td> 12 </td><td>149 </td><td>12.6</td><td>74  </td><td>5   </td><td> 3  </td></tr>\n",
       "\t<tr><td> 18 </td><td>313 </td><td>11.5</td><td>62  </td><td>5   </td><td> 4  </td></tr>\n",
       "\t<tr><td> NA </td><td> NA </td><td>14.3</td><td>56  </td><td>5   </td><td> 5  </td></tr>\n",
       "\t<tr><td> 28 </td><td> NA </td><td>14.9</td><td>66  </td><td>5   </td><td> 6  </td></tr>\n",
       "\t<tr><td> 23 </td><td>299 </td><td> 8.6</td><td>65  </td><td>5   </td><td> 7  </td></tr>\n",
       "\t<tr><td> 19 </td><td> 99 </td><td>13.8</td><td>59  </td><td>5   </td><td> 8  </td></tr>\n",
       "\t<tr><td>  8 </td><td> 19 </td><td>20.1</td><td>61  </td><td>5   </td><td> 9  </td></tr>\n",
       "\t<tr><td> NA </td><td>194 </td><td> 8.6</td><td>69  </td><td>5   </td><td>10  </td></tr>\n",
       "\t<tr><td>  7 </td><td> NA </td><td> 6.9</td><td>74  </td><td>5   </td><td>11  </td></tr>\n",
       "\t<tr><td> 16 </td><td>256 </td><td> 9.7</td><td>69  </td><td>5   </td><td>12  </td></tr>\n",
       "\t<tr><td> 11 </td><td>290 </td><td> 9.2</td><td>66  </td><td>5   </td><td>13  </td></tr>\n",
       "\t<tr><td> 14 </td><td>274 </td><td>10.9</td><td>68  </td><td>5   </td><td>14  </td></tr>\n",
       "\t<tr><td> 18 </td><td> 65 </td><td>13.2</td><td>58  </td><td>5   </td><td>15  </td></tr>\n",
       "\t<tr><td> 14 </td><td>334 </td><td>11.5</td><td>64  </td><td>5   </td><td>16  </td></tr>\n",
       "\t<tr><td> 34 </td><td>307 </td><td>12.0</td><td>66  </td><td>5   </td><td>17  </td></tr>\n",
       "\t<tr><td>  6 </td><td> 78 </td><td>18.4</td><td>57  </td><td>5   </td><td>18  </td></tr>\n",
       "\t<tr><td> 30 </td><td>322 </td><td>11.5</td><td>68  </td><td>5   </td><td>19  </td></tr>\n",
       "\t<tr><td> 11 </td><td> 44 </td><td> 9.7</td><td>62  </td><td>5   </td><td>20  </td></tr>\n",
       "\t<tr><td>  1 </td><td>  8 </td><td> 9.7</td><td>59  </td><td>5   </td><td>21  </td></tr>\n",
       "\t<tr><td> 11 </td><td>320 </td><td>16.6</td><td>73  </td><td>5   </td><td>22  </td></tr>\n",
       "\t<tr><td>  4 </td><td> 25 </td><td> 9.7</td><td>61  </td><td>5   </td><td>23  </td></tr>\n",
       "\t<tr><td> 32 </td><td> 92 </td><td>12.0</td><td>61  </td><td>5   </td><td>24  </td></tr>\n",
       "\t<tr><td> NA </td><td> 66 </td><td>16.6</td><td>57  </td><td>5   </td><td>25  </td></tr>\n",
       "\t<tr><td> NA </td><td>266 </td><td>14.9</td><td>58  </td><td>5   </td><td>26  </td></tr>\n",
       "\t<tr><td> NA </td><td> NA </td><td> 8.0</td><td>57  </td><td>5   </td><td>27  </td></tr>\n",
       "\t<tr><td> 23 </td><td> 13 </td><td>12.0</td><td>67  </td><td>5   </td><td>28  </td></tr>\n",
       "\t<tr><td> 45 </td><td>252 </td><td>14.9</td><td>81  </td><td>5   </td><td>29  </td></tr>\n",
       "\t<tr><td>115 </td><td>223 </td><td> 5.7</td><td>79  </td><td>5   </td><td>30  </td></tr>\n",
       "\t<tr><td>...</td><td>...</td><td>...</td><td>...</td><td>...</td><td>...</td></tr>\n",
       "\t<tr><td>96  </td><td>167 </td><td> 6.9</td><td>91  </td><td>9   </td><td> 1  </td></tr>\n",
       "\t<tr><td>78  </td><td>197 </td><td> 5.1</td><td>92  </td><td>9   </td><td> 2  </td></tr>\n",
       "\t<tr><td>73  </td><td>183 </td><td> 2.8</td><td>93  </td><td>9   </td><td> 3  </td></tr>\n",
       "\t<tr><td>91  </td><td>189 </td><td> 4.6</td><td>93  </td><td>9   </td><td> 4  </td></tr>\n",
       "\t<tr><td>47  </td><td> 95 </td><td> 7.4</td><td>87  </td><td>9   </td><td> 5  </td></tr>\n",
       "\t<tr><td>32  </td><td> 92 </td><td>15.5</td><td>84  </td><td>9   </td><td> 6  </td></tr>\n",
       "\t<tr><td>20  </td><td>252 </td><td>10.9</td><td>80  </td><td>9   </td><td> 7  </td></tr>\n",
       "\t<tr><td>23  </td><td>220 </td><td>10.3</td><td>78  </td><td>9   </td><td> 8  </td></tr>\n",
       "\t<tr><td>21  </td><td>230 </td><td>10.9</td><td>75  </td><td>9   </td><td> 9  </td></tr>\n",
       "\t<tr><td>24  </td><td>259 </td><td> 9.7</td><td>73  </td><td>9   </td><td>10  </td></tr>\n",
       "\t<tr><td>44  </td><td>236 </td><td>14.9</td><td>81  </td><td>9   </td><td>11  </td></tr>\n",
       "\t<tr><td>21  </td><td>259 </td><td>15.5</td><td>76  </td><td>9   </td><td>12  </td></tr>\n",
       "\t<tr><td>28  </td><td>238 </td><td> 6.3</td><td>77  </td><td>9   </td><td>13  </td></tr>\n",
       "\t<tr><td> 9  </td><td> 24 </td><td>10.9</td><td>71  </td><td>9   </td><td>14  </td></tr>\n",
       "\t<tr><td>13  </td><td>112 </td><td>11.5</td><td>71  </td><td>9   </td><td>15  </td></tr>\n",
       "\t<tr><td>46  </td><td>237 </td><td> 6.9</td><td>78  </td><td>9   </td><td>16  </td></tr>\n",
       "\t<tr><td>18  </td><td>224 </td><td>13.8</td><td>67  </td><td>9   </td><td>17  </td></tr>\n",
       "\t<tr><td>13  </td><td> 27 </td><td>10.3</td><td>76  </td><td>9   </td><td>18  </td></tr>\n",
       "\t<tr><td>24  </td><td>238 </td><td>10.3</td><td>68  </td><td>9   </td><td>19  </td></tr>\n",
       "\t<tr><td>16  </td><td>201 </td><td> 8.0</td><td>82  </td><td>9   </td><td>20  </td></tr>\n",
       "\t<tr><td>13  </td><td>238 </td><td>12.6</td><td>64  </td><td>9   </td><td>21  </td></tr>\n",
       "\t<tr><td>23  </td><td> 14 </td><td> 9.2</td><td>71  </td><td>9   </td><td>22  </td></tr>\n",
       "\t<tr><td>36  </td><td>139 </td><td>10.3</td><td>81  </td><td>9   </td><td>23  </td></tr>\n",
       "\t<tr><td> 7  </td><td> 49 </td><td>10.3</td><td>69  </td><td>9   </td><td>24  </td></tr>\n",
       "\t<tr><td>14  </td><td> 20 </td><td>16.6</td><td>63  </td><td>9   </td><td>25  </td></tr>\n",
       "\t<tr><td>30  </td><td>193 </td><td> 6.9</td><td>70  </td><td>9   </td><td>26  </td></tr>\n",
       "\t<tr><td>NA  </td><td>145 </td><td>13.2</td><td>77  </td><td>9   </td><td>27  </td></tr>\n",
       "\t<tr><td>14  </td><td>191 </td><td>14.3</td><td>75  </td><td>9   </td><td>28  </td></tr>\n",
       "\t<tr><td>18  </td><td>131 </td><td> 8.0</td><td>76  </td><td>9   </td><td>29  </td></tr>\n",
       "\t<tr><td>20  </td><td>223 </td><td>11.5</td><td>68  </td><td>9   </td><td>30  </td></tr>\n",
       "</tbody>\n",
       "</table>\n"
      ],
      "text/latex": [
       "\\begin{tabular}{r|llllll}\n",
       " Ozone & Solar.R & Wind & Temp & Month & Day\\\\\n",
       "\\hline\n",
       "\t  41  & 190  &  7.4 & 67   & 5    &  1  \\\\\n",
       "\t  36  & 118  &  8.0 & 72   & 5    &  2  \\\\\n",
       "\t  12  & 149  & 12.6 & 74   & 5    &  3  \\\\\n",
       "\t  18  & 313  & 11.5 & 62   & 5    &  4  \\\\\n",
       "\t  NA  &  NA  & 14.3 & 56   & 5    &  5  \\\\\n",
       "\t  28  &  NA  & 14.9 & 66   & 5    &  6  \\\\\n",
       "\t  23  & 299  &  8.6 & 65   & 5    &  7  \\\\\n",
       "\t  19  &  99  & 13.8 & 59   & 5    &  8  \\\\\n",
       "\t   8  &  19  & 20.1 & 61   & 5    &  9  \\\\\n",
       "\t  NA  & 194  &  8.6 & 69   & 5    & 10  \\\\\n",
       "\t   7  &  NA  &  6.9 & 74   & 5    & 11  \\\\\n",
       "\t  16  & 256  &  9.7 & 69   & 5    & 12  \\\\\n",
       "\t  11  & 290  &  9.2 & 66   & 5    & 13  \\\\\n",
       "\t  14  & 274  & 10.9 & 68   & 5    & 14  \\\\\n",
       "\t  18  &  65  & 13.2 & 58   & 5    & 15  \\\\\n",
       "\t  14  & 334  & 11.5 & 64   & 5    & 16  \\\\\n",
       "\t  34  & 307  & 12.0 & 66   & 5    & 17  \\\\\n",
       "\t   6  &  78  & 18.4 & 57   & 5    & 18  \\\\\n",
       "\t  30  & 322  & 11.5 & 68   & 5    & 19  \\\\\n",
       "\t  11  &  44  &  9.7 & 62   & 5    & 20  \\\\\n",
       "\t   1  &   8  &  9.7 & 59   & 5    & 21  \\\\\n",
       "\t  11  & 320  & 16.6 & 73   & 5    & 22  \\\\\n",
       "\t   4  &  25  &  9.7 & 61   & 5    & 23  \\\\\n",
       "\t  32  &  92  & 12.0 & 61   & 5    & 24  \\\\\n",
       "\t  NA  &  66  & 16.6 & 57   & 5    & 25  \\\\\n",
       "\t  NA  & 266  & 14.9 & 58   & 5    & 26  \\\\\n",
       "\t  NA  &  NA  &  8.0 & 57   & 5    & 27  \\\\\n",
       "\t  23  &  13  & 12.0 & 67   & 5    & 28  \\\\\n",
       "\t  45  & 252  & 14.9 & 81   & 5    & 29  \\\\\n",
       "\t 115  & 223  &  5.7 & 79   & 5    & 30  \\\\\n",
       "\t ... & ... & ... & ... & ... & ...\\\\\n",
       "\t 96   & 167  &  6.9 & 91   & 9    &  1  \\\\\n",
       "\t 78   & 197  &  5.1 & 92   & 9    &  2  \\\\\n",
       "\t 73   & 183  &  2.8 & 93   & 9    &  3  \\\\\n",
       "\t 91   & 189  &  4.6 & 93   & 9    &  4  \\\\\n",
       "\t 47   &  95  &  7.4 & 87   & 9    &  5  \\\\\n",
       "\t 32   &  92  & 15.5 & 84   & 9    &  6  \\\\\n",
       "\t 20   & 252  & 10.9 & 80   & 9    &  7  \\\\\n",
       "\t 23   & 220  & 10.3 & 78   & 9    &  8  \\\\\n",
       "\t 21   & 230  & 10.9 & 75   & 9    &  9  \\\\\n",
       "\t 24   & 259  &  9.7 & 73   & 9    & 10  \\\\\n",
       "\t 44   & 236  & 14.9 & 81   & 9    & 11  \\\\\n",
       "\t 21   & 259  & 15.5 & 76   & 9    & 12  \\\\\n",
       "\t 28   & 238  &  6.3 & 77   & 9    & 13  \\\\\n",
       "\t  9   &  24  & 10.9 & 71   & 9    & 14  \\\\\n",
       "\t 13   & 112  & 11.5 & 71   & 9    & 15  \\\\\n",
       "\t 46   & 237  &  6.9 & 78   & 9    & 16  \\\\\n",
       "\t 18   & 224  & 13.8 & 67   & 9    & 17  \\\\\n",
       "\t 13   &  27  & 10.3 & 76   & 9    & 18  \\\\\n",
       "\t 24   & 238  & 10.3 & 68   & 9    & 19  \\\\\n",
       "\t 16   & 201  &  8.0 & 82   & 9    & 20  \\\\\n",
       "\t 13   & 238  & 12.6 & 64   & 9    & 21  \\\\\n",
       "\t 23   &  14  &  9.2 & 71   & 9    & 22  \\\\\n",
       "\t 36   & 139  & 10.3 & 81   & 9    & 23  \\\\\n",
       "\t  7   &  49  & 10.3 & 69   & 9    & 24  \\\\\n",
       "\t 14   &  20  & 16.6 & 63   & 9    & 25  \\\\\n",
       "\t 30   & 193  &  6.9 & 70   & 9    & 26  \\\\\n",
       "\t NA   & 145  & 13.2 & 77   & 9    & 27  \\\\\n",
       "\t 14   & 191  & 14.3 & 75   & 9    & 28  \\\\\n",
       "\t 18   & 131  &  8.0 & 76   & 9    & 29  \\\\\n",
       "\t 20   & 223  & 11.5 & 68   & 9    & 30  \\\\\n",
       "\\end{tabular}\n"
      ],
      "text/markdown": [
       "\n",
       "Ozone | Solar.R | Wind | Temp | Month | Day | \n",
       "|---|---|---|---|---|---|---|---|---|---|---|---|---|---|---|---|---|---|---|---|---|---|---|---|---|---|---|---|---|---|---|---|---|---|---|---|---|---|---|---|---|---|---|---|---|---|---|---|---|---|---|---|---|---|---|---|---|---|---|---|---|\n",
       "|  41  | 190  |  7.4 | 67   | 5    |  1   | \n",
       "|  36  | 118  |  8.0 | 72   | 5    |  2   | \n",
       "|  12  | 149  | 12.6 | 74   | 5    |  3   | \n",
       "|  18  | 313  | 11.5 | 62   | 5    |  4   | \n",
       "|  NA  |  NA  | 14.3 | 56   | 5    |  5   | \n",
       "|  28  |  NA  | 14.9 | 66   | 5    |  6   | \n",
       "|  23  | 299  |  8.6 | 65   | 5    |  7   | \n",
       "|  19  |  99  | 13.8 | 59   | 5    |  8   | \n",
       "|   8  |  19  | 20.1 | 61   | 5    |  9   | \n",
       "|  NA  | 194  |  8.6 | 69   | 5    | 10   | \n",
       "|   7  |  NA  |  6.9 | 74   | 5    | 11   | \n",
       "|  16  | 256  |  9.7 | 69   | 5    | 12   | \n",
       "|  11  | 290  |  9.2 | 66   | 5    | 13   | \n",
       "|  14  | 274  | 10.9 | 68   | 5    | 14   | \n",
       "|  18  |  65  | 13.2 | 58   | 5    | 15   | \n",
       "|  14  | 334  | 11.5 | 64   | 5    | 16   | \n",
       "|  34  | 307  | 12.0 | 66   | 5    | 17   | \n",
       "|   6  |  78  | 18.4 | 57   | 5    | 18   | \n",
       "|  30  | 322  | 11.5 | 68   | 5    | 19   | \n",
       "|  11  |  44  |  9.7 | 62   | 5    | 20   | \n",
       "|   1  |   8  |  9.7 | 59   | 5    | 21   | \n",
       "|  11  | 320  | 16.6 | 73   | 5    | 22   | \n",
       "|   4  |  25  |  9.7 | 61   | 5    | 23   | \n",
       "|  32  |  92  | 12.0 | 61   | 5    | 24   | \n",
       "|  NA  |  66  | 16.6 | 57   | 5    | 25   | \n",
       "|  NA  | 266  | 14.9 | 58   | 5    | 26   | \n",
       "|  NA  |  NA  |  8.0 | 57   | 5    | 27   | \n",
       "|  23  |  13  | 12.0 | 67   | 5    | 28   | \n",
       "|  45  | 252  | 14.9 | 81   | 5    | 29   | \n",
       "| 115  | 223  |  5.7 | 79   | 5    | 30   | \n",
       "| ... | ... | ... | ... | ... | ... | \n",
       "| 96   | 167  |  6.9 | 91   | 9    |  1   | \n",
       "| 78   | 197  |  5.1 | 92   | 9    |  2   | \n",
       "| 73   | 183  |  2.8 | 93   | 9    |  3   | \n",
       "| 91   | 189  |  4.6 | 93   | 9    |  4   | \n",
       "| 47   |  95  |  7.4 | 87   | 9    |  5   | \n",
       "| 32   |  92  | 15.5 | 84   | 9    |  6   | \n",
       "| 20   | 252  | 10.9 | 80   | 9    |  7   | \n",
       "| 23   | 220  | 10.3 | 78   | 9    |  8   | \n",
       "| 21   | 230  | 10.9 | 75   | 9    |  9   | \n",
       "| 24   | 259  |  9.7 | 73   | 9    | 10   | \n",
       "| 44   | 236  | 14.9 | 81   | 9    | 11   | \n",
       "| 21   | 259  | 15.5 | 76   | 9    | 12   | \n",
       "| 28   | 238  |  6.3 | 77   | 9    | 13   | \n",
       "|  9   |  24  | 10.9 | 71   | 9    | 14   | \n",
       "| 13   | 112  | 11.5 | 71   | 9    | 15   | \n",
       "| 46   | 237  |  6.9 | 78   | 9    | 16   | \n",
       "| 18   | 224  | 13.8 | 67   | 9    | 17   | \n",
       "| 13   |  27  | 10.3 | 76   | 9    | 18   | \n",
       "| 24   | 238  | 10.3 | 68   | 9    | 19   | \n",
       "| 16   | 201  |  8.0 | 82   | 9    | 20   | \n",
       "| 13   | 238  | 12.6 | 64   | 9    | 21   | \n",
       "| 23   |  14  |  9.2 | 71   | 9    | 22   | \n",
       "| 36   | 139  | 10.3 | 81   | 9    | 23   | \n",
       "|  7   |  49  | 10.3 | 69   | 9    | 24   | \n",
       "| 14   |  20  | 16.6 | 63   | 9    | 25   | \n",
       "| 30   | 193  |  6.9 | 70   | 9    | 26   | \n",
       "| NA   | 145  | 13.2 | 77   | 9    | 27   | \n",
       "| 14   | 191  | 14.3 | 75   | 9    | 28   | \n",
       "| 18   | 131  |  8.0 | 76   | 9    | 29   | \n",
       "| 20   | 223  | 11.5 | 68   | 9    | 30   | \n",
       "\n",
       "\n"
      ],
      "text/plain": [
       "    Ozone Solar.R Wind Temp Month Day\n",
       "1    41   190      7.4 67   5      1 \n",
       "2    36   118      8.0 72   5      2 \n",
       "3    12   149     12.6 74   5      3 \n",
       "4    18   313     11.5 62   5      4 \n",
       "5    NA    NA     14.3 56   5      5 \n",
       "6    28    NA     14.9 66   5      6 \n",
       "7    23   299      8.6 65   5      7 \n",
       "8    19    99     13.8 59   5      8 \n",
       "9     8    19     20.1 61   5      9 \n",
       "10   NA   194      8.6 69   5     10 \n",
       "11    7    NA      6.9 74   5     11 \n",
       "12   16   256      9.7 69   5     12 \n",
       "13   11   290      9.2 66   5     13 \n",
       "14   14   274     10.9 68   5     14 \n",
       "15   18    65     13.2 58   5     15 \n",
       "16   14   334     11.5 64   5     16 \n",
       "17   34   307     12.0 66   5     17 \n",
       "18    6    78     18.4 57   5     18 \n",
       "19   30   322     11.5 68   5     19 \n",
       "20   11    44      9.7 62   5     20 \n",
       "21    1     8      9.7 59   5     21 \n",
       "22   11   320     16.6 73   5     22 \n",
       "23    4    25      9.7 61   5     23 \n",
       "24   32    92     12.0 61   5     24 \n",
       "25   NA    66     16.6 57   5     25 \n",
       "26   NA   266     14.9 58   5     26 \n",
       "27   NA    NA      8.0 57   5     27 \n",
       "28   23    13     12.0 67   5     28 \n",
       "29   45   252     14.9 81   5     29 \n",
       "30  115   223      5.7 79   5     30 \n",
       "... ...   ...     ...  ...  ...   ...\n",
       "124 96    167      6.9 91   9      1 \n",
       "125 78    197      5.1 92   9      2 \n",
       "126 73    183      2.8 93   9      3 \n",
       "127 91    189      4.6 93   9      4 \n",
       "128 47     95      7.4 87   9      5 \n",
       "129 32     92     15.5 84   9      6 \n",
       "130 20    252     10.9 80   9      7 \n",
       "131 23    220     10.3 78   9      8 \n",
       "132 21    230     10.9 75   9      9 \n",
       "133 24    259      9.7 73   9     10 \n",
       "134 44    236     14.9 81   9     11 \n",
       "135 21    259     15.5 76   9     12 \n",
       "136 28    238      6.3 77   9     13 \n",
       "137  9     24     10.9 71   9     14 \n",
       "138 13    112     11.5 71   9     15 \n",
       "139 46    237      6.9 78   9     16 \n",
       "140 18    224     13.8 67   9     17 \n",
       "141 13     27     10.3 76   9     18 \n",
       "142 24    238     10.3 68   9     19 \n",
       "143 16    201      8.0 82   9     20 \n",
       "144 13    238     12.6 64   9     21 \n",
       "145 23     14      9.2 71   9     22 \n",
       "146 36    139     10.3 81   9     23 \n",
       "147  7     49     10.3 69   9     24 \n",
       "148 14     20     16.6 63   9     25 \n",
       "149 30    193      6.9 70   9     26 \n",
       "150 NA    145     13.2 77   9     27 \n",
       "151 14    191     14.3 75   9     28 \n",
       "152 18    131      8.0 76   9     29 \n",
       "153 20    223     11.5 68   9     30 "
      ]
     },
     "metadata": {},
     "output_type": "display_data"
    }
   ],
   "source": [
    "df <- read.csv('hw1_data.csv')\n",
    "df"
   ]
  },
  {
   "cell_type": "code",
   "execution_count": 56,
   "metadata": {},
   "outputs": [
    {
     "data": {
      "text/html": [
       "42.1293103448276"
      ],
      "text/latex": [
       "42.1293103448276"
      ],
      "text/markdown": [
       "42.1293103448276"
      ],
      "text/plain": [
       "[1] 42.12931"
      ]
     },
     "metadata": {},
     "output_type": "display_data"
    }
   ],
   "source": [
    "mean(df[!is.na(df[,1]),1])"
   ]
  },
  {
   "cell_type": "code",
   "execution_count": 74,
   "metadata": {},
   "outputs": [
    {
     "data": {
      "text/html": [
       "<ol class=list-inline>\n",
       "\t<li>FALSE</li>\n",
       "\t<li>FALSE</li>\n",
       "\t<li>FALSE</li>\n",
       "\t<li>FALSE</li>\n",
       "\t<li>FALSE</li>\n",
       "\t<li>FALSE</li>\n",
       "\t<li>FALSE</li>\n",
       "\t<li>FALSE</li>\n",
       "\t<li>FALSE</li>\n",
       "\t<li>FALSE</li>\n",
       "\t<li>FALSE</li>\n",
       "\t<li>FALSE</li>\n",
       "\t<li>FALSE</li>\n",
       "\t<li>FALSE</li>\n",
       "\t<li>FALSE</li>\n",
       "\t<li>FALSE</li>\n",
       "\t<li>FALSE</li>\n",
       "\t<li>FALSE</li>\n",
       "\t<li>FALSE</li>\n",
       "\t<li>FALSE</li>\n",
       "\t<li>FALSE</li>\n",
       "\t<li>FALSE</li>\n",
       "\t<li>FALSE</li>\n",
       "\t<li>FALSE</li>\n",
       "\t<li>FALSE</li>\n",
       "\t<li>FALSE</li>\n",
       "\t<li>FALSE</li>\n",
       "\t<li>FALSE</li>\n",
       "\t<li>FALSE</li>\n",
       "\t<li>FALSE</li>\n",
       "\t<li>FALSE</li>\n",
       "\t<li>FALSE</li>\n",
       "\t<li>FALSE</li>\n",
       "\t<li>FALSE</li>\n",
       "\t<li>FALSE</li>\n",
       "\t<li>FALSE</li>\n",
       "\t<li>FALSE</li>\n",
       "\t<li>FALSE</li>\n",
       "\t<li>FALSE</li>\n",
       "\t<li>FALSE</li>\n",
       "\t<li>FALSE</li>\n",
       "\t<li>&lt;NA&gt;</li>\n",
       "\t<li>&lt;NA&gt;</li>\n",
       "\t<li>FALSE</li>\n",
       "\t<li>FALSE</li>\n",
       "\t<li>FALSE</li>\n",
       "\t<li>FALSE</li>\n",
       "\t<li>FALSE</li>\n",
       "\t<li>FALSE</li>\n",
       "\t<li>FALSE</li>\n",
       "\t<li>FALSE</li>\n",
       "\t<li>FALSE</li>\n",
       "\t<li>FALSE</li>\n",
       "\t<li>FALSE</li>\n",
       "\t<li>FALSE</li>\n",
       "\t<li>FALSE</li>\n",
       "\t<li>FALSE</li>\n",
       "\t<li>FALSE</li>\n",
       "\t<li>FALSE</li>\n",
       "\t<li>FALSE</li>\n",
       "\t<li>FALSE</li>\n",
       "\t<li>FALSE</li>\n",
       "\t<li>FALSE</li>\n",
       "\t<li>FALSE</li>\n",
       "\t<li>FALSE</li>\n",
       "\t<li>FALSE</li>\n",
       "\t<li>FALSE</li>\n",
       "\t<li>FALSE</li>\n",
       "\t<li>TRUE</li>\n",
       "\t<li>TRUE</li>\n",
       "\t<li>FALSE</li>\n",
       "\t<li>FALSE</li>\n",
       "\t<li>FALSE</li>\n",
       "\t<li>FALSE</li>\n",
       "\t<li>&lt;NA&gt;</li>\n",
       "\t<li>FALSE</li>\n",
       "\t<li>FALSE</li>\n",
       "\t<li>FALSE</li>\n",
       "\t<li>FALSE</li>\n",
       "\t<li>FALSE</li>\n",
       "\t<li>FALSE</li>\n",
       "\t<li>FALSE</li>\n",
       "\t<li>FALSE</li>\n",
       "\t<li>FALSE</li>\n",
       "\t<li>FALSE</li>\n",
       "\t<li>FALSE</li>\n",
       "\t<li>FALSE</li>\n",
       "\t<li>FALSE</li>\n",
       "\t<li>FALSE</li>\n",
       "\t<li>FALSE</li>\n",
       "\t<li>FALSE</li>\n",
       "\t<li>FALSE</li>\n",
       "\t<li>FALSE</li>\n",
       "\t<li>FALSE</li>\n",
       "\t<li>FALSE</li>\n",
       "\t<li>FALSE</li>\n",
       "\t<li>FALSE</li>\n",
       "\t<li>FALSE</li>\n",
       "\t<li>FALSE</li>\n",
       "\t<li>FALSE</li>\n",
       "\t<li>FALSE</li>\n",
       "\t<li>&lt;NA&gt;</li>\n",
       "\t<li>FALSE</li>\n",
       "\t<li>FALSE</li>\n",
       "\t<li>FALSE</li>\n",
       "\t<li>FALSE</li>\n",
       "\t<li>FALSE</li>\n",
       "\t<li>FALSE</li>\n",
       "\t<li>FALSE</li>\n",
       "\t<li>FALSE</li>\n",
       "\t<li>FALSE</li>\n",
       "\t<li>FALSE</li>\n",
       "\t<li>FALSE</li>\n",
       "\t<li>FALSE</li>\n",
       "\t<li>FALSE</li>\n",
       "\t<li>FALSE</li>\n",
       "\t<li>FALSE</li>\n",
       "\t<li>FALSE</li>\n",
       "\t<li>FALSE</li>\n",
       "\t<li>TRUE</li>\n",
       "\t<li>TRUE</li>\n",
       "\t<li>TRUE</li>\n",
       "\t<li>TRUE</li>\n",
       "\t<li>TRUE</li>\n",
       "\t<li>TRUE</li>\n",
       "\t<li>TRUE</li>\n",
       "\t<li>TRUE</li>\n",
       "\t<li>FALSE</li>\n",
       "\t<li>FALSE</li>\n",
       "\t<li>FALSE</li>\n",
       "\t<li>FALSE</li>\n",
       "\t<li>FALSE</li>\n",
       "\t<li>FALSE</li>\n",
       "\t<li>FALSE</li>\n",
       "\t<li>FALSE</li>\n",
       "\t<li>FALSE</li>\n",
       "\t<li>FALSE</li>\n",
       "\t<li>FALSE</li>\n",
       "\t<li>FALSE</li>\n",
       "\t<li>FALSE</li>\n",
       "\t<li>FALSE</li>\n",
       "\t<li>FALSE</li>\n",
       "\t<li>FALSE</li>\n",
       "\t<li>FALSE</li>\n",
       "\t<li>FALSE</li>\n",
       "\t<li>FALSE</li>\n",
       "\t<li>FALSE</li>\n",
       "\t<li>FALSE</li>\n",
       "\t<li>FALSE</li>\n",
       "\t<li>FALSE</li>\n",
       "\t<li>FALSE</li>\n",
       "\t<li>FALSE</li>\n",
       "\t<li>FALSE</li>\n",
       "</ol>\n"
      ],
      "text/latex": [
       "\\begin{enumerate*}\n",
       "\\item FALSE\n",
       "\\item FALSE\n",
       "\\item FALSE\n",
       "\\item FALSE\n",
       "\\item FALSE\n",
       "\\item FALSE\n",
       "\\item FALSE\n",
       "\\item FALSE\n",
       "\\item FALSE\n",
       "\\item FALSE\n",
       "\\item FALSE\n",
       "\\item FALSE\n",
       "\\item FALSE\n",
       "\\item FALSE\n",
       "\\item FALSE\n",
       "\\item FALSE\n",
       "\\item FALSE\n",
       "\\item FALSE\n",
       "\\item FALSE\n",
       "\\item FALSE\n",
       "\\item FALSE\n",
       "\\item FALSE\n",
       "\\item FALSE\n",
       "\\item FALSE\n",
       "\\item FALSE\n",
       "\\item FALSE\n",
       "\\item FALSE\n",
       "\\item FALSE\n",
       "\\item FALSE\n",
       "\\item FALSE\n",
       "\\item FALSE\n",
       "\\item FALSE\n",
       "\\item FALSE\n",
       "\\item FALSE\n",
       "\\item FALSE\n",
       "\\item FALSE\n",
       "\\item FALSE\n",
       "\\item FALSE\n",
       "\\item FALSE\n",
       "\\item FALSE\n",
       "\\item FALSE\n",
       "\\item <NA>\n",
       "\\item <NA>\n",
       "\\item FALSE\n",
       "\\item FALSE\n",
       "\\item FALSE\n",
       "\\item FALSE\n",
       "\\item FALSE\n",
       "\\item FALSE\n",
       "\\item FALSE\n",
       "\\item FALSE\n",
       "\\item FALSE\n",
       "\\item FALSE\n",
       "\\item FALSE\n",
       "\\item FALSE\n",
       "\\item FALSE\n",
       "\\item FALSE\n",
       "\\item FALSE\n",
       "\\item FALSE\n",
       "\\item FALSE\n",
       "\\item FALSE\n",
       "\\item FALSE\n",
       "\\item FALSE\n",
       "\\item FALSE\n",
       "\\item FALSE\n",
       "\\item FALSE\n",
       "\\item FALSE\n",
       "\\item FALSE\n",
       "\\item TRUE\n",
       "\\item TRUE\n",
       "\\item FALSE\n",
       "\\item FALSE\n",
       "\\item FALSE\n",
       "\\item FALSE\n",
       "\\item <NA>\n",
       "\\item FALSE\n",
       "\\item FALSE\n",
       "\\item FALSE\n",
       "\\item FALSE\n",
       "\\item FALSE\n",
       "\\item FALSE\n",
       "\\item FALSE\n",
       "\\item FALSE\n",
       "\\item FALSE\n",
       "\\item FALSE\n",
       "\\item FALSE\n",
       "\\item FALSE\n",
       "\\item FALSE\n",
       "\\item FALSE\n",
       "\\item FALSE\n",
       "\\item FALSE\n",
       "\\item FALSE\n",
       "\\item FALSE\n",
       "\\item FALSE\n",
       "\\item FALSE\n",
       "\\item FALSE\n",
       "\\item FALSE\n",
       "\\item FALSE\n",
       "\\item FALSE\n",
       "\\item FALSE\n",
       "\\item FALSE\n",
       "\\item <NA>\n",
       "\\item FALSE\n",
       "\\item FALSE\n",
       "\\item FALSE\n",
       "\\item FALSE\n",
       "\\item FALSE\n",
       "\\item FALSE\n",
       "\\item FALSE\n",
       "\\item FALSE\n",
       "\\item FALSE\n",
       "\\item FALSE\n",
       "\\item FALSE\n",
       "\\item FALSE\n",
       "\\item FALSE\n",
       "\\item FALSE\n",
       "\\item FALSE\n",
       "\\item FALSE\n",
       "\\item FALSE\n",
       "\\item TRUE\n",
       "\\item TRUE\n",
       "\\item TRUE\n",
       "\\item TRUE\n",
       "\\item TRUE\n",
       "\\item TRUE\n",
       "\\item TRUE\n",
       "\\item TRUE\n",
       "\\item FALSE\n",
       "\\item FALSE\n",
       "\\item FALSE\n",
       "\\item FALSE\n",
       "\\item FALSE\n",
       "\\item FALSE\n",
       "\\item FALSE\n",
       "\\item FALSE\n",
       "\\item FALSE\n",
       "\\item FALSE\n",
       "\\item FALSE\n",
       "\\item FALSE\n",
       "\\item FALSE\n",
       "\\item FALSE\n",
       "\\item FALSE\n",
       "\\item FALSE\n",
       "\\item FALSE\n",
       "\\item FALSE\n",
       "\\item FALSE\n",
       "\\item FALSE\n",
       "\\item FALSE\n",
       "\\item FALSE\n",
       "\\item FALSE\n",
       "\\item FALSE\n",
       "\\item FALSE\n",
       "\\item FALSE\n",
       "\\end{enumerate*}\n"
      ],
      "text/markdown": [
       "1. FALSE\n",
       "2. FALSE\n",
       "3. FALSE\n",
       "4. FALSE\n",
       "5. FALSE\n",
       "6. FALSE\n",
       "7. FALSE\n",
       "8. FALSE\n",
       "9. FALSE\n",
       "10. FALSE\n",
       "11. FALSE\n",
       "12. FALSE\n",
       "13. FALSE\n",
       "14. FALSE\n",
       "15. FALSE\n",
       "16. FALSE\n",
       "17. FALSE\n",
       "18. FALSE\n",
       "19. FALSE\n",
       "20. FALSE\n",
       "21. FALSE\n",
       "22. FALSE\n",
       "23. FALSE\n",
       "24. FALSE\n",
       "25. FALSE\n",
       "26. FALSE\n",
       "27. FALSE\n",
       "28. FALSE\n",
       "29. FALSE\n",
       "30. FALSE\n",
       "31. FALSE\n",
       "32. FALSE\n",
       "33. FALSE\n",
       "34. FALSE\n",
       "35. FALSE\n",
       "36. FALSE\n",
       "37. FALSE\n",
       "38. FALSE\n",
       "39. FALSE\n",
       "40. FALSE\n",
       "41. FALSE\n",
       "42. &lt;NA&gt;\n",
       "43. &lt;NA&gt;\n",
       "44. FALSE\n",
       "45. FALSE\n",
       "46. FALSE\n",
       "47. FALSE\n",
       "48. FALSE\n",
       "49. FALSE\n",
       "50. FALSE\n",
       "51. FALSE\n",
       "52. FALSE\n",
       "53. FALSE\n",
       "54. FALSE\n",
       "55. FALSE\n",
       "56. FALSE\n",
       "57. FALSE\n",
       "58. FALSE\n",
       "59. FALSE\n",
       "60. FALSE\n",
       "61. FALSE\n",
       "62. FALSE\n",
       "63. FALSE\n",
       "64. FALSE\n",
       "65. FALSE\n",
       "66. FALSE\n",
       "67. FALSE\n",
       "68. FALSE\n",
       "69. TRUE\n",
       "70. TRUE\n",
       "71. FALSE\n",
       "72. FALSE\n",
       "73. FALSE\n",
       "74. FALSE\n",
       "75. &lt;NA&gt;\n",
       "76. FALSE\n",
       "77. FALSE\n",
       "78. FALSE\n",
       "79. FALSE\n",
       "80. FALSE\n",
       "81. FALSE\n",
       "82. FALSE\n",
       "83. FALSE\n",
       "84. FALSE\n",
       "85. FALSE\n",
       "86. FALSE\n",
       "87. FALSE\n",
       "88. FALSE\n",
       "89. FALSE\n",
       "90. FALSE\n",
       "91. FALSE\n",
       "92. FALSE\n",
       "93. FALSE\n",
       "94. FALSE\n",
       "95. FALSE\n",
       "96. FALSE\n",
       "97. FALSE\n",
       "98. FALSE\n",
       "99. FALSE\n",
       "100. FALSE\n",
       "101. FALSE\n",
       "102. &lt;NA&gt;\n",
       "103. FALSE\n",
       "104. FALSE\n",
       "105. FALSE\n",
       "106. FALSE\n",
       "107. FALSE\n",
       "108. FALSE\n",
       "109. FALSE\n",
       "110. FALSE\n",
       "111. FALSE\n",
       "112. FALSE\n",
       "113. FALSE\n",
       "114. FALSE\n",
       "115. FALSE\n",
       "116. FALSE\n",
       "117. FALSE\n",
       "118. FALSE\n",
       "119. FALSE\n",
       "120. TRUE\n",
       "121. TRUE\n",
       "122. TRUE\n",
       "123. TRUE\n",
       "124. TRUE\n",
       "125. TRUE\n",
       "126. TRUE\n",
       "127. TRUE\n",
       "128. FALSE\n",
       "129. FALSE\n",
       "130. FALSE\n",
       "131. FALSE\n",
       "132. FALSE\n",
       "133. FALSE\n",
       "134. FALSE\n",
       "135. FALSE\n",
       "136. FALSE\n",
       "137. FALSE\n",
       "138. FALSE\n",
       "139. FALSE\n",
       "140. FALSE\n",
       "141. FALSE\n",
       "142. FALSE\n",
       "143. FALSE\n",
       "144. FALSE\n",
       "145. FALSE\n",
       "146. FALSE\n",
       "147. FALSE\n",
       "148. FALSE\n",
       "149. FALSE\n",
       "150. FALSE\n",
       "151. FALSE\n",
       "152. FALSE\n",
       "153. FALSE\n",
       "\n",
       "\n"
      ],
      "text/plain": [
       "  [1] FALSE FALSE FALSE FALSE FALSE FALSE FALSE FALSE FALSE FALSE FALSE FALSE\n",
       " [13] FALSE FALSE FALSE FALSE FALSE FALSE FALSE FALSE FALSE FALSE FALSE FALSE\n",
       " [25] FALSE FALSE FALSE FALSE FALSE FALSE FALSE FALSE FALSE FALSE FALSE FALSE\n",
       " [37] FALSE FALSE FALSE FALSE FALSE    NA    NA FALSE FALSE FALSE FALSE FALSE\n",
       " [49] FALSE FALSE FALSE FALSE FALSE FALSE FALSE FALSE FALSE FALSE FALSE FALSE\n",
       " [61] FALSE FALSE FALSE FALSE FALSE FALSE FALSE FALSE  TRUE  TRUE FALSE FALSE\n",
       " [73] FALSE FALSE    NA FALSE FALSE FALSE FALSE FALSE FALSE FALSE FALSE FALSE\n",
       " [85] FALSE FALSE FALSE FALSE FALSE FALSE FALSE FALSE FALSE FALSE FALSE FALSE\n",
       " [97] FALSE FALSE FALSE FALSE FALSE    NA FALSE FALSE FALSE FALSE FALSE FALSE\n",
       "[109] FALSE FALSE FALSE FALSE FALSE FALSE FALSE FALSE FALSE FALSE FALSE  TRUE\n",
       "[121]  TRUE  TRUE  TRUE  TRUE  TRUE  TRUE  TRUE FALSE FALSE FALSE FALSE FALSE\n",
       "[133] FALSE FALSE FALSE FALSE FALSE FALSE FALSE FALSE FALSE FALSE FALSE FALSE\n",
       "[145] FALSE FALSE FALSE FALSE FALSE FALSE FALSE FALSE FALSE"
      ]
     },
     "metadata": {},
     "output_type": "display_data"
    }
   ],
   "source": [
    "x  <- df[,1] > 31 & df[,4] > 90\n",
    "x"
   ]
  },
  {
   "cell_type": "code",
   "execution_count": 79,
   "metadata": {},
   "outputs": [],
   "source": [
    "z <- df[x,]"
   ]
  },
  {
   "cell_type": "code",
   "execution_count": 84,
   "metadata": {},
   "outputs": [
    {
     "data": {
      "text/html": [
       "<table>\n",
       "<thead><tr><th></th><th scope=col>Ozone</th><th scope=col>Solar.R</th><th scope=col>Wind</th><th scope=col>Temp</th><th scope=col>Month</th><th scope=col>Day</th></tr></thead>\n",
       "<tbody>\n",
       "\t<tr><th scope=row>69</th><td> 97</td><td>267</td><td>6.3</td><td>92 </td><td>7  </td><td> 8 </td></tr>\n",
       "\t<tr><th scope=row>70</th><td> 97</td><td>272</td><td>5.7</td><td>92 </td><td>7  </td><td> 9 </td></tr>\n",
       "\t<tr><th scope=row>120</th><td> 76</td><td>203</td><td>9.7</td><td>97 </td><td>8  </td><td>28 </td></tr>\n",
       "\t<tr><th scope=row>121</th><td>118</td><td>225</td><td>2.3</td><td>94 </td><td>8  </td><td>29 </td></tr>\n",
       "\t<tr><th scope=row>122</th><td> 84</td><td>237</td><td>6.3</td><td>96 </td><td>8  </td><td>30 </td></tr>\n",
       "\t<tr><th scope=row>123</th><td> 85</td><td>188</td><td>6.3</td><td>94 </td><td>8  </td><td>31 </td></tr>\n",
       "\t<tr><th scope=row>124</th><td> 96</td><td>167</td><td>6.9</td><td>91 </td><td>9  </td><td> 1 </td></tr>\n",
       "\t<tr><th scope=row>125</th><td> 78</td><td>197</td><td>5.1</td><td>92 </td><td>9  </td><td> 2 </td></tr>\n",
       "\t<tr><th scope=row>126</th><td> 73</td><td>183</td><td>2.8</td><td>93 </td><td>9  </td><td> 3 </td></tr>\n",
       "\t<tr><th scope=row>127</th><td> 91</td><td>189</td><td>4.6</td><td>93 </td><td>9  </td><td> 4 </td></tr>\n",
       "</tbody>\n",
       "</table>\n"
      ],
      "text/latex": [
       "\\begin{tabular}{r|llllll}\n",
       "  & Ozone & Solar.R & Wind & Temp & Month & Day\\\\\n",
       "\\hline\n",
       "\t69 &  97 & 267 & 6.3 & 92  & 7   &  8 \\\\\n",
       "\t70 &  97 & 272 & 5.7 & 92  & 7   &  9 \\\\\n",
       "\t120 &  76 & 203 & 9.7 & 97  & 8   & 28 \\\\\n",
       "\t121 & 118 & 225 & 2.3 & 94  & 8   & 29 \\\\\n",
       "\t122 &  84 & 237 & 6.3 & 96  & 8   & 30 \\\\\n",
       "\t123 &  85 & 188 & 6.3 & 94  & 8   & 31 \\\\\n",
       "\t124 &  96 & 167 & 6.9 & 91  & 9   &  1 \\\\\n",
       "\t125 &  78 & 197 & 5.1 & 92  & 9   &  2 \\\\\n",
       "\t126 &  73 & 183 & 2.8 & 93  & 9   &  3 \\\\\n",
       "\t127 &  91 & 189 & 4.6 & 93  & 9   &  4 \\\\\n",
       "\\end{tabular}\n"
      ],
      "text/markdown": [
       "\n",
       "| <!--/--> | Ozone | Solar.R | Wind | Temp | Month | Day | \n",
       "|---|---|---|---|---|---|---|---|---|---|\n",
       "| 69 |  97 | 267 | 6.3 | 92  | 7   |  8  | \n",
       "| 70 |  97 | 272 | 5.7 | 92  | 7   |  9  | \n",
       "| 120 |  76 | 203 | 9.7 | 97  | 8   | 28  | \n",
       "| 121 | 118 | 225 | 2.3 | 94  | 8   | 29  | \n",
       "| 122 |  84 | 237 | 6.3 | 96  | 8   | 30  | \n",
       "| 123 |  85 | 188 | 6.3 | 94  | 8   | 31  | \n",
       "| 124 |  96 | 167 | 6.9 | 91  | 9   |  1  | \n",
       "| 125 |  78 | 197 | 5.1 | 92  | 9   |  2  | \n",
       "| 126 |  73 | 183 | 2.8 | 93  | 9   |  3  | \n",
       "| 127 |  91 | 189 | 4.6 | 93  | 9   |  4  | \n",
       "\n",
       "\n"
      ],
      "text/plain": [
       "    Ozone Solar.R Wind Temp Month Day\n",
       "69   97   267     6.3  92   7      8 \n",
       "70   97   272     5.7  92   7      9 \n",
       "120  76   203     9.7  97   8     28 \n",
       "121 118   225     2.3  94   8     29 \n",
       "122  84   237     6.3  96   8     30 \n",
       "123  85   188     6.3  94   8     31 \n",
       "124  96   167     6.9  91   9      1 \n",
       "125  78   197     5.1  92   9      2 \n",
       "126  73   183     2.8  93   9      3 \n",
       "127  91   189     4.6  93   9      4 "
      ]
     },
     "metadata": {},
     "output_type": "display_data"
    }
   ],
   "source": [
    "z  <- z[!is.na.data.frame(z$Solar.R),]\n",
    "z"
   ]
  },
  {
   "cell_type": "code",
   "execution_count": 86,
   "metadata": {},
   "outputs": [
    {
     "data": {
      "text/html": [
       "212.8"
      ],
      "text/latex": [
       "212.8"
      ],
      "text/markdown": [
       "212.8"
      ],
      "text/plain": [
       "[1] 212.8"
      ]
     },
     "metadata": {},
     "output_type": "display_data"
    }
   ],
   "source": [
    "mean(z$Solar.R)"
   ]
  },
  {
   "cell_type": "code",
   "execution_count": 107,
   "metadata": {},
   "outputs": [
    {
     "data": {
      "text/html": [
       "115"
      ],
      "text/latex": [
       "115"
      ],
      "text/markdown": [
       "115"
      ],
      "text/plain": [
       "[1] 115"
      ]
     },
     "metadata": {},
     "output_type": "display_data"
    }
   ],
   "source": [
    "max(df[(df[,5] == 5),1],na.rm = TRUE)"
   ]
  },
  {
   "cell_type": "markdown",
   "metadata": {},
   "source": [
    "# Control Structures"
   ]
  },
  {
   "cell_type": "markdown",
   "metadata": {},
   "source": [
    "## if & if-else"
   ]
  },
  {
   "cell_type": "code",
   "execution_count": 12,
   "metadata": {
    "ExecuteTime": {
     "end_time": "2019-10-24T04:51:03.968908Z",
     "start_time": "2019-10-24T04:51:03.937Z"
    }
   },
   "outputs": [],
   "source": [
    "x <- 15"
   ]
  },
  {
   "cell_type": "code",
   "execution_count": 13,
   "metadata": {
    "ExecuteTime": {
     "end_time": "2019-10-24T04:51:04.543182Z",
     "start_time": "2019-10-24T04:51:04.511Z"
    }
   },
   "outputs": [
    {
     "data": {
      "text/html": [
       "100"
      ],
      "text/latex": [
       "100"
      ],
      "text/markdown": [
       "100"
      ],
      "text/plain": [
       "[1] 100"
      ]
     },
     "metadata": {},
     "output_type": "display_data"
    }
   ],
   "source": [
    "if(x>10){\n",
    "    x  <- 100\n",
    "}\n",
    "x"
   ]
  },
  {
   "cell_type": "code",
   "execution_count": 14,
   "metadata": {
    "ExecuteTime": {
     "end_time": "2019-10-24T04:51:05.095988Z",
     "start_time": "2019-10-24T04:51:05.064Z"
    }
   },
   "outputs": [
    {
     "data": {
      "text/html": [
       "150"
      ],
      "text/latex": [
       "150"
      ],
      "text/markdown": [
       "150"
      ],
      "text/plain": [
       "[1] 150"
      ]
     },
     "metadata": {},
     "output_type": "display_data"
    }
   ],
   "source": [
    "x <- if(x>10) 150\n",
    "x"
   ]
  },
  {
   "cell_type": "code",
   "execution_count": 15,
   "metadata": {
    "ExecuteTime": {
     "end_time": "2019-10-24T04:51:05.593520Z",
     "start_time": "2019-10-24T04:51:05.560Z"
    }
   },
   "outputs": [
    {
     "data": {
      "text/html": [
       "110"
      ],
      "text/latex": [
       "110"
      ],
      "text/markdown": [
       "110"
      ],
      "text/plain": [
       "[1] 110"
      ]
     },
     "metadata": {},
     "output_type": "display_data"
    }
   ],
   "source": [
    "if(x>10){\n",
    "    x <- 110\n",
    "}else{\n",
    "    x <- 0\n",
    "}\n",
    "x"
   ]
  },
  {
   "cell_type": "code",
   "execution_count": 16,
   "metadata": {
    "ExecuteTime": {
     "end_time": "2019-10-24T04:51:06.177549Z",
     "start_time": "2019-10-24T04:51:06.144Z"
    }
   },
   "outputs": [
    {
     "data": {
      "text/html": [
       "10"
      ],
      "text/latex": [
       "10"
      ],
      "text/markdown": [
       "10"
      ],
      "text/plain": [
       "[1] 10"
      ]
     },
     "metadata": {},
     "output_type": "display_data"
    }
   ],
   "source": [
    "x <- if(x>10){\n",
    "    10\n",
    "} else {\n",
    "    0\n",
    "}\n",
    "x"
   ]
  },
  {
   "cell_type": "markdown",
   "metadata": {},
   "source": [
    "## For Loops"
   ]
  },
  {
   "cell_type": "code",
   "execution_count": 17,
   "metadata": {
    "ExecuteTime": {
     "end_time": "2019-10-24T05:11:13.696364Z",
     "start_time": "2019-10-24T05:11:13.665Z"
    }
   },
   "outputs": [
    {
     "name": "stdout",
     "output_type": "stream",
     "text": [
      "[1] 1\n",
      "[1] 2\n",
      "[1] 3\n",
      "[1] 4\n",
      "[1] 5\n",
      "[1] 6\n",
      "[1] 7\n",
      "[1] 8\n",
      "[1] 9\n",
      "[1] 10\n"
     ]
    }
   ],
   "source": [
    "for(i in 1:10){\n",
    "    print(i)\n",
    "}"
   ]
  },
  {
   "cell_type": "code",
   "execution_count": 18,
   "metadata": {
    "ExecuteTime": {
     "end_time": "2019-10-24T05:13:36.004640Z",
     "start_time": "2019-10-24T05:13:35.977Z"
    }
   },
   "outputs": [],
   "source": [
    "x <- c(\"a\",\"b\",\"c\",\"d\",\"e\")"
   ]
  },
  {
   "cell_type": "code",
   "execution_count": 23,
   "metadata": {
    "ExecuteTime": {
     "end_time": "2019-10-24T05:14:37.674828Z",
     "start_time": "2019-10-24T05:14:37.641Z"
    }
   },
   "outputs": [
    {
     "name": "stdout",
     "output_type": "stream",
     "text": [
      "[1] \"a\"\n",
      "[1] \"b\"\n",
      "[1] \"c\"\n",
      "[1] \"d\"\n",
      "[1] \"e\"\n"
     ]
    }
   ],
   "source": [
    "for(i in 1:5){\n",
    "    print(x[i])\n",
    "}"
   ]
  },
  {
   "cell_type": "code",
   "execution_count": 24,
   "metadata": {
    "ExecuteTime": {
     "end_time": "2019-10-24T05:14:39.840589Z",
     "start_time": "2019-10-24T05:14:39.809Z"
    }
   },
   "outputs": [
    {
     "name": "stdout",
     "output_type": "stream",
     "text": [
      "[1] \"a\"\n",
      "[1] \"b\"\n",
      "[1] \"c\"\n",
      "[1] \"d\"\n",
      "[1] \"e\"\n"
     ]
    }
   ],
   "source": [
    "for(i in seq_along(x)){\n",
    "    print(x[i])\n",
    "}"
   ]
  },
  {
   "cell_type": "code",
   "execution_count": 25,
   "metadata": {
    "ExecuteTime": {
     "end_time": "2019-10-24T05:15:02.344928Z",
     "start_time": "2019-10-24T05:15:02.313Z"
    }
   },
   "outputs": [
    {
     "name": "stdout",
     "output_type": "stream",
     "text": [
      "[1] \"a\"\n",
      "[1] \"b\"\n",
      "[1] \"c\"\n",
      "[1] \"d\"\n",
      "[1] \"e\"\n"
     ]
    }
   ],
   "source": [
    "for(letter in x){\n",
    "    print(letter)\n",
    "}"
   ]
  },
  {
   "cell_type": "code",
   "execution_count": 26,
   "metadata": {
    "ExecuteTime": {
     "end_time": "2019-10-24T05:16:01.297774Z",
     "start_time": "2019-10-24T05:16:01.273Z"
    }
   },
   "outputs": [],
   "source": [
    "x <- matrix(1:10,nrow = 2,ncol = 5)"
   ]
  },
  {
   "cell_type": "code",
   "execution_count": 29,
   "metadata": {
    "ExecuteTime": {
     "end_time": "2019-10-24T05:16:53.955658Z",
     "start_time": "2019-10-24T05:16:53.921Z"
    }
   },
   "outputs": [
    {
     "name": "stdout",
     "output_type": "stream",
     "text": [
      "[1] 1\n",
      "[1] 3\n",
      "[1] 5\n",
      "[1] 7\n",
      "[1] 9\n",
      "[1] 2\n",
      "[1] 4\n",
      "[1] 6\n",
      "[1] 8\n",
      "[1] 10\n"
     ]
    }
   ],
   "source": [
    "for(i in seq_len(nrow(x))){\n",
    "    for(j in seq_len(ncol(x))){\n",
    "        print(x[i,j])\n",
    "    }\n",
    "}"
   ]
  },
  {
   "cell_type": "markdown",
   "metadata": {},
   "source": [
    "## While Loop"
   ]
  },
  {
   "cell_type": "code",
   "execution_count": 30,
   "metadata": {
    "ExecuteTime": {
     "end_time": "2019-10-24T05:22:48.122770Z",
     "start_time": "2019-10-24T05:22:48.081Z"
    }
   },
   "outputs": [
    {
     "name": "stdout",
     "output_type": "stream",
     "text": [
      "[1] 0\n",
      "[1] 1\n",
      "[1] 2\n",
      "[1] 3\n",
      "[1] 4\n",
      "[1] 5\n",
      "[1] 6\n",
      "[1] 7\n",
      "[1] 8\n",
      "[1] 9\n",
      "[1] 10\n"
     ]
    }
   ],
   "source": [
    "count <- 0\n",
    "while(count<=10){\n",
    "    print(count)\n",
    "    count <- count+1\n",
    "}"
   ]
  },
  {
   "cell_type": "code",
   "execution_count": 31,
   "metadata": {
    "ExecuteTime": {
     "end_time": "2019-10-24T05:32:50.838275Z",
     "start_time": "2019-10-24T05:32:50.812Z"
    }
   },
   "outputs": [],
   "source": [
    "# 'next' to skip the iteration"
   ]
  },
  {
   "cell_type": "markdown",
   "metadata": {},
   "source": [
    "# Functions"
   ]
  },
  {
   "cell_type": "code",
   "execution_count": 32,
   "metadata": {
    "ExecuteTime": {
     "end_time": "2019-10-24T05:34:33.863093Z",
     "start_time": "2019-10-24T05:34:33.833Z"
    }
   },
   "outputs": [],
   "source": [
    "add2 <- function(x,y){\n",
    "    x+y # R returns whatever last expresssion is there in the fuction body. \n",
    "}"
   ]
  },
  {
   "cell_type": "code",
   "execution_count": 33,
   "metadata": {
    "ExecuteTime": {
     "end_time": "2019-10-24T05:34:53.320861Z",
     "start_time": "2019-10-24T05:34:53.289Z"
    }
   },
   "outputs": [
    {
     "data": {
      "text/html": [
       "8"
      ],
      "text/latex": [
       "8"
      ],
      "text/markdown": [
       "8"
      ],
      "text/plain": [
       "[1] 8"
      ]
     },
     "metadata": {},
     "output_type": "display_data"
    }
   ],
   "source": [
    "add2(5,3)"
   ]
  },
  {
   "cell_type": "code",
   "execution_count": 38,
   "metadata": {
    "ExecuteTime": {
     "end_time": "2019-10-24T05:41:10.047993Z",
     "start_time": "2019-10-24T05:41:10.017Z"
    }
   },
   "outputs": [],
   "source": [
    "above10 <- function(x,n = 10){\n",
    "    use <- x>n\n",
    "    x[use]\n",
    "}"
   ]
  },
  {
   "cell_type": "code",
   "execution_count": 40,
   "metadata": {
    "ExecuteTime": {
     "end_time": "2019-10-24T05:41:29.005873Z",
     "start_time": "2019-10-24T05:41:28.971Z"
    }
   },
   "outputs": [
    {
     "data": {
      "text/html": [
       "<ol class=list-inline>\n",
       "\t<li>15</li>\n",
       "\t<li>20</li>\n",
       "</ol>\n"
      ],
      "text/latex": [
       "\\begin{enumerate*}\n",
       "\\item 15\n",
       "\\item 20\n",
       "\\end{enumerate*}\n"
      ],
      "text/markdown": [
       "1. 15\n",
       "2. 20\n",
       "\n",
       "\n"
      ],
      "text/plain": [
       "[1] 15 20"
      ]
     },
     "metadata": {},
     "output_type": "display_data"
    },
    {
     "data": {
      "text/html": [
       "<ol class=list-inline>\n",
       "\t<li>15</li>\n",
       "\t<li>20</li>\n",
       "</ol>\n"
      ],
      "text/latex": [
       "\\begin{enumerate*}\n",
       "\\item 15\n",
       "\\item 20\n",
       "\\end{enumerate*}\n"
      ],
      "text/markdown": [
       "1. 15\n",
       "2. 20\n",
       "\n",
       "\n"
      ],
      "text/plain": [
       "[1] 15 20"
      ]
     },
     "metadata": {},
     "output_type": "display_data"
    }
   ],
   "source": [
    "above10(c(1,2,3,4,5,10,15,20),10)\n",
    "above10(c(1,2,3,4,5,10,15,20))"
   ]
  },
  {
   "cell_type": "code",
   "execution_count": 46,
   "metadata": {
    "ExecuteTime": {
     "end_time": "2019-10-24T05:46:34.465282Z",
     "start_time": "2019-10-24T05:46:34.447Z"
    }
   },
   "outputs": [],
   "source": [
    "meancolumn <- function(x,removeNA = TRUE){\n",
    "    nc <- ncol(x)\n",
    "    means <- numeric(nc)\n",
    "    for(i in 1:nc){\n",
    "        means[i] <- mean(x[,i],na.rm = removeNA)\n",
    "    }\n",
    "    means\n",
    "}"
   ]
  },
  {
   "cell_type": "code",
   "execution_count": 47,
   "metadata": {
    "ExecuteTime": {
     "end_time": "2019-10-24T05:46:34.822024Z",
     "start_time": "2019-10-24T05:46:34.776Z"
    }
   },
   "outputs": [
    {
     "data": {
      "text/html": [
       "<table>\n",
       "<tbody>\n",
       "\t<tr><td>1 </td><td>3 </td><td>5 </td><td>7 </td><td> 9</td></tr>\n",
       "\t<tr><td>2 </td><td>4 </td><td>6 </td><td>8 </td><td>10</td></tr>\n",
       "</tbody>\n",
       "</table>\n"
      ],
      "text/latex": [
       "\\begin{tabular}{lllll}\n",
       "\t 1  & 3  & 5  & 7  &  9\\\\\n",
       "\t 2  & 4  & 6  & 8  & 10\\\\\n",
       "\\end{tabular}\n"
      ],
      "text/markdown": [
       "\n",
       "| 1  | 3  | 5  | 7  |  9 | \n",
       "| 2  | 4  | 6  | 8  | 10 | \n",
       "\n",
       "\n"
      ],
      "text/plain": [
       "     [,1] [,2] [,3] [,4] [,5]\n",
       "[1,] 1    3    5    7     9  \n",
       "[2,] 2    4    6    8    10  "
      ]
     },
     "metadata": {},
     "output_type": "display_data"
    },
    {
     "data": {
      "text/html": [
       "<ol class=list-inline>\n",
       "\t<li>1.5</li>\n",
       "\t<li>3.5</li>\n",
       "\t<li>5.5</li>\n",
       "\t<li>7.5</li>\n",
       "\t<li>9.5</li>\n",
       "</ol>\n"
      ],
      "text/latex": [
       "\\begin{enumerate*}\n",
       "\\item 1.5\n",
       "\\item 3.5\n",
       "\\item 5.5\n",
       "\\item 7.5\n",
       "\\item 9.5\n",
       "\\end{enumerate*}\n"
      ],
      "text/markdown": [
       "1. 1.5\n",
       "2. 3.5\n",
       "3. 5.5\n",
       "4. 7.5\n",
       "5. 9.5\n",
       "\n",
       "\n"
      ],
      "text/plain": [
       "[1] 1.5 3.5 5.5 7.5 9.5"
      ]
     },
     "metadata": {},
     "output_type": "display_data"
    }
   ],
   "source": [
    "x <- matrix(1:10,nrow = 2,ncol = 5)\n",
    "x\n",
    "meancolumn(x)"
   ]
  }
 ],
 "metadata": {
  "kernelspec": {
   "display_name": "R",
   "language": "R",
   "name": "ir"
  },
  "toc": {
   "base_numbering": "1",
   "nav_menu": {},
   "number_sections": true,
   "sideBar": true,
   "skip_h1_title": false,
   "title_cell": "Table of Contents",
   "title_sidebar": "Contents",
   "toc_cell": false,
   "toc_position": {},
   "toc_section_display": true,
   "toc_window_display": false
  },
  "varInspector": {
   "cols": {
    "lenName": 16,
    "lenType": 16,
    "lenVar": 40
   },
   "kernels_config": {
    "python": {
     "delete_cmd_postfix": "",
     "delete_cmd_prefix": "del ",
     "library": "var_list.py",
     "varRefreshCmd": "print(var_dic_list())"
    },
    "r": {
     "delete_cmd_postfix": ") ",
     "delete_cmd_prefix": "rm(",
     "library": "var_list.r",
     "varRefreshCmd": "cat(var_dic_list()) "
    }
   },
   "oldHeight": 122.72681799999998,
   "position": {
    "height": "144.531px",
    "left": "871.818px",
    "right": "20px",
    "top": "120px",
    "width": "350px"
   },
   "types_to_exclude": [
    "module",
    "function",
    "builtin_function_or_method",
    "instance",
    "_Feature"
   ],
   "varInspector_section_display": "block",
   "window_display": false
  }
 },
 "nbformat": 4,
 "nbformat_minor": 4
}
