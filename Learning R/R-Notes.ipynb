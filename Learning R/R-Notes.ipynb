{
 "cells": [
  {
   "cell_type": "markdown",
   "metadata": {},
   "source": [
    "# Data Types - Matrices"
   ]
  },
  {
   "cell_type": "code",
   "execution_count": 12,
   "metadata": {},
   "outputs": [
    {
     "name": "stdout",
     "output_type": "stream",
     "text": [
      "     [,1] [,2] [,3]\n",
      "[1,]   NA   NA   NA\n",
      "[2,]   NA   NA   NA\n",
      "[3,]   NA   NA   NA\n",
      "[1] 3 3\n",
      "$dim\n",
      "[1] 3 3\n",
      "\n",
      "     [,1] [,2] [,3]\n",
      "[1,]    1    4    7\n",
      "[2,]    2    5    8\n",
      "[3,]    3    6    9\n",
      "     [,1] [,2] [,3] [,4] [,5]\n",
      "[1,]    1    3    5    7    9\n",
      "[2,]    2    4    6    8   10\n",
      "     x y\n",
      "[1,] 1 1\n",
      "[2,] 2 2\n",
      "[3,] 3 3\n",
      "[4,] 4 4\n",
      "[5,] 5 5\n",
      "  [,1] [,2] [,3] [,4] [,5]\n",
      "x    1    2    3    4    5\n",
      "y    1    2    3    4    5\n"
     ]
    }
   ],
   "source": [
    "# Creating Matrices\n",
    "\n",
    "# Method 1\n",
    "x <- matrix(nrow=3,ncol=3)\n",
    "print(x)\n",
    "print(dim(x))\n",
    "print(attributes(x))\n",
    "\n",
    "# Method 2\n",
    "x <- matrix(1:9,nrow = 3,ncol = 3)\n",
    "print(x)\n",
    "\n",
    "# Method 3\n",
    "m <- 1:10\n",
    "dim(m) <- c(2,5)\n",
    "print(m)\n",
    "\n",
    "# Method 4\n",
    "x <- 1:5\n",
    "y <- 1:5\n",
    "m <- cbind(x,y)\n",
    "print(m)\n",
    "m <- rbind(x,y)\n",
    "print(m)"
   ]
  },
  {
   "cell_type": "markdown",
   "metadata": {},
   "source": [
    "# Data Types - Factors"
   ]
  },
  {
   "cell_type": "code",
   "execution_count": 15,
   "metadata": {},
   "outputs": [
    {
     "name": "stdout",
     "output_type": "stream",
     "text": [
      "[1] yes yes no  no \n",
      "Levels: no yes\n"
     ]
    }
   ],
   "source": [
    "# Create Factors\n",
    "x <- factor(c(\"yes\",\"yes\",\"no\",\"no\"))\n",
    "print(x)"
   ]
  },
  {
   "cell_type": "code",
   "execution_count": 17,
   "metadata": {},
   "outputs": [
    {
     "data": {
      "text/plain": [
       "x\n",
       " no yes \n",
       "  2   2 "
      ]
     },
     "metadata": {},
     "output_type": "display_data"
    }
   ],
   "source": [
    "table(x) # Prints the aggregation of the values."
   ]
  },
  {
   "cell_type": "code",
   "execution_count": 22,
   "metadata": {},
   "outputs": [
    {
     "name": "stdout",
     "output_type": "stream",
     "text": [
      "[1] 2 2 1 1\n",
      "attr(,\"levels\")\n",
      "[1] \"no\"  \"yes\"\n"
     ]
    }
   ],
   "source": [
    "print(unclass(x)) # Gives the details of factor x."
   ]
  },
  {
   "cell_type": "code",
   "execution_count": 27,
   "metadata": {},
   "outputs": [
    {
     "name": "stdout",
     "output_type": "stream",
     "text": [
      "[1] yes yes no  no \n",
      "Levels: yes no\n"
     ]
    }
   ],
   "source": [
    "# Implicitly R sets levels of factors alphabetically.\n",
    "# To explicitly Set level of factors\n",
    "x <- factor(c(\"yes\",\"yes\",\"no\",\"no\"),levels=c(\"yes\",\"no\")) \n",
    "print(x)"
   ]
  },
  {
   "cell_type": "markdown",
   "metadata": {},
   "source": [
    "# Data Types - Missing Values"
   ]
  },
  {
   "cell_type": "code",
   "execution_count": 37,
   "metadata": {},
   "outputs": [
    {
     "name": "stdout",
     "output_type": "stream",
     "text": [
      "[1] FALSE FALSE FALSE  TRUE  TRUE  TRUE\n",
      "[1] FALSE FALSE FALSE FALSE  TRUE FALSE\n"
     ]
    }
   ],
   "source": [
    "# NaN is NA but NA is not NaN.\n",
    "x = c(1,2,3,NA,NaN,NA)\n",
    "print(is.na(x)) # Used to test objects if they are NA.\n",
    "print(is.nan(x)) # Used to test objects if they are NAN."
   ]
  },
  {
   "cell_type": "code",
   "execution_count": null,
   "metadata": {},
   "outputs": [],
   "source": []
  }
 ],
 "metadata": {
  "kernelspec": {
   "display_name": "R",
   "language": "R",
   "name": "ir"
  },
  "language_info": {
   "codemirror_mode": "r",
   "file_extension": ".r",
   "mimetype": "text/x-r-source",
   "name": "R",
   "pygments_lexer": "r",
   "version": "3.5.1"
  }
 },
 "nbformat": 4,
 "nbformat_minor": 4
}
