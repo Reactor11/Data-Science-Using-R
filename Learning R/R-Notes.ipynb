{
 "cells": [
  {
   "cell_type": "markdown",
   "metadata": {},
   "source": [
    "# Data Types - Matrices"
   ]
  },
  {
   "cell_type": "code",
   "execution_count": 12,
   "metadata": {},
   "outputs": [
    {
     "name": "stdout",
     "output_type": "stream",
     "text": [
      "     [,1] [,2] [,3]\n",
      "[1,]   NA   NA   NA\n",
      "[2,]   NA   NA   NA\n",
      "[3,]   NA   NA   NA\n",
      "[1] 3 3\n",
      "$dim\n",
      "[1] 3 3\n",
      "\n",
      "     [,1] [,2] [,3]\n",
      "[1,]    1    4    7\n",
      "[2,]    2    5    8\n",
      "[3,]    3    6    9\n",
      "     [,1] [,2] [,3] [,4] [,5]\n",
      "[1,]    1    3    5    7    9\n",
      "[2,]    2    4    6    8   10\n",
      "     x y\n",
      "[1,] 1 1\n",
      "[2,] 2 2\n",
      "[3,] 3 3\n",
      "[4,] 4 4\n",
      "[5,] 5 5\n",
      "  [,1] [,2] [,3] [,4] [,5]\n",
      "x    1    2    3    4    5\n",
      "y    1    2    3    4    5\n"
     ]
    }
   ],
   "source": [
    "# Creating Matrices\n",
    "\n",
    "# Method 1\n",
    "x <- matrix(nrow=3,ncol=3)\n",
    "print(x)\n",
    "print(dim(x))\n",
    "print(attributes(x))\n",
    "\n",
    "# Method 2\n",
    "x <- matrix(1:9,nrow = 3,ncol = 3)\n",
    "print(x)\n",
    "\n",
    "# Method 3\n",
    "m <- 1:10\n",
    "dim(m) <- c(2,5)\n",
    "print(m)\n",
    "\n",
    "# Method 4\n",
    "x <- 1:5\n",
    "y <- 1:5\n",
    "m <- cbind(x,y)\n",
    "print(m)\n",
    "m <- rbind(x,y)\n",
    "print(m)"
   ]
  },
  {
   "cell_type": "markdown",
   "metadata": {},
   "source": [
    "# Data Types - Factors"
   ]
  },
  {
   "cell_type": "code",
   "execution_count": 15,
   "metadata": {},
   "outputs": [
    {
     "name": "stdout",
     "output_type": "stream",
     "text": [
      "[1] yes yes no  no \n",
      "Levels: no yes\n"
     ]
    }
   ],
   "source": [
    "# Create Factors\n",
    "x <- factor(c(\"yes\",\"yes\",\"no\",\"no\"))\n",
    "print(x)"
   ]
  },
  {
   "cell_type": "code",
   "execution_count": 17,
   "metadata": {},
   "outputs": [
    {
     "data": {
      "text/plain": [
       "x\n",
       " no yes \n",
       "  2   2 "
      ]
     },
     "metadata": {},
     "output_type": "display_data"
    }
   ],
   "source": [
    "table(x) # Prints the aggregation of the values."
   ]
  },
  {
   "cell_type": "code",
   "execution_count": 22,
   "metadata": {},
   "outputs": [
    {
     "name": "stdout",
     "output_type": "stream",
     "text": [
      "[1] 2 2 1 1\n",
      "attr(,\"levels\")\n",
      "[1] \"no\"  \"yes\"\n"
     ]
    }
   ],
   "source": [
    "print(unclass(x)) # Gives the details of factor x."
   ]
  },
  {
   "cell_type": "code",
   "execution_count": 27,
   "metadata": {},
   "outputs": [
    {
     "name": "stdout",
     "output_type": "stream",
     "text": [
      "[1] yes yes no  no \n",
      "Levels: yes no\n"
     ]
    }
   ],
   "source": [
    "# Implicitly R sets levels of factors alphabetically.\n",
    "# To explicitly Set level of factors\n",
    "x <- factor(c(\"yes\",\"yes\",\"no\",\"no\"),levels=c(\"yes\",\"no\")) \n",
    "print(x)"
   ]
  },
  {
   "cell_type": "markdown",
   "metadata": {},
   "source": [
    "# Data Types - Missing Values"
   ]
  },
  {
   "cell_type": "code",
   "execution_count": 37,
   "metadata": {},
   "outputs": [
    {
     "name": "stdout",
     "output_type": "stream",
     "text": [
      "[1] FALSE FALSE FALSE  TRUE  TRUE  TRUE\n",
      "[1] FALSE FALSE FALSE FALSE  TRUE FALSE\n"
     ]
    }
   ],
   "source": [
    "# NaN is NA but NA is not NaN.\n",
    "x = c(1,2,3,NA,NaN,NA)\n",
    "print(is.na(x)) # Used to test objects if they are NA.\n",
    "print(is.nan(x)) # Used to test objects if they are NAN."
   ]
  },
  {
   "cell_type": "markdown",
   "metadata": {},
   "source": [
    "# Data Types - DataFrame"
   ]
  },
  {
   "cell_type": "code",
   "execution_count": 2,
   "metadata": {},
   "outputs": [
    {
     "name": "stdout",
     "output_type": "stream",
     "text": [
      "  foo status\n",
      "1   1   TRUE\n",
      "2   2  FALSE\n",
      "3   3   TRUE\n",
      "4   4  FALSE\n",
      "5   5   TRUE\n"
     ]
    }
   ],
   "source": [
    "# to get row name - row.names()\n",
    "# to create DataFrame - read.table() or read.csv()\n",
    "# convert dataframe to matrix - data.matrix()\n",
    "x <- data.frame(foo = 1:5, status=c(T,F,T,F,T))\n",
    "print(x)"
   ]
  },
  {
   "cell_type": "code",
   "execution_count": 6,
   "metadata": {},
   "outputs": [
    {
     "name": "stdout",
     "output_type": "stream",
     "text": [
      "[1] 5\n",
      "[1] 2\n"
     ]
    }
   ],
   "source": [
    "print(nrow(x)) # get the number of rows\n",
    "print(ncol(x)) # get the number of columns"
   ]
  },
  {
   "cell_type": "markdown",
   "metadata": {},
   "source": [
    "# Data Type - Names Attributes"
   ]
  },
  {
   "cell_type": "code",
   "execution_count": 16,
   "metadata": {},
   "outputs": [
    {
     "name": "stdout",
     "output_type": "stream",
     "text": [
      "NULL\n",
      " foo  bar norf \n",
      "   1    2    3 \n",
      "[1] \"foo\"  \"bar\"  \"norf\"\n"
     ]
    }
   ],
   "source": [
    "# Name Attributes on Vector.\n",
    "x <- 1:3\n",
    "print(names(x))\n",
    "names(x) <- c(\"foo\",\"bar\",\"norf\")\n",
    "print(x)\n",
    "print(names(x))"
   ]
  },
  {
   "cell_type": "code",
   "execution_count": 18,
   "metadata": {},
   "outputs": [
    {
     "data": {
      "text/html": [
       "<dl>\n",
       "\t<dt>$a</dt>\n",
       "\t\t<dd>1</dd>\n",
       "\t<dt>$b</dt>\n",
       "\t\t<dd>2</dd>\n",
       "\t<dt>$c</dt>\n",
       "\t\t<dd>3</dd>\n",
       "</dl>\n"
      ],
      "text/latex": [
       "\\begin{description}\n",
       "\\item[\\$a] 1\n",
       "\\item[\\$b] 2\n",
       "\\item[\\$c] 3\n",
       "\\end{description}\n"
      ],
      "text/markdown": [
       "$a\n",
       ":   1\n",
       "$b\n",
       ":   2\n",
       "$c\n",
       ":   3\n",
       "\n",
       "\n"
      ],
      "text/plain": [
       "$a\n",
       "[1] 1\n",
       "\n",
       "$b\n",
       "[1] 2\n",
       "\n",
       "$c\n",
       "[1] 3\n"
      ]
     },
     "metadata": {},
     "output_type": "display_data"
    }
   ],
   "source": [
    "# Name Attributes on list.\n",
    "x <- list(a=1,b=2,c=3)\n",
    "x"
   ]
  },
  {
   "cell_type": "code",
   "execution_count": 21,
   "metadata": {},
   "outputs": [
    {
     "data": {
      "text/html": [
       "<table>\n",
       "<thead><tr><th></th><th scope=col>a</th><th scope=col>b</th></tr></thead>\n",
       "<tbody>\n",
       "\t<tr><th scope=row>a</th><td>1</td><td>3</td></tr>\n",
       "\t<tr><th scope=row>b</th><td>2</td><td>4</td></tr>\n",
       "</tbody>\n",
       "</table>\n"
      ],
      "text/latex": [
       "\\begin{tabular}{r|ll}\n",
       "  & a & b\\\\\n",
       "\\hline\n",
       "\ta & 1 & 3\\\\\n",
       "\tb & 2 & 4\\\\\n",
       "\\end{tabular}\n"
      ],
      "text/markdown": [
       "\n",
       "| <!--/--> | a | b | \n",
       "|---|---|\n",
       "| a | 1 | 3 | \n",
       "| b | 2 | 4 | \n",
       "\n",
       "\n"
      ],
      "text/plain": [
       "  a b\n",
       "a 1 3\n",
       "b 2 4"
      ]
     },
     "metadata": {},
     "output_type": "display_data"
    }
   ],
   "source": [
    "m <- matrix(1:4,nrow = 2,ncol = 2)\n",
    "dimnames(m) <- list(c(\"a\",\"b\"),c(\"a\",\"b\"))\n",
    "m"
   ]
  },
  {
   "cell_type": "markdown",
   "metadata": {},
   "source": [
    "# Reading Tabular Data"
   ]
  },
  {
   "cell_type": "code",
   "execution_count": 1,
   "metadata": {},
   "outputs": [],
   "source": [
    "# READING DATA : \n",
    "\n",
    "# read.table, read.csv for reading tabular data (Both are same.The only diffrence is that the default separtor is comma in csv.)\n",
    "# readLines for reading lines of text file.\n",
    "# 'source' for reading in R code files(inverse of dump).\n",
    "# 'dget' for reading in R code files(inverse of dput).\n",
    "# 'load' for reading in saved workspace.\n",
    "# 'unserialize' for reading single R-object in binary format."
   ]
  },
  {
   "cell_type": "code",
   "execution_count": 3,
   "metadata": {},
   "outputs": [],
   "source": [
    "# WRITING DATA : \n",
    "\n",
    "# write.table\n",
    "# writeLines\n",
    "# dump\n",
    "# dput\n",
    "# save \n",
    "# serialize"
   ]
  },
  {
   "cell_type": "code",
   "execution_count": 10,
   "metadata": {},
   "outputs": [],
   "source": [
    "x <- read.csv(file = 'OfficeSupplies.csv')"
   ]
  },
  {
   "cell_type": "markdown",
   "metadata": {},
   "source": [
    "# Reading Large Tables"
   ]
  },
  {
   "cell_type": "code",
   "execution_count": 16,
   "metadata": {},
   "outputs": [],
   "source": [
    "initial <- read.csv(file = 'OfficeSupplies.csv', nrows = 100) # Read only first 100 rows initally to get the data types of cols.\n",
    "classes <- sapply(initial,class) # Gets the Data types of cols.\n",
    "# print(classes)\n",
    "# Read whole dataset and apply classes manually so that R doesnt have to traverse whole data set\n",
    "tableall <- read.csv(file = 'OfficeSupplies.csv',colClasses=classes) \n",
    "# print(tableall)"
   ]
  },
  {
   "cell_type": "markdown",
   "metadata": {},
   "source": [
    "# Textual Data Formats"
   ]
  },
  {
   "cell_type": "code",
   "execution_count": 18,
   "metadata": {},
   "outputs": [
    {
     "name": "stdout",
     "output_type": "stream",
     "text": [
      "function (description = \"\", open = \"\", blocking = TRUE, encoding = getOption(\"encoding\"), \n",
      "    raw = FALSE, method = getOption(\"url.method\", \"default\"))  \n"
     ]
    }
   ],
   "source": [
    "# dput, dump preserve the meta data of dataframe. like the classes of the columns. we do not have to specify when we read it in.\n",
    "# 'file' opens a connection to the file.\n",
    "# 'gzfile' opens a connection to the file that is compressed with gzip.\n",
    "# 'bzfile' opens a connection to the file that is compressed with bzip2.\n",
    "# 'url' opens a connection to a webpage.\n",
    "str(file) # gives the description to the functions."
   ]
  },
  {
   "cell_type": "code",
   "execution_count": 32,
   "metadata": {},
   "outputs": [
    {
     "name": "stderr",
     "output_type": "stream",
     "text": [
      "Warning message in readLines(con):\n",
      "\"incomplete final line found on 'https://www.google.com'\"\n"
     ]
    }
   ],
   "source": [
    "con  <- url('https://www.google.com','r')\n",
    "x <- readLines(con)\n",
    "print(head(x))"
   ]
  },
  {
   "cell_type": "code",
   "execution_count": null,
   "metadata": {},
   "outputs": [],
   "source": []
  }
 ],
 "metadata": {
  "kernelspec": {
   "display_name": "R",
   "language": "R",
   "name": "ir"
  },
  "language_info": {
   "codemirror_mode": "r",
   "file_extension": ".r",
   "mimetype": "text/x-r-source",
   "name": "R",
   "pygments_lexer": "r",
   "version": "3.5.1"
  },
  "varInspector": {
   "cols": {
    "lenName": 16,
    "lenType": 16,
    "lenVar": 40
   },
   "kernels_config": {
    "python": {
     "delete_cmd_postfix": "",
     "delete_cmd_prefix": "del ",
     "library": "var_list.py",
     "varRefreshCmd": "print(var_dic_list())"
    },
    "r": {
     "delete_cmd_postfix": ") ",
     "delete_cmd_prefix": "rm(",
     "library": "var_list.r",
     "varRefreshCmd": "cat(var_dic_list()) "
    }
   },
   "types_to_exclude": [
    "module",
    "function",
    "builtin_function_or_method",
    "instance",
    "_Feature"
   ],
   "window_display": false
  }
 },
 "nbformat": 4,
 "nbformat_minor": 4
}
