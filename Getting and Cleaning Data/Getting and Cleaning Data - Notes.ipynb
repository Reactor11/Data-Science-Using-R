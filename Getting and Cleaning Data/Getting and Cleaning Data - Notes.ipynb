{
 "cells": [
  {
   "cell_type": "code",
   "execution_count": 2,
   "metadata": {
    "ExecuteTime": {
     "end_time": "2019-11-12T05:08:05.991271Z",
     "start_time": "2019-11-12T05:08:05.948Z"
    }
   },
   "outputs": [
    {
     "name": "stdout",
     "output_type": "stream",
     "text": [
      "function (url, destfile, method, quiet = FALSE, mode = \"w\", cacheOK = TRUE, \n",
      "    extra = getOption(\"download.file.extra\"), ...)  \n"
     ]
    }
   ],
   "source": [
    "# Dowloading file from internet.\n",
    "\n",
    "# Downlod.file() : to download the file from internet.\n",
    "str(download.file)"
   ]
  },
  {
   "cell_type": "code",
   "execution_count": 12,
   "metadata": {
    "ExecuteTime": {
     "end_time": "2019-11-13T04:47:01.973380Z",
     "start_time": "2019-11-13T04:47:01.931Z"
    }
   },
   "outputs": [
    {
     "ename": "ERROR",
     "evalue": "Error: XML content does not seem to be XML: 'https://www.w3schools.com/xml/simple.xml'\n",
     "output_type": "error",
     "traceback": [
      "Error: XML content does not seem to be XML: 'https://www.w3schools.com/xml/simple.xml'\nTraceback:\n",
      "1. xmlTreeParse(fileURL)"
     ]
    }
   ],
   "source": [
    "# Reading XML files.\n",
    "library(XML)\n",
    "fileURL <- \"https://www.w3schools.com/xml/simple.xml\"\n",
    "doc <- xmlTreeParse(fileURL,useInternal = TRUE)\n",
    "rootnode <- xmlRoot(doc)\n",
    "xmlName(rootNode)\n",
    "names(rootNode)\n",
    "# subsetting is same as the list.\n",
    "# s[[1]][[1]]"
   ]
  },
  {
   "cell_type": "code",
   "execution_count": 16,
   "metadata": {
    "ExecuteTime": {
     "end_time": "2019-11-13T04:56:15.776396Z",
     "start_time": "2019-11-13T04:56:15.741Z"
    }
   },
   "outputs": [],
   "source": [
    "# Reading JSON files.\n",
    "library(jsonlite)\n",
    "url <- ''\n",
    "jsonData <- fromJSON(url)\n",
    "names(jsonDATA)"
   ]
  },
  {
   "cell_type": "code",
   "execution_count": 19,
   "metadata": {
    "ExecuteTime": {
     "end_time": "2019-11-13T05:00:40.665055Z",
     "start_time": "2019-11-13T05:00:40.605Z"
    }
   },
   "outputs": [
    {
     "data": {
      "text/html": [
       "<table>\n",
       "<thead><tr><th scope=col>x</th><th scope=col>y</th><th scope=col>z</th></tr></thead>\n",
       "<tbody>\n",
       "\t<tr><td> 1.72059198</td><td>a          </td><td>-1.3440282 </td></tr>\n",
       "\t<tr><td> 0.62271197</td><td>a          </td><td> 0.1501951 </td></tr>\n",
       "\t<tr><td> 0.38423480</td><td>a          </td><td> 0.2073170 </td></tr>\n",
       "\t<tr><td> 0.09284853</td><td>b          </td><td> 0.2051049 </td></tr>\n",
       "\t<tr><td> 1.00113431</td><td>b          </td><td>-0.5959455 </td></tr>\n",
       "\t<tr><td> 0.34535016</td><td>b          </td><td> 1.3474952 </td></tr>\n",
       "\t<tr><td>-0.16457401</td><td>c          </td><td> 0.4766421 </td></tr>\n",
       "\t<tr><td>-1.92273570</td><td>c          </td><td>-1.2345437 </td></tr>\n",
       "\t<tr><td> 2.58415300</td><td>c          </td><td>-0.5420559 </td></tr>\n",
       "</tbody>\n",
       "</table>\n"
      ],
      "text/latex": [
       "\\begin{tabular}{r|lll}\n",
       " x & y & z\\\\\n",
       "\\hline\n",
       "\t  1.72059198 & a           & -1.3440282 \\\\\n",
       "\t  0.62271197 & a           &  0.1501951 \\\\\n",
       "\t  0.38423480 & a           &  0.2073170 \\\\\n",
       "\t  0.09284853 & b           &  0.2051049 \\\\\n",
       "\t  1.00113431 & b           & -0.5959455 \\\\\n",
       "\t  0.34535016 & b           &  1.3474952 \\\\\n",
       "\t -0.16457401 & c           &  0.4766421 \\\\\n",
       "\t -1.92273570 & c           & -1.2345437 \\\\\n",
       "\t  2.58415300 & c           & -0.5420559 \\\\\n",
       "\\end{tabular}\n"
      ],
      "text/markdown": [
       "\n",
       "x | y | z | \n",
       "|---|---|---|---|---|---|---|---|---|\n",
       "|  1.72059198 | a           | -1.3440282  | \n",
       "|  0.62271197 | a           |  0.1501951  | \n",
       "|  0.38423480 | a           |  0.2073170  | \n",
       "|  0.09284853 | b           |  0.2051049  | \n",
       "|  1.00113431 | b           | -0.5959455  | \n",
       "|  0.34535016 | b           |  1.3474952  | \n",
       "| -0.16457401 | c           |  0.4766421  | \n",
       "| -1.92273570 | c           | -1.2345437  | \n",
       "|  2.58415300 | c           | -0.5420559  | \n",
       "\n",
       "\n"
      ],
      "text/plain": [
       "  x           y z         \n",
       "1  1.72059198 a -1.3440282\n",
       "2  0.62271197 a  0.1501951\n",
       "3  0.38423480 a  0.2073170\n",
       "4  0.09284853 b  0.2051049\n",
       "5  1.00113431 b -0.5959455\n",
       "6  0.34535016 b  1.3474952\n",
       "7 -0.16457401 c  0.4766421\n",
       "8 -1.92273570 c -1.2345437\n",
       "9  2.58415300 c -0.5420559"
      ]
     },
     "metadata": {},
     "output_type": "display_data"
    }
   ],
   "source": [
    "# Efficent version for to read data frame.\n",
    "library(data.table)\n",
    "DT = data.table(x=rnorm(9),y=rep(c(\"a\",\"b\",\"c\"),each=3),z=rnorm(9))\n",
    "DT"
   ]
  },
  {
   "cell_type": "code",
   "execution_count": 20,
   "metadata": {
    "ExecuteTime": {
     "end_time": "2019-11-13T05:00:58.701699Z",
     "start_time": "2019-11-13T05:00:58.662Z"
    }
   },
   "outputs": [
    {
     "name": "stdout",
     "output_type": "stream",
     "text": [
      "   NAME NROW NCOL MB  COLS KEY\n",
      "1:   DT    9    3  0 x,y,z    \n",
      "Total: 0MB\n"
     ]
    }
   ],
   "source": [
    "tables() # Tables in the memory"
   ]
  },
  {
   "cell_type": "code",
   "execution_count": 22,
   "metadata": {
    "ExecuteTime": {
     "end_time": "2019-11-13T05:03:42.717979Z",
     "start_time": "2019-11-13T05:03:42.680Z"
    }
   },
   "outputs": [
    {
     "data": {
      "text/html": [
       "<table>\n",
       "<thead><tr><th scope=col>V1</th><th scope=col>V2</th></tr></thead>\n",
       "<tbody>\n",
       "\t<tr><td>0.5181906</td><td>-1.329819</td></tr>\n",
       "</tbody>\n",
       "</table>\n"
      ],
      "text/latex": [
       "\\begin{tabular}{r|ll}\n",
       " V1 & V2\\\\\n",
       "\\hline\n",
       "\t 0.5181906 & -1.329819\\\\\n",
       "\\end{tabular}\n"
      ],
      "text/markdown": [
       "\n",
       "V1 | V2 | \n",
       "|---|\n",
       "| 0.5181906 | -1.329819 | \n",
       "\n",
       "\n"
      ],
      "text/plain": [
       "  V1        V2       \n",
       "1 0.5181906 -1.329819"
      ]
     },
     "metadata": {},
     "output_type": "display_data"
    }
   ],
   "source": [
    "DT[,list(mean(x),sum(z))] # Perform any function on dataframe"
   ]
  },
  {
   "cell_type": "code",
   "execution_count": 28,
   "metadata": {
    "ExecuteTime": {
     "end_time": "2019-11-13T05:07:28.132168Z",
     "start_time": "2019-11-13T05:07:28.067Z"
    }
   },
   "outputs": [
    {
     "data": {
      "text/html": [
       "<table>\n",
       "<thead><tr><th scope=col>x</th><th scope=col>N</th></tr></thead>\n",
       "<tbody>\n",
       "\t<tr><td> 1.72059198</td><td>1          </td></tr>\n",
       "\t<tr><td> 0.62271197</td><td>1          </td></tr>\n",
       "\t<tr><td> 0.38423480</td><td>1          </td></tr>\n",
       "\t<tr><td> 0.09284853</td><td>1          </td></tr>\n",
       "\t<tr><td> 1.00113431</td><td>1          </td></tr>\n",
       "\t<tr><td> 0.34535016</td><td>1          </td></tr>\n",
       "\t<tr><td>-0.16457401</td><td>1          </td></tr>\n",
       "\t<tr><td>-1.92273570</td><td>1          </td></tr>\n",
       "\t<tr><td> 2.58415300</td><td>1          </td></tr>\n",
       "</tbody>\n",
       "</table>\n"
      ],
      "text/latex": [
       "\\begin{tabular}{r|ll}\n",
       " x & N\\\\\n",
       "\\hline\n",
       "\t  1.72059198 & 1          \\\\\n",
       "\t  0.62271197 & 1          \\\\\n",
       "\t  0.38423480 & 1          \\\\\n",
       "\t  0.09284853 & 1          \\\\\n",
       "\t  1.00113431 & 1          \\\\\n",
       "\t  0.34535016 & 1          \\\\\n",
       "\t -0.16457401 & 1          \\\\\n",
       "\t -1.92273570 & 1          \\\\\n",
       "\t  2.58415300 & 1          \\\\\n",
       "\\end{tabular}\n"
      ],
      "text/markdown": [
       "\n",
       "x | N | \n",
       "|---|---|---|---|---|---|---|---|---|\n",
       "|  1.72059198 | 1           | \n",
       "|  0.62271197 | 1           | \n",
       "|  0.38423480 | 1           | \n",
       "|  0.09284853 | 1           | \n",
       "|  1.00113431 | 1           | \n",
       "|  0.34535016 | 1           | \n",
       "| -0.16457401 | 1           | \n",
       "| -1.92273570 | 1           | \n",
       "|  2.58415300 | 1           | \n",
       "\n",
       "\n"
      ],
      "text/plain": [
       "  x           N\n",
       "1  1.72059198 1\n",
       "2  0.62271197 1\n",
       "3  0.38423480 1\n",
       "4  0.09284853 1\n",
       "5  1.00113431 1\n",
       "6  0.34535016 1\n",
       "7 -0.16457401 1\n",
       "8 -1.92273570 1\n",
       "9  2.58415300 1"
      ]
     },
     "metadata": {},
     "output_type": "display_data"
    },
    {
     "data": {
      "text/html": [
       "<table>\n",
       "<thead><tr><th scope=col>x</th><th scope=col>y</th><th scope=col>z</th><th scope=col>w</th><th scope=col>a</th><th scope=col>m</th></tr></thead>\n",
       "<tbody>\n",
       "\t<tr><td> 1.72059198</td><td>a          </td><td>-1.3440282 </td><td>1.80641190 </td><td>FALSE      </td><td>3.375257   </td></tr>\n",
       "\t<tr><td> 0.62271197</td><td>a          </td><td> 0.1501951 </td><td>0.02255855 </td><td> TRUE      </td><td>3.429336   </td></tr>\n",
       "\t<tr><td> 0.38423480</td><td>a          </td><td> 0.2073170 </td><td>0.04298035 </td><td> TRUE      </td><td>3.404842   </td></tr>\n",
       "\t<tr><td> 0.09284853</td><td>b          </td><td> 0.2051049 </td><td>0.04206801 </td><td> TRUE      </td><td>3.364286   </td></tr>\n",
       "\t<tr><td> 1.00113431</td><td>b          </td><td>-0.5959455 </td><td>0.35515108 </td><td>FALSE      </td><td>3.379231   </td></tr>\n",
       "\t<tr><td> 0.34535016</td><td>b          </td><td> 1.3474952 </td><td>1.81574337 </td><td> TRUE      </td><td>3.547554   </td></tr>\n",
       "\t<tr><td>-0.16457401</td><td>c          </td><td> 0.4766421 </td><td>0.22718767 </td><td> TRUE      </td><td>3.366262   </td></tr>\n",
       "\t<tr><td>-1.92273570</td><td>c          </td><td>-1.2345437 </td><td>1.52409803 </td><td>FALSE      </td><td>2.774570   </td></tr>\n",
       "\t<tr><td> 2.58415300</td><td>c          </td><td>-0.5420559 </td><td>0.29382464 </td><td>FALSE      </td><td>3.590015   </td></tr>\n",
       "</tbody>\n",
       "</table>\n"
      ],
      "text/latex": [
       "\\begin{tabular}{r|llllll}\n",
       " x & y & z & w & a & m\\\\\n",
       "\\hline\n",
       "\t  1.72059198 & a           & -1.3440282  & 1.80641190  & FALSE       & 3.375257   \\\\\n",
       "\t  0.62271197 & a           &  0.1501951  & 0.02255855  &  TRUE       & 3.429336   \\\\\n",
       "\t  0.38423480 & a           &  0.2073170  & 0.04298035  &  TRUE       & 3.404842   \\\\\n",
       "\t  0.09284853 & b           &  0.2051049  & 0.04206801  &  TRUE       & 3.364286   \\\\\n",
       "\t  1.00113431 & b           & -0.5959455  & 0.35515108  & FALSE       & 3.379231   \\\\\n",
       "\t  0.34535016 & b           &  1.3474952  & 1.81574337  &  TRUE       & 3.547554   \\\\\n",
       "\t -0.16457401 & c           &  0.4766421  & 0.22718767  &  TRUE       & 3.366262   \\\\\n",
       "\t -1.92273570 & c           & -1.2345437  & 1.52409803  & FALSE       & 2.774570   \\\\\n",
       "\t  2.58415300 & c           & -0.5420559  & 0.29382464  & FALSE       & 3.590015   \\\\\n",
       "\\end{tabular}\n"
      ],
      "text/markdown": [
       "\n",
       "x | y | z | w | a | m | \n",
       "|---|---|---|---|---|---|---|---|---|\n",
       "|  1.72059198 | a           | -1.3440282  | 1.80641190  | FALSE       | 3.375257    | \n",
       "|  0.62271197 | a           |  0.1501951  | 0.02255855  |  TRUE       | 3.429336    | \n",
       "|  0.38423480 | a           |  0.2073170  | 0.04298035  |  TRUE       | 3.404842    | \n",
       "|  0.09284853 | b           |  0.2051049  | 0.04206801  |  TRUE       | 3.364286    | \n",
       "|  1.00113431 | b           | -0.5959455  | 0.35515108  | FALSE       | 3.379231    | \n",
       "|  0.34535016 | b           |  1.3474952  | 1.81574337  |  TRUE       | 3.547554    | \n",
       "| -0.16457401 | c           |  0.4766421  | 0.22718767  |  TRUE       | 3.366262    | \n",
       "| -1.92273570 | c           | -1.2345437  | 1.52409803  | FALSE       | 2.774570    | \n",
       "|  2.58415300 | c           | -0.5420559  | 0.29382464  | FALSE       | 3.590015    | \n",
       "\n",
       "\n"
      ],
      "text/plain": [
       "  x           y z          w          a     m       \n",
       "1  1.72059198 a -1.3440282 1.80641190 FALSE 3.375257\n",
       "2  0.62271197 a  0.1501951 0.02255855  TRUE 3.429336\n",
       "3  0.38423480 a  0.2073170 0.04298035  TRUE 3.404842\n",
       "4  0.09284853 b  0.2051049 0.04206801  TRUE 3.364286\n",
       "5  1.00113431 b -0.5959455 0.35515108 FALSE 3.379231\n",
       "6  0.34535016 b  1.3474952 1.81574337  TRUE 3.547554\n",
       "7 -0.16457401 c  0.4766421 0.22718767  TRUE 3.366262\n",
       "8 -1.92273570 c -1.2345437 1.52409803 FALSE 2.774570\n",
       "9  2.58415300 c -0.5420559 0.29382464 FALSE 3.590015"
      ]
     },
     "metadata": {},
     "output_type": "display_data"
    }
   ],
   "source": [
    "DT[,w:=z^2] # Add Any Column\n",
    "DT[,a:=z>0]\n",
    "DT[,m:={temp<- (x+z);log2(temp+10)}]\n",
    "DT[, .N, by=x] # Gets the count of the categorical value.\n",
    "DT"
   ]
  },
  {
   "cell_type": "code",
   "execution_count": 1,
   "metadata": {
    "ExecuteTime": {
     "end_time": "2019-11-13T17:42:27.735102Z",
     "start_time": "2019-11-13T17:42:27.701Z"
    }
   },
   "outputs": [],
   "source": [
    "# fread() command is used to read big data frame fast."
   ]
  }
 ],
 "metadata": {
  "kernelspec": {
   "display_name": "R",
   "language": "R",
   "name": "ir"
  },
  "language_info": {
   "codemirror_mode": "r",
   "file_extension": ".r",
   "mimetype": "text/x-r-source",
   "name": "R",
   "pygments_lexer": "r",
   "version": "3.5.1"
  },
  "toc": {
   "base_numbering": 1,
   "nav_menu": {},
   "number_sections": true,
   "sideBar": true,
   "skip_h1_title": false,
   "title_cell": "Table of Contents",
   "title_sidebar": "Contents",
   "toc_cell": false,
   "toc_position": {},
   "toc_section_display": true,
   "toc_window_display": false
  },
  "varInspector": {
   "cols": {
    "lenName": 16,
    "lenType": 16,
    "lenVar": 40
   },
   "kernels_config": {
    "python": {
     "delete_cmd_postfix": "",
     "delete_cmd_prefix": "del ",
     "library": "var_list.py",
     "varRefreshCmd": "print(var_dic_list())"
    },
    "r": {
     "delete_cmd_postfix": ") ",
     "delete_cmd_prefix": "rm(",
     "library": "var_list.r",
     "varRefreshCmd": "cat(var_dic_list()) "
    }
   },
   "types_to_exclude": [
    "module",
    "function",
    "builtin_function_or_method",
    "instance",
    "_Feature"
   ],
   "window_display": false
  }
 },
 "nbformat": 4,
 "nbformat_minor": 2
}
