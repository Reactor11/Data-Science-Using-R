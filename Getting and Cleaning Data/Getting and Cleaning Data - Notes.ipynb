{
 "cells": [
  {
   "cell_type": "code",
   "execution_count": 2,
   "metadata": {
    "ExecuteTime": {
     "end_time": "2019-11-12T05:08:05.991271Z",
     "start_time": "2019-11-12T05:08:05.948Z"
    }
   },
   "outputs": [
    {
     "name": "stdout",
     "output_type": "stream",
     "text": [
      "function (url, destfile, method, quiet = FALSE, mode = \"w\", cacheOK = TRUE, \n",
      "    extra = getOption(\"download.file.extra\"), ...)  \n"
     ]
    }
   ],
   "source": [
    "# Dowloading file from internet.\n",
    "\n",
    "# Downlod.file() : to download the file from internet.\n",
    "str(download.file)"
   ]
  },
  {
   "cell_type": "code",
   "execution_count": 12,
   "metadata": {
    "ExecuteTime": {
     "end_time": "2019-11-13T04:47:01.973380Z",
     "start_time": "2019-11-13T04:47:01.931Z"
    }
   },
   "outputs": [
    {
     "ename": "ERROR",
     "evalue": "Error: XML content does not seem to be XML: 'https://www.w3schools.com/xml/simple.xml'\n",
     "output_type": "error",
     "traceback": [
      "Error: XML content does not seem to be XML: 'https://www.w3schools.com/xml/simple.xml'\nTraceback:\n",
      "1. xmlTreeParse(fileURL)"
     ]
    }
   ],
   "source": [
    "# Reading XML files.\n",
    "library(XML)\n",
    "fileURL <- \"https://www.w3schools.com/xml/simple.xml\"\n",
    "doc <- xmlTreeParse(fileURL,useInternal = TRUE)\n",
    "rootnode <- xmlRoot(doc)\n",
    "xmlName(rootNode)\n",
    "names(rootNode)\n",
    "# subsetting is same as the list.\n",
    "# s[[1]][[1]]"
   ]
  },
  {
   "cell_type": "code",
   "execution_count": 16,
   "metadata": {
    "ExecuteTime": {
     "end_time": "2019-11-13T04:56:15.776396Z",
     "start_time": "2019-11-13T04:56:15.741Z"
    }
   },
   "outputs": [],
   "source": [
    "# Reading JSON files.\n",
    "library(jsonlite)\n",
    "url <- ''\n",
    "jsonData <- fromJSON(url)\n",
    "names(jsonDATA)"
   ]
  },
  {
   "cell_type": "code",
   "execution_count": 19,
   "metadata": {
    "ExecuteTime": {
     "end_time": "2019-11-13T05:00:40.665055Z",
     "start_time": "2019-11-13T05:00:40.605Z"
    }
   },
   "outputs": [
    {
     "data": {
      "text/html": [
       "<table>\n",
       "<thead><tr><th scope=col>x</th><th scope=col>y</th><th scope=col>z</th></tr></thead>\n",
       "<tbody>\n",
       "\t<tr><td> 1.72059198</td><td>a          </td><td>-1.3440282 </td></tr>\n",
       "\t<tr><td> 0.62271197</td><td>a          </td><td> 0.1501951 </td></tr>\n",
       "\t<tr><td> 0.38423480</td><td>a          </td><td> 0.2073170 </td></tr>\n",
       "\t<tr><td> 0.09284853</td><td>b          </td><td> 0.2051049 </td></tr>\n",
       "\t<tr><td> 1.00113431</td><td>b          </td><td>-0.5959455 </td></tr>\n",
       "\t<tr><td> 0.34535016</td><td>b          </td><td> 1.3474952 </td></tr>\n",
       "\t<tr><td>-0.16457401</td><td>c          </td><td> 0.4766421 </td></tr>\n",
       "\t<tr><td>-1.92273570</td><td>c          </td><td>-1.2345437 </td></tr>\n",
       "\t<tr><td> 2.58415300</td><td>c          </td><td>-0.5420559 </td></tr>\n",
       "</tbody>\n",
       "</table>\n"
      ],
      "text/latex": [
       "\\begin{tabular}{r|lll}\n",
       " x & y & z\\\\\n",
       "\\hline\n",
       "\t  1.72059198 & a           & -1.3440282 \\\\\n",
       "\t  0.62271197 & a           &  0.1501951 \\\\\n",
       "\t  0.38423480 & a           &  0.2073170 \\\\\n",
       "\t  0.09284853 & b           &  0.2051049 \\\\\n",
       "\t  1.00113431 & b           & -0.5959455 \\\\\n",
       "\t  0.34535016 & b           &  1.3474952 \\\\\n",
       "\t -0.16457401 & c           &  0.4766421 \\\\\n",
       "\t -1.92273570 & c           & -1.2345437 \\\\\n",
       "\t  2.58415300 & c           & -0.5420559 \\\\\n",
       "\\end{tabular}\n"
      ],
      "text/markdown": [
       "\n",
       "x | y | z | \n",
       "|---|---|---|---|---|---|---|---|---|\n",
       "|  1.72059198 | a           | -1.3440282  | \n",
       "|  0.62271197 | a           |  0.1501951  | \n",
       "|  0.38423480 | a           |  0.2073170  | \n",
       "|  0.09284853 | b           |  0.2051049  | \n",
       "|  1.00113431 | b           | -0.5959455  | \n",
       "|  0.34535016 | b           |  1.3474952  | \n",
       "| -0.16457401 | c           |  0.4766421  | \n",
       "| -1.92273570 | c           | -1.2345437  | \n",
       "|  2.58415300 | c           | -0.5420559  | \n",
       "\n",
       "\n"
      ],
      "text/plain": [
       "  x           y z         \n",
       "1  1.72059198 a -1.3440282\n",
       "2  0.62271197 a  0.1501951\n",
       "3  0.38423480 a  0.2073170\n",
       "4  0.09284853 b  0.2051049\n",
       "5  1.00113431 b -0.5959455\n",
       "6  0.34535016 b  1.3474952\n",
       "7 -0.16457401 c  0.4766421\n",
       "8 -1.92273570 c -1.2345437\n",
       "9  2.58415300 c -0.5420559"
      ]
     },
     "metadata": {},
     "output_type": "display_data"
    }
   ],
   "source": [
    "# Efficent version for to read data frame.\n",
    "library(data.table)\n",
    "DT = data.table(x=rnorm(9),y=rep(c(\"a\",\"b\",\"c\"),each=3),z=rnorm(9))\n",
    "DT"
   ]
  },
  {
   "cell_type": "code",
   "execution_count": 20,
   "metadata": {
    "ExecuteTime": {
     "end_time": "2019-11-13T05:00:58.701699Z",
     "start_time": "2019-11-13T05:00:58.662Z"
    }
   },
   "outputs": [
    {
     "name": "stdout",
     "output_type": "stream",
     "text": [
      "   NAME NROW NCOL MB  COLS KEY\n",
      "1:   DT    9    3  0 x,y,z    \n",
      "Total: 0MB\n"
     ]
    }
   ],
   "source": [
    "tables() # Tables in the memory"
   ]
  },
  {
   "cell_type": "code",
   "execution_count": 22,
   "metadata": {
    "ExecuteTime": {
     "end_time": "2019-11-13T05:03:42.717979Z",
     "start_time": "2019-11-13T05:03:42.680Z"
    }
   },
   "outputs": [
    {
     "data": {
      "text/html": [
       "<table>\n",
       "<thead><tr><th scope=col>V1</th><th scope=col>V2</th></tr></thead>\n",
       "<tbody>\n",
       "\t<tr><td>0.5181906</td><td>-1.329819</td></tr>\n",
       "</tbody>\n",
       "</table>\n"
      ],
      "text/latex": [
       "\\begin{tabular}{r|ll}\n",
       " V1 & V2\\\\\n",
       "\\hline\n",
       "\t 0.5181906 & -1.329819\\\\\n",
       "\\end{tabular}\n"
      ],
      "text/markdown": [
       "\n",
       "V1 | V2 | \n",
       "|---|\n",
       "| 0.5181906 | -1.329819 | \n",
       "\n",
       "\n"
      ],
      "text/plain": [
       "  V1        V2       \n",
       "1 0.5181906 -1.329819"
      ]
     },
     "metadata": {},
     "output_type": "display_data"
    }
   ],
   "source": [
    "DT[,list(mean(x),sum(z))] # Perform any function on dataframe"
   ]
  },
  {
   "cell_type": "code",
   "execution_count": 28,
   "metadata": {
    "ExecuteTime": {
     "end_time": "2019-11-13T05:07:28.132168Z",
     "start_time": "2019-11-13T05:07:28.067Z"
    }
   },
   "outputs": [
    {
     "data": {
      "text/html": [
       "<table>\n",
       "<thead><tr><th scope=col>x</th><th scope=col>N</th></tr></thead>\n",
       "<tbody>\n",
       "\t<tr><td> 1.72059198</td><td>1          </td></tr>\n",
       "\t<tr><td> 0.62271197</td><td>1          </td></tr>\n",
       "\t<tr><td> 0.38423480</td><td>1          </td></tr>\n",
       "\t<tr><td> 0.09284853</td><td>1          </td></tr>\n",
       "\t<tr><td> 1.00113431</td><td>1          </td></tr>\n",
       "\t<tr><td> 0.34535016</td><td>1          </td></tr>\n",
       "\t<tr><td>-0.16457401</td><td>1          </td></tr>\n",
       "\t<tr><td>-1.92273570</td><td>1          </td></tr>\n",
       "\t<tr><td> 2.58415300</td><td>1          </td></tr>\n",
       "</tbody>\n",
       "</table>\n"
      ],
      "text/latex": [
       "\\begin{tabular}{r|ll}\n",
       " x & N\\\\\n",
       "\\hline\n",
       "\t  1.72059198 & 1          \\\\\n",
       "\t  0.62271197 & 1          \\\\\n",
       "\t  0.38423480 & 1          \\\\\n",
       "\t  0.09284853 & 1          \\\\\n",
       "\t  1.00113431 & 1          \\\\\n",
       "\t  0.34535016 & 1          \\\\\n",
       "\t -0.16457401 & 1          \\\\\n",
       "\t -1.92273570 & 1          \\\\\n",
       "\t  2.58415300 & 1          \\\\\n",
       "\\end{tabular}\n"
      ],
      "text/markdown": [
       "\n",
       "x | N | \n",
       "|---|---|---|---|---|---|---|---|---|\n",
       "|  1.72059198 | 1           | \n",
       "|  0.62271197 | 1           | \n",
       "|  0.38423480 | 1           | \n",
       "|  0.09284853 | 1           | \n",
       "|  1.00113431 | 1           | \n",
       "|  0.34535016 | 1           | \n",
       "| -0.16457401 | 1           | \n",
       "| -1.92273570 | 1           | \n",
       "|  2.58415300 | 1           | \n",
       "\n",
       "\n"
      ],
      "text/plain": [
       "  x           N\n",
       "1  1.72059198 1\n",
       "2  0.62271197 1\n",
       "3  0.38423480 1\n",
       "4  0.09284853 1\n",
       "5  1.00113431 1\n",
       "6  0.34535016 1\n",
       "7 -0.16457401 1\n",
       "8 -1.92273570 1\n",
       "9  2.58415300 1"
      ]
     },
     "metadata": {},
     "output_type": "display_data"
    },
    {
     "data": {
      "text/html": [
       "<table>\n",
       "<thead><tr><th scope=col>x</th><th scope=col>y</th><th scope=col>z</th><th scope=col>w</th><th scope=col>a</th><th scope=col>m</th></tr></thead>\n",
       "<tbody>\n",
       "\t<tr><td> 1.72059198</td><td>a          </td><td>-1.3440282 </td><td>1.80641190 </td><td>FALSE      </td><td>3.375257   </td></tr>\n",
       "\t<tr><td> 0.62271197</td><td>a          </td><td> 0.1501951 </td><td>0.02255855 </td><td> TRUE      </td><td>3.429336   </td></tr>\n",
       "\t<tr><td> 0.38423480</td><td>a          </td><td> 0.2073170 </td><td>0.04298035 </td><td> TRUE      </td><td>3.404842   </td></tr>\n",
       "\t<tr><td> 0.09284853</td><td>b          </td><td> 0.2051049 </td><td>0.04206801 </td><td> TRUE      </td><td>3.364286   </td></tr>\n",
       "\t<tr><td> 1.00113431</td><td>b          </td><td>-0.5959455 </td><td>0.35515108 </td><td>FALSE      </td><td>3.379231   </td></tr>\n",
       "\t<tr><td> 0.34535016</td><td>b          </td><td> 1.3474952 </td><td>1.81574337 </td><td> TRUE      </td><td>3.547554   </td></tr>\n",
       "\t<tr><td>-0.16457401</td><td>c          </td><td> 0.4766421 </td><td>0.22718767 </td><td> TRUE      </td><td>3.366262   </td></tr>\n",
       "\t<tr><td>-1.92273570</td><td>c          </td><td>-1.2345437 </td><td>1.52409803 </td><td>FALSE      </td><td>2.774570   </td></tr>\n",
       "\t<tr><td> 2.58415300</td><td>c          </td><td>-0.5420559 </td><td>0.29382464 </td><td>FALSE      </td><td>3.590015   </td></tr>\n",
       "</tbody>\n",
       "</table>\n"
      ],
      "text/latex": [
       "\\begin{tabular}{r|llllll}\n",
       " x & y & z & w & a & m\\\\\n",
       "\\hline\n",
       "\t  1.72059198 & a           & -1.3440282  & 1.80641190  & FALSE       & 3.375257   \\\\\n",
       "\t  0.62271197 & a           &  0.1501951  & 0.02255855  &  TRUE       & 3.429336   \\\\\n",
       "\t  0.38423480 & a           &  0.2073170  & 0.04298035  &  TRUE       & 3.404842   \\\\\n",
       "\t  0.09284853 & b           &  0.2051049  & 0.04206801  &  TRUE       & 3.364286   \\\\\n",
       "\t  1.00113431 & b           & -0.5959455  & 0.35515108  & FALSE       & 3.379231   \\\\\n",
       "\t  0.34535016 & b           &  1.3474952  & 1.81574337  &  TRUE       & 3.547554   \\\\\n",
       "\t -0.16457401 & c           &  0.4766421  & 0.22718767  &  TRUE       & 3.366262   \\\\\n",
       "\t -1.92273570 & c           & -1.2345437  & 1.52409803  & FALSE       & 2.774570   \\\\\n",
       "\t  2.58415300 & c           & -0.5420559  & 0.29382464  & FALSE       & 3.590015   \\\\\n",
       "\\end{tabular}\n"
      ],
      "text/markdown": [
       "\n",
       "x | y | z | w | a | m | \n",
       "|---|---|---|---|---|---|---|---|---|\n",
       "|  1.72059198 | a           | -1.3440282  | 1.80641190  | FALSE       | 3.375257    | \n",
       "|  0.62271197 | a           |  0.1501951  | 0.02255855  |  TRUE       | 3.429336    | \n",
       "|  0.38423480 | a           |  0.2073170  | 0.04298035  |  TRUE       | 3.404842    | \n",
       "|  0.09284853 | b           |  0.2051049  | 0.04206801  |  TRUE       | 3.364286    | \n",
       "|  1.00113431 | b           | -0.5959455  | 0.35515108  | FALSE       | 3.379231    | \n",
       "|  0.34535016 | b           |  1.3474952  | 1.81574337  |  TRUE       | 3.547554    | \n",
       "| -0.16457401 | c           |  0.4766421  | 0.22718767  |  TRUE       | 3.366262    | \n",
       "| -1.92273570 | c           | -1.2345437  | 1.52409803  | FALSE       | 2.774570    | \n",
       "|  2.58415300 | c           | -0.5420559  | 0.29382464  | FALSE       | 3.590015    | \n",
       "\n",
       "\n"
      ],
      "text/plain": [
       "  x           y z          w          a     m       \n",
       "1  1.72059198 a -1.3440282 1.80641190 FALSE 3.375257\n",
       "2  0.62271197 a  0.1501951 0.02255855  TRUE 3.429336\n",
       "3  0.38423480 a  0.2073170 0.04298035  TRUE 3.404842\n",
       "4  0.09284853 b  0.2051049 0.04206801  TRUE 3.364286\n",
       "5  1.00113431 b -0.5959455 0.35515108 FALSE 3.379231\n",
       "6  0.34535016 b  1.3474952 1.81574337  TRUE 3.547554\n",
       "7 -0.16457401 c  0.4766421 0.22718767  TRUE 3.366262\n",
       "8 -1.92273570 c -1.2345437 1.52409803 FALSE 2.774570\n",
       "9  2.58415300 c -0.5420559 0.29382464 FALSE 3.590015"
      ]
     },
     "metadata": {},
     "output_type": "display_data"
    }
   ],
   "source": [
    "DT[,w:=z^2] # Add Any Column\n",
    "DT[,a:=z>0]\n",
    "DT[,m:={temp<- (x+z);log2(temp+10)}]\n",
    "DT[, .N, by=x] # Gets the count of the categorical value.\n",
    "DT"
   ]
  },
  {
   "cell_type": "code",
   "execution_count": 1,
   "metadata": {
    "ExecuteTime": {
     "end_time": "2019-11-14T18:32:51.606937Z",
     "start_time": "2019-11-14T18:32:51.583Z"
    }
   },
   "outputs": [],
   "source": [
    "# fread() command is used to read big data frame fast."
   ]
  },
  {
   "cell_type": "markdown",
   "metadata": {},
   "source": [
    "# Reading from MySQL"
   ]
  },
  {
   "cell_type": "code",
   "execution_count": 16,
   "metadata": {
    "ExecuteTime": {
     "end_time": "2019-11-14T18:41:33.907445Z",
     "start_time": "2019-11-14T18:41:32.687Z"
    }
   },
   "outputs": [
    {
     "data": {
      "text/html": [
       "TRUE"
      ],
      "text/latex": [
       "TRUE"
      ],
      "text/markdown": [
       "TRUE"
      ],
      "text/plain": [
       "[1] TRUE"
      ]
     },
     "metadata": {},
     "output_type": "display_data"
    }
   ],
   "source": [
    "library(RMySQL)\n",
    "library(DBI)\n",
    "ucscDb <- dbConnect(MySQL(),user=\"genome\",host=\"genome-mysql.cse.ucsc.edu\")\n",
    "result <- dbGetQuery(ucscDb,\"show databases;\"); dbDisconnect(ucscDb);"
   ]
  },
  {
   "cell_type": "code",
   "execution_count": 18,
   "metadata": {
    "ExecuteTime": {
     "end_time": "2019-11-14T18:42:12.879465Z",
     "start_time": "2019-11-14T18:42:12.745Z"
    }
   },
   "outputs": [
    {
     "data": {
      "text/html": [
       "<table>\n",
       "<thead><tr><th scope=col>Database</th></tr></thead>\n",
       "<tbody>\n",
       "\t<tr><td>acaChl1</td></tr>\n",
       "\t<tr><td>ailMel1</td></tr>\n",
       "\t<tr><td>allMis1</td></tr>\n",
       "\t<tr><td>allSin1</td></tr>\n",
       "\t<tr><td>amaVit1</td></tr>\n",
       "\t<tr><td>anaPla1</td></tr>\n",
       "\t<tr><td>ancCey1</td></tr>\n",
       "\t<tr><td>angJap1</td></tr>\n",
       "\t<tr><td>anoCar1</td></tr>\n",
       "\t<tr><td>anoCar2</td></tr>\n",
       "\t<tr><td>anoGam1</td></tr>\n",
       "\t<tr><td>anoGam3</td></tr>\n",
       "\t<tr><td>apaSpi1</td></tr>\n",
       "\t<tr><td>apaVit1</td></tr>\n",
       "\t<tr><td>apiMel1</td></tr>\n",
       "\t<tr><td>apiMel2</td></tr>\n",
       "\t<tr><td>aplCal1</td></tr>\n",
       "\t<tr><td>aptFor1</td></tr>\n",
       "\t<tr><td>aptMan1</td></tr>\n",
       "\t<tr><td>aquChr2</td></tr>\n",
       "\t<tr><td>araMac1</td></tr>\n",
       "\t<tr><td>ascSuu1</td></tr>\n",
       "\t<tr><td>balAcu1</td></tr>\n",
       "\t<tr><td>balPav1</td></tr>\n",
       "\t<tr><td>bisBis1</td></tr>\n",
       "\t<tr><td>bosTau2</td></tr>\n",
       "\t<tr><td>bosTau3</td></tr>\n",
       "\t<tr><td>bosTau4</td></tr>\n",
       "\t<tr><td>bosTau5</td></tr>\n",
       "\t<tr><td>bosTau6</td></tr>\n",
       "\t<tr><td>...</td></tr>\n",
       "\t<tr><td>strRat2 </td></tr>\n",
       "\t<tr><td>susScr11</td></tr>\n",
       "\t<tr><td>susScr2 </td></tr>\n",
       "\t<tr><td>susScr3 </td></tr>\n",
       "\t<tr><td>taeGut1 </td></tr>\n",
       "\t<tr><td>taeGut2 </td></tr>\n",
       "\t<tr><td>tarSyr1 </td></tr>\n",
       "\t<tr><td>tarSyr2 </td></tr>\n",
       "\t<tr><td>tauEry1 </td></tr>\n",
       "\t<tr><td>tetNig1 </td></tr>\n",
       "\t<tr><td>tetNig2 </td></tr>\n",
       "\t<tr><td>thaSir1 </td></tr>\n",
       "\t<tr><td>tinGut2 </td></tr>\n",
       "\t<tr><td>triMan1 </td></tr>\n",
       "\t<tr><td>triSpi1 </td></tr>\n",
       "\t<tr><td>triSui1 </td></tr>\n",
       "\t<tr><td>tupBel1 </td></tr>\n",
       "\t<tr><td>turTru2 </td></tr>\n",
       "\t<tr><td>tytAlb1 </td></tr>\n",
       "\t<tr><td>uniProt </td></tr>\n",
       "\t<tr><td>vicPac1 </td></tr>\n",
       "\t<tr><td>vicPac2 </td></tr>\n",
       "\t<tr><td>visiGene</td></tr>\n",
       "\t<tr><td>xenLae2 </td></tr>\n",
       "\t<tr><td>xenTro1 </td></tr>\n",
       "\t<tr><td>xenTro2 </td></tr>\n",
       "\t<tr><td>xenTro3 </td></tr>\n",
       "\t<tr><td>xenTro7 </td></tr>\n",
       "\t<tr><td>xenTro9 </td></tr>\n",
       "\t<tr><td>zonAlb1 </td></tr>\n",
       "</tbody>\n",
       "</table>\n"
      ],
      "text/latex": [
       "\\begin{tabular}{r|l}\n",
       " Database\\\\\n",
       "\\hline\n",
       "\t acaChl1\\\\\n",
       "\t ailMel1\\\\\n",
       "\t allMis1\\\\\n",
       "\t allSin1\\\\\n",
       "\t amaVit1\\\\\n",
       "\t anaPla1\\\\\n",
       "\t ancCey1\\\\\n",
       "\t angJap1\\\\\n",
       "\t anoCar1\\\\\n",
       "\t anoCar2\\\\\n",
       "\t anoGam1\\\\\n",
       "\t anoGam3\\\\\n",
       "\t apaSpi1\\\\\n",
       "\t apaVit1\\\\\n",
       "\t apiMel1\\\\\n",
       "\t apiMel2\\\\\n",
       "\t aplCal1\\\\\n",
       "\t aptFor1\\\\\n",
       "\t aptMan1\\\\\n",
       "\t aquChr2\\\\\n",
       "\t araMac1\\\\\n",
       "\t ascSuu1\\\\\n",
       "\t balAcu1\\\\\n",
       "\t balPav1\\\\\n",
       "\t bisBis1\\\\\n",
       "\t bosTau2\\\\\n",
       "\t bosTau3\\\\\n",
       "\t bosTau4\\\\\n",
       "\t bosTau5\\\\\n",
       "\t bosTau6\\\\\n",
       "\t ...\\\\\n",
       "\t strRat2 \\\\\n",
       "\t susScr11\\\\\n",
       "\t susScr2 \\\\\n",
       "\t susScr3 \\\\\n",
       "\t taeGut1 \\\\\n",
       "\t taeGut2 \\\\\n",
       "\t tarSyr1 \\\\\n",
       "\t tarSyr2 \\\\\n",
       "\t tauEry1 \\\\\n",
       "\t tetNig1 \\\\\n",
       "\t tetNig2 \\\\\n",
       "\t thaSir1 \\\\\n",
       "\t tinGut2 \\\\\n",
       "\t triMan1 \\\\\n",
       "\t triSpi1 \\\\\n",
       "\t triSui1 \\\\\n",
       "\t tupBel1 \\\\\n",
       "\t turTru2 \\\\\n",
       "\t tytAlb1 \\\\\n",
       "\t uniProt \\\\\n",
       "\t vicPac1 \\\\\n",
       "\t vicPac2 \\\\\n",
       "\t visiGene\\\\\n",
       "\t xenLae2 \\\\\n",
       "\t xenTro1 \\\\\n",
       "\t xenTro2 \\\\\n",
       "\t xenTro3 \\\\\n",
       "\t xenTro7 \\\\\n",
       "\t xenTro9 \\\\\n",
       "\t zonAlb1 \\\\\n",
       "\\end{tabular}\n"
      ],
      "text/markdown": [
       "\n",
       "Database | \n",
       "|---|---|---|---|---|---|---|---|---|---|---|---|---|---|---|---|---|---|---|---|---|---|---|---|---|---|---|---|---|---|---|---|---|---|---|---|---|---|---|---|---|---|---|---|---|---|---|---|---|---|---|---|---|---|---|---|---|---|---|---|---|\n",
       "| acaChl1 | \n",
       "| ailMel1 | \n",
       "| allMis1 | \n",
       "| allSin1 | \n",
       "| amaVit1 | \n",
       "| anaPla1 | \n",
       "| ancCey1 | \n",
       "| angJap1 | \n",
       "| anoCar1 | \n",
       "| anoCar2 | \n",
       "| anoGam1 | \n",
       "| anoGam3 | \n",
       "| apaSpi1 | \n",
       "| apaVit1 | \n",
       "| apiMel1 | \n",
       "| apiMel2 | \n",
       "| aplCal1 | \n",
       "| aptFor1 | \n",
       "| aptMan1 | \n",
       "| aquChr2 | \n",
       "| araMac1 | \n",
       "| ascSuu1 | \n",
       "| balAcu1 | \n",
       "| balPav1 | \n",
       "| bisBis1 | \n",
       "| bosTau2 | \n",
       "| bosTau3 | \n",
       "| bosTau4 | \n",
       "| bosTau5 | \n",
       "| bosTau6 | \n",
       "| ... | \n",
       "| strRat2  | \n",
       "| susScr11 | \n",
       "| susScr2  | \n",
       "| susScr3  | \n",
       "| taeGut1  | \n",
       "| taeGut2  | \n",
       "| tarSyr1  | \n",
       "| tarSyr2  | \n",
       "| tauEry1  | \n",
       "| tetNig1  | \n",
       "| tetNig2  | \n",
       "| thaSir1  | \n",
       "| tinGut2  | \n",
       "| triMan1  | \n",
       "| triSpi1  | \n",
       "| triSui1  | \n",
       "| tupBel1  | \n",
       "| turTru2  | \n",
       "| tytAlb1  | \n",
       "| uniProt  | \n",
       "| vicPac1  | \n",
       "| vicPac2  | \n",
       "| visiGene | \n",
       "| xenLae2  | \n",
       "| xenTro1  | \n",
       "| xenTro2  | \n",
       "| xenTro3  | \n",
       "| xenTro7  | \n",
       "| xenTro9  | \n",
       "| zonAlb1  | \n",
       "\n",
       "\n"
      ],
      "text/plain": [
       "    Database\n",
       "1   acaChl1 \n",
       "2   ailMel1 \n",
       "3   allMis1 \n",
       "4   allSin1 \n",
       "5   amaVit1 \n",
       "6   anaPla1 \n",
       "7   ancCey1 \n",
       "8   angJap1 \n",
       "9   anoCar1 \n",
       "10  anoCar2 \n",
       "11  anoGam1 \n",
       "12  anoGam3 \n",
       "13  apaSpi1 \n",
       "14  apaVit1 \n",
       "15  apiMel1 \n",
       "16  apiMel2 \n",
       "17  aplCal1 \n",
       "18  aptFor1 \n",
       "19  aptMan1 \n",
       "20  aquChr2 \n",
       "21  araMac1 \n",
       "22  ascSuu1 \n",
       "23  balAcu1 \n",
       "24  balPav1 \n",
       "25  bisBis1 \n",
       "26  bosTau2 \n",
       "27  bosTau3 \n",
       "28  bosTau4 \n",
       "29  bosTau5 \n",
       "30  bosTau6 \n",
       "... ...     \n",
       "297 strRat2 \n",
       "298 susScr11\n",
       "299 susScr2 \n",
       "300 susScr3 \n",
       "301 taeGut1 \n",
       "302 taeGut2 \n",
       "303 tarSyr1 \n",
       "304 tarSyr2 \n",
       "305 tauEry1 \n",
       "306 tetNig1 \n",
       "307 tetNig2 \n",
       "308 thaSir1 \n",
       "309 tinGut2 \n",
       "310 triMan1 \n",
       "311 triSpi1 \n",
       "312 triSui1 \n",
       "313 tupBel1 \n",
       "314 turTru2 \n",
       "315 tytAlb1 \n",
       "316 uniProt \n",
       "317 vicPac1 \n",
       "318 vicPac2 \n",
       "319 visiGene\n",
       "320 xenLae2 \n",
       "321 xenTro1 \n",
       "322 xenTro2 \n",
       "323 xenTro3 \n",
       "324 xenTro7 \n",
       "325 xenTro9 \n",
       "326 zonAlb1 "
      ]
     },
     "metadata": {},
     "output_type": "display_data"
    }
   ],
   "source": [
    "result"
   ]
  },
  {
   "cell_type": "code",
   "execution_count": 19,
   "metadata": {
    "ExecuteTime": {
     "end_time": "2019-11-14T18:42:27.712438Z",
     "start_time": "2019-11-14T18:42:25.064Z"
    }
   },
   "outputs": [
    {
     "data": {
      "text/html": [
       "12425"
      ],
      "text/latex": [
       "12425"
      ],
      "text/markdown": [
       "12425"
      ],
      "text/plain": [
       "[1] 12425"
      ]
     },
     "metadata": {},
     "output_type": "display_data"
    }
   ],
   "source": [
    "hg19 <- dbConnect(MySQL(),user=\"genome\",db=\"hg19\",host=\"genome-mysql.cse.ucsc.edu\")\n",
    "allTable <- dbListTables(hg19)\n",
    "length(allTable)"
   ]
  },
  {
   "cell_type": "code",
   "execution_count": 20,
   "metadata": {
    "ExecuteTime": {
     "end_time": "2019-11-14T18:42:38.780590Z",
     "start_time": "2019-11-14T18:42:38.750Z"
    }
   },
   "outputs": [
    {
     "data": {
      "text/html": [
       "<ol class=list-inline>\n",
       "\t<li>'HInv'</li>\n",
       "\t<li>'HInvGeneMrna'</li>\n",
       "\t<li>'acembly'</li>\n",
       "\t<li>'acemblyClass'</li>\n",
       "\t<li>'acemblyPep'</li>\n",
       "</ol>\n"
      ],
      "text/latex": [
       "\\begin{enumerate*}\n",
       "\\item 'HInv'\n",
       "\\item 'HInvGeneMrna'\n",
       "\\item 'acembly'\n",
       "\\item 'acemblyClass'\n",
       "\\item 'acemblyPep'\n",
       "\\end{enumerate*}\n"
      ],
      "text/markdown": [
       "1. 'HInv'\n",
       "2. 'HInvGeneMrna'\n",
       "3. 'acembly'\n",
       "4. 'acemblyClass'\n",
       "5. 'acemblyPep'\n",
       "\n",
       "\n"
      ],
      "text/plain": [
       "[1] \"HInv\"         \"HInvGeneMrna\" \"acembly\"      \"acemblyClass\" \"acemblyPep\"  "
      ]
     },
     "metadata": {},
     "output_type": "display_data"
    }
   ],
   "source": [
    "allTable[1:5]"
   ]
  },
  {
   "cell_type": "code",
   "execution_count": 21,
   "metadata": {
    "ExecuteTime": {
     "end_time": "2019-11-14T18:42:49.971787Z",
     "start_time": "2019-11-14T18:42:49.665Z"
    }
   },
   "outputs": [
    {
     "data": {
      "text/html": [
       "<ol class=list-inline>\n",
       "\t<li>'bin'</li>\n",
       "\t<li>'matches'</li>\n",
       "\t<li>'misMatches'</li>\n",
       "\t<li>'repMatches'</li>\n",
       "\t<li>'nCount'</li>\n",
       "\t<li>'qNumInsert'</li>\n",
       "\t<li>'qBaseInsert'</li>\n",
       "\t<li>'tNumInsert'</li>\n",
       "\t<li>'tBaseInsert'</li>\n",
       "\t<li>'strand'</li>\n",
       "\t<li>'qName'</li>\n",
       "\t<li>'qSize'</li>\n",
       "\t<li>'qStart'</li>\n",
       "\t<li>'qEnd'</li>\n",
       "\t<li>'tName'</li>\n",
       "\t<li>'tSize'</li>\n",
       "\t<li>'tStart'</li>\n",
       "\t<li>'tEnd'</li>\n",
       "\t<li>'blockCount'</li>\n",
       "\t<li>'blockSizes'</li>\n",
       "\t<li>'qStarts'</li>\n",
       "\t<li>'tStarts'</li>\n",
       "</ol>\n"
      ],
      "text/latex": [
       "\\begin{enumerate*}\n",
       "\\item 'bin'\n",
       "\\item 'matches'\n",
       "\\item 'misMatches'\n",
       "\\item 'repMatches'\n",
       "\\item 'nCount'\n",
       "\\item 'qNumInsert'\n",
       "\\item 'qBaseInsert'\n",
       "\\item 'tNumInsert'\n",
       "\\item 'tBaseInsert'\n",
       "\\item 'strand'\n",
       "\\item 'qName'\n",
       "\\item 'qSize'\n",
       "\\item 'qStart'\n",
       "\\item 'qEnd'\n",
       "\\item 'tName'\n",
       "\\item 'tSize'\n",
       "\\item 'tStart'\n",
       "\\item 'tEnd'\n",
       "\\item 'blockCount'\n",
       "\\item 'blockSizes'\n",
       "\\item 'qStarts'\n",
       "\\item 'tStarts'\n",
       "\\end{enumerate*}\n"
      ],
      "text/markdown": [
       "1. 'bin'\n",
       "2. 'matches'\n",
       "3. 'misMatches'\n",
       "4. 'repMatches'\n",
       "5. 'nCount'\n",
       "6. 'qNumInsert'\n",
       "7. 'qBaseInsert'\n",
       "8. 'tNumInsert'\n",
       "9. 'tBaseInsert'\n",
       "10. 'strand'\n",
       "11. 'qName'\n",
       "12. 'qSize'\n",
       "13. 'qStart'\n",
       "14. 'qEnd'\n",
       "15. 'tName'\n",
       "16. 'tSize'\n",
       "17. 'tStart'\n",
       "18. 'tEnd'\n",
       "19. 'blockCount'\n",
       "20. 'blockSizes'\n",
       "21. 'qStarts'\n",
       "22. 'tStarts'\n",
       "\n",
       "\n"
      ],
      "text/plain": [
       " [1] \"bin\"         \"matches\"     \"misMatches\"  \"repMatches\"  \"nCount\"     \n",
       " [6] \"qNumInsert\"  \"qBaseInsert\" \"tNumInsert\"  \"tBaseInsert\" \"strand\"     \n",
       "[11] \"qName\"       \"qSize\"       \"qStart\"      \"qEnd\"        \"tName\"      \n",
       "[16] \"tSize\"       \"tStart\"      \"tEnd\"        \"blockCount\"  \"blockSizes\" \n",
       "[21] \"qStarts\"     \"tStarts\"    "
      ]
     },
     "metadata": {},
     "output_type": "display_data"
    }
   ],
   "source": [
    "dbListFields(hg19,\"affyU133Plus2\")"
   ]
  },
  {
   "cell_type": "code",
   "execution_count": 22,
   "metadata": {
    "ExecuteTime": {
     "end_time": "2019-11-14T18:43:01.657442Z",
     "start_time": "2019-11-14T18:43:01.338Z"
    }
   },
   "outputs": [
    {
     "data": {
      "text/html": [
       "<table>\n",
       "<thead><tr><th scope=col>count(*)</th></tr></thead>\n",
       "<tbody>\n",
       "\t<tr><td>58463</td></tr>\n",
       "</tbody>\n",
       "</table>\n"
      ],
      "text/latex": [
       "\\begin{tabular}{r|l}\n",
       " count(*)\\\\\n",
       "\\hline\n",
       "\t 58463\\\\\n",
       "\\end{tabular}\n"
      ],
      "text/markdown": [
       "\n",
       "count(*) | \n",
       "|---|\n",
       "| 58463 | \n",
       "\n",
       "\n"
      ],
      "text/plain": [
       "  count(*)\n",
       "1 58463   "
      ]
     },
     "metadata": {},
     "output_type": "display_data"
    }
   ],
   "source": [
    "dbGetQuery(hg19,\"select count(*) from affyU133Plus2\")"
   ]
  },
  {
   "cell_type": "code",
   "execution_count": 23,
   "metadata": {
    "ExecuteTime": {
     "end_time": "2019-11-14T18:43:22.289048Z",
     "start_time": "2019-11-14T18:43:12.996Z"
    }
   },
   "outputs": [
    {
     "name": "stderr",
     "output_type": "stream",
     "text": [
      "Warning message in .local(conn, statement, ...):\n",
      "\"Unsigned INTEGER in col 0 imported as numeric\"\n",
      "Warning message in .local(conn, statement, ...):\n",
      "\"Unsigned INTEGER in col 1 imported as numeric\"\n",
      "Warning message in .local(conn, statement, ...):\n",
      "\"Unsigned INTEGER in col 2 imported as numeric\"\n",
      "Warning message in .local(conn, statement, ...):\n",
      "\"Unsigned INTEGER in col 3 imported as numeric\"\n",
      "Warning message in .local(conn, statement, ...):\n",
      "\"Unsigned INTEGER in col 4 imported as numeric\"\n",
      "Warning message in .local(conn, statement, ...):\n",
      "\"Unsigned INTEGER in col 5 imported as numeric\"\n",
      "Warning message in .local(conn, statement, ...):\n",
      "\"Unsigned INTEGER in col 6 imported as numeric\"\n",
      "Warning message in .local(conn, statement, ...):\n",
      "\"Unsigned INTEGER in col 7 imported as numeric\"\n",
      "Warning message in .local(conn, statement, ...):\n",
      "\"Unsigned INTEGER in col 8 imported as numeric\"\n",
      "Warning message in .local(conn, statement, ...):\n",
      "\"Unsigned INTEGER in col 11 imported as numeric\"\n",
      "Warning message in .local(conn, statement, ...):\n",
      "\"Unsigned INTEGER in col 12 imported as numeric\"\n",
      "Warning message in .local(conn, statement, ...):\n",
      "\"Unsigned INTEGER in col 13 imported as numeric\"\n",
      "Warning message in .local(conn, statement, ...):\n",
      "\"Unsigned INTEGER in col 15 imported as numeric\"\n",
      "Warning message in .local(conn, statement, ...):\n",
      "\"Unsigned INTEGER in col 16 imported as numeric\"\n",
      "Warning message in .local(conn, statement, ...):\n",
      "\"Unsigned INTEGER in col 17 imported as numeric\"\n",
      "Warning message in .local(conn, statement, ...):\n",
      "\"Unsigned INTEGER in col 18 imported as numeric\"\n"
     ]
    }
   ],
   "source": [
    "affyData <- dbReadTable(hg19,\"affyU133Plus2\")"
   ]
  },
  {
   "cell_type": "code",
   "execution_count": 24,
   "metadata": {
    "ExecuteTime": {
     "end_time": "2019-11-14T18:43:46.225156Z",
     "start_time": "2019-11-14T18:43:46.153Z"
    }
   },
   "outputs": [
    {
     "data": {
      "text/html": [
       "<table>\n",
       "<thead><tr><th scope=col>bin</th><th scope=col>matches</th><th scope=col>misMatches</th><th scope=col>repMatches</th><th scope=col>nCount</th><th scope=col>qNumInsert</th><th scope=col>qBaseInsert</th><th scope=col>tNumInsert</th><th scope=col>tBaseInsert</th><th scope=col>strand</th><th scope=col>...</th><th scope=col>qStart</th><th scope=col>qEnd</th><th scope=col>tName</th><th scope=col>tSize</th><th scope=col>tStart</th><th scope=col>tEnd</th><th scope=col>blockCount</th><th scope=col>blockSizes</th><th scope=col>qStarts</th><th scope=col>tStarts</th></tr></thead>\n",
       "<tbody>\n",
       "\t<tr><td>585                                                                                                                                       </td><td> 530                                                                                                                                      </td><td> 4                                                                                                                                        </td><td>0                                                                                                                                         </td><td> 23                                                                                                                                       </td><td> 3                                                                                                                                        </td><td>41                                                                                                                                        </td><td>3                                                                                                                                         </td><td>  898                                                                                                                                     </td><td>-                                                                                                                                         </td><td>...                                                                                                                                       </td><td> 5                                                                                                                                        </td><td> 603                                                                                                                                      </td><td>chr1                                                                                                                                      </td><td>249250621                                                                                                                                 </td><td>14361                                                                                                                                     </td><td>15816                                                                                                                                     </td><td> 5                                                                                                                                        </td><td>93,144,229,70,21,                                                                                                                         </td><td>34,132,278,541,611,                                                                                                                       </td><td>14361,14454,14599,14968,15795,                                                                                                            </td></tr>\n",
       "\t<tr><td>585                                                                                                                                       </td><td>3355                                                                                                                                      </td><td>17                                                                                                                                        </td><td>0                                                                                                                                         </td><td>109                                                                                                                                       </td><td> 9                                                                                                                                        </td><td>67                                                                                                                                        </td><td>9                                                                                                                                         </td><td>11621                                                                                                                                     </td><td>-                                                                                                                                         </td><td>...                                                                                                                                       </td><td> 0                                                                                                                                        </td><td>3548                                                                                                                                      </td><td>chr1                                                                                                                                      </td><td>249250621                                                                                                                                 </td><td>14381                                                                                                                                     </td><td>29483                                                                                                                                     </td><td>17                                                                                                                                        </td><td>73,375,71,165,303,360,198,661,201,1,260,250,74,73,98,155,163,                                                                             </td><td>87,165,540,647,818,1123,1484,1682,2343,2545,2546,2808,3058,3133,3206,3317,3472,                                                           </td><td>14381,14454,14969,15075,15240,15543,15903,16104,16853,17054,17232,17492,17914,17988,18267,24736,29320,                                    </td></tr>\n",
       "\t<tr><td>585                                                                                                                                       </td><td>4156                                                                                                                                      </td><td>14                                                                                                                                        </td><td>0                                                                                                                                         </td><td> 83                                                                                                                                       </td><td>16                                                                                                                                        </td><td>18                                                                                                                                        </td><td>2                                                                                                                                         </td><td>   93                                                                                                                                     </td><td>-                                                                                                                                         </td><td>...                                                                                                                                       </td><td> 3                                                                                                                                        </td><td>4274                                                                                                                                      </td><td>chr1                                                                                                                                      </td><td>249250621                                                                                                                                 </td><td>14399                                                                                                                                     </td><td>18745                                                                                                                                     </td><td>18                                                                                                                                        </td><td>690,10,32,33,376,4,5,15,5,11,7,41,277,859,141,51,443,1253,                                                                                </td><td>44,735,746,779,813,1190,1195,1201,1217,1223,1235,1243,1285,1564,2423,2565,2617,3062,                                                      </td><td>14399,15089,15099,15131,15164,15540,15544,15549,15564,15569,15580,15587,15628,15906,16857,16998,17049,17492,                              </td></tr>\n",
       "\t<tr><td>585                                                                                                                                       </td><td>4667                                                                                                                                      </td><td> 9                                                                                                                                        </td><td>0                                                                                                                                         </td><td> 68                                                                                                                                       </td><td>21                                                                                                                                        </td><td>42                                                                                                                                        </td><td>3                                                                                                                                         </td><td> 5743                                                                                                                                     </td><td>-                                                                                                                                         </td><td>...                                                                                                                                       </td><td>48                                                                                                                                        </td><td>4834                                                                                                                                      </td><td>chr1                                                                                                                                      </td><td>249250621                                                                                                                                 </td><td>14406                                                                                                                                     </td><td>24893                                                                                                                                     </td><td>23                                                                                                                                        </td><td>99,352,286,24,49,14,6,5,8,149,14,44,98,12,10,355,837,59,8,1500,133,624,58,                                                                </td><td>0,99,452,739,764,814,829,836,842,851,1001,1016,1061,1160,1173,1184,1540,2381,2441,2450,3951,4103,4728,                                    </td><td>14406,20227,20579,20865,20889,20938,20952,20958,20963,20971,21120,21134,21178,21276,21288,21298,21653,22492,22551,22559,24059,24211,24835,</td></tr>\n",
       "\t<tr><td>585                                                                                                                                       </td><td>5180                                                                                                                                      </td><td>14                                                                                                                                        </td><td>0                                                                                                                                         </td><td>167                                                                                                                                       </td><td>10                                                                                                                                        </td><td>38                                                                                                                                        </td><td>1                                                                                                                                         </td><td>   29                                                                                                                                     </td><td>-                                                                                                                                         </td><td>...                                                                                                                                       </td><td> 0                                                                                                                                        </td><td>5399                                                                                                                                      </td><td>chr1                                                                                                                                      </td><td>249250621                                                                                                                                 </td><td>19688                                                                                                                                     </td><td>25078                                                                                                                                     </td><td>11                                                                                                                                        </td><td>131,26,1300,6,4,11,4,7,358,3359,155,                                                                                                      </td><td>0,132,159,1460,1467,1472,1484,1489,1497,1856,5244,                                                                                        </td><td>19688,19819,19845,21145,21151,21155,21166,21170,21177,21535,24923,                                                                        </td></tr>\n",
       "\t<tr><td>585                                                                                                                                       </td><td> 468                                                                                                                                      </td><td> 5                                                                                                                                        </td><td>0                                                                                                                                         </td><td> 14                                                                                                                                       </td><td> 0                                                                                                                                        </td><td> 0                                                                                                                                        </td><td>0                                                                                                                                         </td><td>    0                                                                                                                                     </td><td>-                                                                                                                                         </td><td>...                                                                                                                                       </td><td> 0                                                                                                                                        </td><td> 487                                                                                                                                      </td><td>chr1                                                                                                                                      </td><td>249250621                                                                                                                                 </td><td>27542                                                                                                                                     </td><td>28029                                                                                                                                     </td><td> 1                                                                                                                                        </td><td>487,                                                                                                                                      </td><td>0,                                                                                                                                        </td><td>27542,                                                                                                                                    </td></tr>\n",
       "</tbody>\n",
       "</table>\n"
      ],
      "text/latex": [
       "\\begin{tabular}{r|llllllllllllllllllllll}\n",
       " bin & matches & misMatches & repMatches & nCount & qNumInsert & qBaseInsert & tNumInsert & tBaseInsert & strand & ... & qStart & qEnd & tName & tSize & tStart & tEnd & blockCount & blockSizes & qStarts & tStarts\\\\\n",
       "\\hline\n",
       "\t 585                                                                                                                                        &  530                                                                                                                                       &  4                                                                                                                                         & 0                                                                                                                                          &  23                                                                                                                                        &  3                                                                                                                                         & 41                                                                                                                                         & 3                                                                                                                                          &   898                                                                                                                                      & -                                                                                                                                          & ...                                                                                                                                        &  5                                                                                                                                         &  603                                                                                                                                       & chr1                                                                                                                                       & 249250621                                                                                                                                  & 14361                                                                                                                                      & 15816                                                                                                                                      &  5                                                                                                                                         & 93,144,229,70,21,                                                                                                                          & 34,132,278,541,611,                                                                                                                        & 14361,14454,14599,14968,15795,                                                                                                            \\\\\n",
       "\t 585                                                                                                                                        & 3355                                                                                                                                       & 17                                                                                                                                         & 0                                                                                                                                          & 109                                                                                                                                        &  9                                                                                                                                         & 67                                                                                                                                         & 9                                                                                                                                          & 11621                                                                                                                                      & -                                                                                                                                          & ...                                                                                                                                        &  0                                                                                                                                         & 3548                                                                                                                                       & chr1                                                                                                                                       & 249250621                                                                                                                                  & 14381                                                                                                                                      & 29483                                                                                                                                      & 17                                                                                                                                         & 73,375,71,165,303,360,198,661,201,1,260,250,74,73,98,155,163,                                                                              & 87,165,540,647,818,1123,1484,1682,2343,2545,2546,2808,3058,3133,3206,3317,3472,                                                            & 14381,14454,14969,15075,15240,15543,15903,16104,16853,17054,17232,17492,17914,17988,18267,24736,29320,                                    \\\\\n",
       "\t 585                                                                                                                                        & 4156                                                                                                                                       & 14                                                                                                                                         & 0                                                                                                                                          &  83                                                                                                                                        & 16                                                                                                                                         & 18                                                                                                                                         & 2                                                                                                                                          &    93                                                                                                                                      & -                                                                                                                                          & ...                                                                                                                                        &  3                                                                                                                                         & 4274                                                                                                                                       & chr1                                                                                                                                       & 249250621                                                                                                                                  & 14399                                                                                                                                      & 18745                                                                                                                                      & 18                                                                                                                                         & 690,10,32,33,376,4,5,15,5,11,7,41,277,859,141,51,443,1253,                                                                                 & 44,735,746,779,813,1190,1195,1201,1217,1223,1235,1243,1285,1564,2423,2565,2617,3062,                                                       & 14399,15089,15099,15131,15164,15540,15544,15549,15564,15569,15580,15587,15628,15906,16857,16998,17049,17492,                              \\\\\n",
       "\t 585                                                                                                                                        & 4667                                                                                                                                       &  9                                                                                                                                         & 0                                                                                                                                          &  68                                                                                                                                        & 21                                                                                                                                         & 42                                                                                                                                         & 3                                                                                                                                          &  5743                                                                                                                                      & -                                                                                                                                          & ...                                                                                                                                        & 48                                                                                                                                         & 4834                                                                                                                                       & chr1                                                                                                                                       & 249250621                                                                                                                                  & 14406                                                                                                                                      & 24893                                                                                                                                      & 23                                                                                                                                         & 99,352,286,24,49,14,6,5,8,149,14,44,98,12,10,355,837,59,8,1500,133,624,58,                                                                 & 0,99,452,739,764,814,829,836,842,851,1001,1016,1061,1160,1173,1184,1540,2381,2441,2450,3951,4103,4728,                                     & 14406,20227,20579,20865,20889,20938,20952,20958,20963,20971,21120,21134,21178,21276,21288,21298,21653,22492,22551,22559,24059,24211,24835,\\\\\n",
       "\t 585                                                                                                                                        & 5180                                                                                                                                       & 14                                                                                                                                         & 0                                                                                                                                          & 167                                                                                                                                        & 10                                                                                                                                         & 38                                                                                                                                         & 1                                                                                                                                          &    29                                                                                                                                      & -                                                                                                                                          & ...                                                                                                                                        &  0                                                                                                                                         & 5399                                                                                                                                       & chr1                                                                                                                                       & 249250621                                                                                                                                  & 19688                                                                                                                                      & 25078                                                                                                                                      & 11                                                                                                                                         & 131,26,1300,6,4,11,4,7,358,3359,155,                                                                                                       & 0,132,159,1460,1467,1472,1484,1489,1497,1856,5244,                                                                                         & 19688,19819,19845,21145,21151,21155,21166,21170,21177,21535,24923,                                                                        \\\\\n",
       "\t 585                                                                                                                                        &  468                                                                                                                                       &  5                                                                                                                                         & 0                                                                                                                                          &  14                                                                                                                                        &  0                                                                                                                                         &  0                                                                                                                                         & 0                                                                                                                                          &     0                                                                                                                                      & -                                                                                                                                          & ...                                                                                                                                        &  0                                                                                                                                         &  487                                                                                                                                       & chr1                                                                                                                                       & 249250621                                                                                                                                  & 27542                                                                                                                                      & 28029                                                                                                                                      &  1                                                                                                                                         & 487,                                                                                                                                       & 0,                                                                                                                                         & 27542,                                                                                                                                    \\\\\n",
       "\\end{tabular}\n"
      ],
      "text/markdown": [
       "\n",
       "bin | matches | misMatches | repMatches | nCount | qNumInsert | qBaseInsert | tNumInsert | tBaseInsert | strand | ... | qStart | qEnd | tName | tSize | tStart | tEnd | blockCount | blockSizes | qStarts | tStarts | \n",
       "|---|---|---|---|---|---|\n",
       "| 585                                                                                                                                        |  530                                                                                                                                       |  4                                                                                                                                         | 0                                                                                                                                          |  23                                                                                                                                        |  3                                                                                                                                         | 41                                                                                                                                         | 3                                                                                                                                          |   898                                                                                                                                      | -                                                                                                                                          | ...                                                                                                                                        |  5                                                                                                                                         |  603                                                                                                                                       | chr1                                                                                                                                       | 249250621                                                                                                                                  | 14361                                                                                                                                      | 15816                                                                                                                                      |  5                                                                                                                                         | 93,144,229,70,21,                                                                                                                          | 34,132,278,541,611,                                                                                                                        | 14361,14454,14599,14968,15795,                                                                                                             | \n",
       "| 585                                                                                                                                        | 3355                                                                                                                                       | 17                                                                                                                                         | 0                                                                                                                                          | 109                                                                                                                                        |  9                                                                                                                                         | 67                                                                                                                                         | 9                                                                                                                                          | 11621                                                                                                                                      | -                                                                                                                                          | ...                                                                                                                                        |  0                                                                                                                                         | 3548                                                                                                                                       | chr1                                                                                                                                       | 249250621                                                                                                                                  | 14381                                                                                                                                      | 29483                                                                                                                                      | 17                                                                                                                                         | 73,375,71,165,303,360,198,661,201,1,260,250,74,73,98,155,163,                                                                              | 87,165,540,647,818,1123,1484,1682,2343,2545,2546,2808,3058,3133,3206,3317,3472,                                                            | 14381,14454,14969,15075,15240,15543,15903,16104,16853,17054,17232,17492,17914,17988,18267,24736,29320,                                     | \n",
       "| 585                                                                                                                                        | 4156                                                                                                                                       | 14                                                                                                                                         | 0                                                                                                                                          |  83                                                                                                                                        | 16                                                                                                                                         | 18                                                                                                                                         | 2                                                                                                                                          |    93                                                                                                                                      | -                                                                                                                                          | ...                                                                                                                                        |  3                                                                                                                                         | 4274                                                                                                                                       | chr1                                                                                                                                       | 249250621                                                                                                                                  | 14399                                                                                                                                      | 18745                                                                                                                                      | 18                                                                                                                                         | 690,10,32,33,376,4,5,15,5,11,7,41,277,859,141,51,443,1253,                                                                                 | 44,735,746,779,813,1190,1195,1201,1217,1223,1235,1243,1285,1564,2423,2565,2617,3062,                                                       | 14399,15089,15099,15131,15164,15540,15544,15549,15564,15569,15580,15587,15628,15906,16857,16998,17049,17492,                               | \n",
       "| 585                                                                                                                                        | 4667                                                                                                                                       |  9                                                                                                                                         | 0                                                                                                                                          |  68                                                                                                                                        | 21                                                                                                                                         | 42                                                                                                                                         | 3                                                                                                                                          |  5743                                                                                                                                      | -                                                                                                                                          | ...                                                                                                                                        | 48                                                                                                                                         | 4834                                                                                                                                       | chr1                                                                                                                                       | 249250621                                                                                                                                  | 14406                                                                                                                                      | 24893                                                                                                                                      | 23                                                                                                                                         | 99,352,286,24,49,14,6,5,8,149,14,44,98,12,10,355,837,59,8,1500,133,624,58,                                                                 | 0,99,452,739,764,814,829,836,842,851,1001,1016,1061,1160,1173,1184,1540,2381,2441,2450,3951,4103,4728,                                     | 14406,20227,20579,20865,20889,20938,20952,20958,20963,20971,21120,21134,21178,21276,21288,21298,21653,22492,22551,22559,24059,24211,24835, | \n",
       "| 585                                                                                                                                        | 5180                                                                                                                                       | 14                                                                                                                                         | 0                                                                                                                                          | 167                                                                                                                                        | 10                                                                                                                                         | 38                                                                                                                                         | 1                                                                                                                                          |    29                                                                                                                                      | -                                                                                                                                          | ...                                                                                                                                        |  0                                                                                                                                         | 5399                                                                                                                                       | chr1                                                                                                                                       | 249250621                                                                                                                                  | 19688                                                                                                                                      | 25078                                                                                                                                      | 11                                                                                                                                         | 131,26,1300,6,4,11,4,7,358,3359,155,                                                                                                       | 0,132,159,1460,1467,1472,1484,1489,1497,1856,5244,                                                                                         | 19688,19819,19845,21145,21151,21155,21166,21170,21177,21535,24923,                                                                         | \n",
       "| 585                                                                                                                                        |  468                                                                                                                                       |  5                                                                                                                                         | 0                                                                                                                                          |  14                                                                                                                                        |  0                                                                                                                                         |  0                                                                                                                                         | 0                                                                                                                                          |     0                                                                                                                                      | -                                                                                                                                          | ...                                                                                                                                        |  0                                                                                                                                         |  487                                                                                                                                       | chr1                                                                                                                                       | 249250621                                                                                                                                  | 27542                                                                                                                                      | 28029                                                                                                                                      |  1                                                                                                                                         | 487,                                                                                                                                       | 0,                                                                                                                                         | 27542,                                                                                                                                     | \n",
       "\n",
       "\n"
      ],
      "text/plain": [
       "  bin matches misMatches repMatches nCount qNumInsert qBaseInsert tNumInsert\n",
       "1 585  530     4         0           23     3         41          3         \n",
       "2 585 3355    17         0          109     9         67          9         \n",
       "3 585 4156    14         0           83    16         18          2         \n",
       "4 585 4667     9         0           68    21         42          3         \n",
       "5 585 5180    14         0          167    10         38          1         \n",
       "6 585  468     5         0           14     0          0          0         \n",
       "  tBaseInsert strand ... qStart qEnd tName tSize     tStart tEnd  blockCount\n",
       "1   898       -      ...  5      603 chr1  249250621 14361  15816  5        \n",
       "2 11621       -      ...  0     3548 chr1  249250621 14381  29483 17        \n",
       "3    93       -      ...  3     4274 chr1  249250621 14399  18745 18        \n",
       "4  5743       -      ... 48     4834 chr1  249250621 14406  24893 23        \n",
       "5    29       -      ...  0     5399 chr1  249250621 19688  25078 11        \n",
       "6     0       -      ...  0      487 chr1  249250621 27542  28029  1        \n",
       "  blockSizes                                                                \n",
       "1 93,144,229,70,21,                                                         \n",
       "2 73,375,71,165,303,360,198,661,201,1,260,250,74,73,98,155,163,             \n",
       "3 690,10,32,33,376,4,5,15,5,11,7,41,277,859,141,51,443,1253,                \n",
       "4 99,352,286,24,49,14,6,5,8,149,14,44,98,12,10,355,837,59,8,1500,133,624,58,\n",
       "5 131,26,1300,6,4,11,4,7,358,3359,155,                                      \n",
       "6 487,                                                                      \n",
       "  qStarts                                                                                               \n",
       "1 34,132,278,541,611,                                                                                   \n",
       "2 87,165,540,647,818,1123,1484,1682,2343,2545,2546,2808,3058,3133,3206,3317,3472,                       \n",
       "3 44,735,746,779,813,1190,1195,1201,1217,1223,1235,1243,1285,1564,2423,2565,2617,3062,                  \n",
       "4 0,99,452,739,764,814,829,836,842,851,1001,1016,1061,1160,1173,1184,1540,2381,2441,2450,3951,4103,4728,\n",
       "5 0,132,159,1460,1467,1472,1484,1489,1497,1856,5244,                                                    \n",
       "6 0,                                                                                                    \n",
       "  tStarts                                                                                                                                   \n",
       "1 14361,14454,14599,14968,15795,                                                                                                            \n",
       "2 14381,14454,14969,15075,15240,15543,15903,16104,16853,17054,17232,17492,17914,17988,18267,24736,29320,                                    \n",
       "3 14399,15089,15099,15131,15164,15540,15544,15549,15564,15569,15580,15587,15628,15906,16857,16998,17049,17492,                              \n",
       "4 14406,20227,20579,20865,20889,20938,20952,20958,20963,20971,21120,21134,21178,21276,21288,21298,21653,22492,22551,22559,24059,24211,24835,\n",
       "5 19688,19819,19845,21145,21151,21155,21166,21170,21177,21535,24923,                                                                        \n",
       "6 27542,                                                                                                                                    "
      ]
     },
     "metadata": {},
     "output_type": "display_data"
    }
   ],
   "source": [
    "head(affyData)"
   ]
  },
  {
   "cell_type": "code",
   "execution_count": 25,
   "metadata": {
    "ExecuteTime": {
     "end_time": "2019-11-14T18:43:59.273215Z",
     "start_time": "2019-11-14T18:43:58.114Z"
    }
   },
   "outputs": [
    {
     "name": "stderr",
     "output_type": "stream",
     "text": [
      "Warning message in .local(conn, statement, ...):\n",
      "\"Unsigned INTEGER in col 0 imported as numeric\"\n",
      "Warning message in .local(conn, statement, ...):\n",
      "\"Unsigned INTEGER in col 1 imported as numeric\"\n",
      "Warning message in .local(conn, statement, ...):\n",
      "\"Unsigned INTEGER in col 2 imported as numeric\"\n",
      "Warning message in .local(conn, statement, ...):\n",
      "\"Unsigned INTEGER in col 3 imported as numeric\"\n",
      "Warning message in .local(conn, statement, ...):\n",
      "\"Unsigned INTEGER in col 4 imported as numeric\"\n",
      "Warning message in .local(conn, statement, ...):\n",
      "\"Unsigned INTEGER in col 5 imported as numeric\"\n",
      "Warning message in .local(conn, statement, ...):\n",
      "\"Unsigned INTEGER in col 6 imported as numeric\"\n",
      "Warning message in .local(conn, statement, ...):\n",
      "\"Unsigned INTEGER in col 7 imported as numeric\"\n",
      "Warning message in .local(conn, statement, ...):\n",
      "\"Unsigned INTEGER in col 8 imported as numeric\"\n",
      "Warning message in .local(conn, statement, ...):\n",
      "\"Unsigned INTEGER in col 11 imported as numeric\"\n",
      "Warning message in .local(conn, statement, ...):\n",
      "\"Unsigned INTEGER in col 12 imported as numeric\"\n",
      "Warning message in .local(conn, statement, ...):\n",
      "\"Unsigned INTEGER in col 13 imported as numeric\"\n",
      "Warning message in .local(conn, statement, ...):\n",
      "\"Unsigned INTEGER in col 15 imported as numeric\"\n",
      "Warning message in .local(conn, statement, ...):\n",
      "\"Unsigned INTEGER in col 16 imported as numeric\"\n",
      "Warning message in .local(conn, statement, ...):\n",
      "\"Unsigned INTEGER in col 17 imported as numeric\"\n",
      "Warning message in .local(conn, statement, ...):\n",
      "\"Unsigned INTEGER in col 18 imported as numeric\"\n"
     ]
    },
    {
     "data": {
      "text/html": [
       "<dl class=dl-horizontal>\n",
       "\t<dt>0%</dt>\n",
       "\t\t<dd>1</dd>\n",
       "\t<dt>25%</dt>\n",
       "\t\t<dd>1</dd>\n",
       "\t<dt>50%</dt>\n",
       "\t\t<dd>2</dd>\n",
       "\t<dt>75%</dt>\n",
       "\t\t<dd>2</dd>\n",
       "\t<dt>100%</dt>\n",
       "\t\t<dd>3</dd>\n",
       "</dl>\n"
      ],
      "text/latex": [
       "\\begin{description*}\n",
       "\\item[0\\textbackslash{}\\%] 1\n",
       "\\item[25\\textbackslash{}\\%] 1\n",
       "\\item[50\\textbackslash{}\\%] 2\n",
       "\\item[75\\textbackslash{}\\%] 2\n",
       "\\item[100\\textbackslash{}\\%] 3\n",
       "\\end{description*}\n"
      ],
      "text/markdown": [
       "0%\n",
       ":   125%\n",
       ":   150%\n",
       ":   275%\n",
       ":   2100%\n",
       ":   3\n",
       "\n"
      ],
      "text/plain": [
       "  0%  25%  50%  75% 100% \n",
       "   1    1    2    2    3 "
      ]
     },
     "metadata": {},
     "output_type": "display_data"
    }
   ],
   "source": [
    "options(warning=FALSE)\n",
    "query <- dbSendQuery(hg19,\"select * from affyU133Plus2 where misMatches between 1 and 3\")\n",
    "affyMis <- fetch(query); quantile(affyMis$misMatches)"
   ]
  },
  {
   "cell_type": "code",
   "execution_count": 26,
   "metadata": {
    "ExecuteTime": {
     "end_time": "2019-11-14T18:45:11.244315Z",
     "start_time": "2019-11-14T18:45:09.245Z"
    }
   },
   "outputs": [
    {
     "data": {
      "text/html": [
       "TRUE"
      ],
      "text/latex": [
       "TRUE"
      ],
      "text/markdown": [
       "TRUE"
      ],
      "text/plain": [
       "[1] TRUE"
      ]
     },
     "metadata": {},
     "output_type": "display_data"
    }
   ],
   "source": [
    "affymisSmall <- fetch(query,n=10); dbClearResult(query)"
   ]
  },
  {
   "cell_type": "code",
   "execution_count": 27,
   "metadata": {
    "ExecuteTime": {
     "end_time": "2019-11-14T18:45:34.952984Z",
     "start_time": "2019-11-14T18:45:34.925Z"
    }
   },
   "outputs": [
    {
     "data": {
      "text/html": [
       "<ol class=list-inline>\n",
       "\t<li>10</li>\n",
       "\t<li>22</li>\n",
       "</ol>\n"
      ],
      "text/latex": [
       "\\begin{enumerate*}\n",
       "\\item 10\n",
       "\\item 22\n",
       "\\end{enumerate*}\n"
      ],
      "text/markdown": [
       "1. 10\n",
       "2. 22\n",
       "\n",
       "\n"
      ],
      "text/plain": [
       "[1] 10 22"
      ]
     },
     "metadata": {},
     "output_type": "display_data"
    }
   ],
   "source": [
    "dim(affymisSmall)"
   ]
  },
  {
   "cell_type": "code",
   "execution_count": 28,
   "metadata": {
    "ExecuteTime": {
     "end_time": "2019-11-14T18:46:15.787641Z",
     "start_time": "2019-11-14T18:46:15.751Z"
    }
   },
   "outputs": [
    {
     "data": {
      "text/html": [
       "TRUE"
      ],
      "text/latex": [
       "TRUE"
      ],
      "text/markdown": [
       "TRUE"
      ],
      "text/plain": [
       "[1] TRUE"
      ]
     },
     "metadata": {},
     "output_type": "display_data"
    }
   ],
   "source": [
    "dbDisconnect(hg19)"
   ]
  },
  {
   "cell_type": "code",
   "execution_count": null,
   "metadata": {},
   "outputs": [],
   "source": []
  }
 ],
 "metadata": {
  "kernelspec": {
   "display_name": "R",
   "language": "R",
   "name": "ir"
  },
  "language_info": {
   "codemirror_mode": "r",
   "file_extension": ".r",
   "mimetype": "text/x-r-source",
   "name": "R",
   "pygments_lexer": "r",
   "version": "3.5.1"
  },
  "toc": {
   "base_numbering": 1,
   "nav_menu": {},
   "number_sections": true,
   "sideBar": true,
   "skip_h1_title": false,
   "title_cell": "Table of Contents",
   "title_sidebar": "Contents",
   "toc_cell": false,
   "toc_position": {},
   "toc_section_display": true,
   "toc_window_display": false
  },
  "varInspector": {
   "cols": {
    "lenName": 16,
    "lenType": 16,
    "lenVar": 40
   },
   "kernels_config": {
    "python": {
     "delete_cmd_postfix": "",
     "delete_cmd_prefix": "del ",
     "library": "var_list.py",
     "varRefreshCmd": "print(var_dic_list())"
    },
    "r": {
     "delete_cmd_postfix": ") ",
     "delete_cmd_prefix": "rm(",
     "library": "var_list.r",
     "varRefreshCmd": "cat(var_dic_list()) "
    }
   },
   "types_to_exclude": [
    "module",
    "function",
    "builtin_function_or_method",
    "instance",
    "_Feature"
   ],
   "window_display": false
  }
 },
 "nbformat": 4,
 "nbformat_minor": 2
}
